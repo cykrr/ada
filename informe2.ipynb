{
  "nbformat": 4,
  "nbformat_minor": 0,
  "metadata": {
    "colab": {
      "name": "Untitled8.ipynb",
      "provenance": [],
      "authorship_tag": "ABX9TyM0X2nzx/UkCIeSxs/GwAvw",
      "include_colab_link": true
    },
    "kernelspec": {
      "name": "python3",
      "display_name": "Python 3"
    },
    "language_info": {
      "name": "python"
    }
  },
  "cells": [
    {
      "cell_type": "markdown",
      "metadata": {
        "id": "view-in-github",
        "colab_type": "text"
      },
      "source": [
        "<a href=\"https://colab.research.google.com/github/cykrr/ada/blob/master/informe2.ipynb\" target=\"_parent\"><img src=\"https://colab.research.google.com/assets/colab-badge.svg\" alt=\"Open In Colab\"/></a>"
      ]
    },
    {
      "cell_type": "markdown",
      "source": [
        "# 1. Análisis del algoritmo MergeSort\n",
        "## 1.1 Problema de ordenamiento\n",
        "\n",
        "El problema de ordenamiento consiste en, valga la redundancia, ordenar un\n",
        "arreglo determinado de menor a mayor, o al revés. Naturalmente este puede\n",
        "ser resuelto computacionalmente por medio de distintos algoritmos de\n",
        "variable velocidad. Merge Sort es uno de estos algoritmos y será caso de\n",
        "estudio en el presente informe. Se implementará el algoritmo así como una\n",
        "salida detallada del proceso de ordenamiento, se comprobará la correctitud\n",
        "del mismo y se analizarán sus tiempos de ejecución en relación a otros\n",
        "algoritmos.\n",
        "\n",
        "Como todo algoritmo de ordenamiento, MergeSort recibe una entrada $A$ que\n",
        "se define como una secuencia de $n$ elementos.\n",
        "\n",
        "$$\n",
        "A = [a_1, a_2, ..., a_n]\n",
        "$$\n",
        "\n",
        "Luego de procesar los datos, se retorna un arreglo $A'$ con sus elementos\n",
        "ordenados secuencialmente.\n",
        "\n",
        "$$\n",
        "A' = [a'_1, a_2', ...,a_n']\n",
        "$$\n",
        "$$\n",
        "a_1' \\leq a_2' \\leq ... \\leq a_n'\n",
        "$$\n"
      ],
      "metadata": {
        "id": "MxsE08D-Jkn5"
      }
    },
    {
      "cell_type": "markdown",
      "source": [
        "## 1.2 Descripción del algoritmo \n",
        "\n",
        "Merge Sort está basado en el paradigma de diseño *\"divide y conquistarás\".* Se\n",
        "divide repetidamente el arreglo $A$ en subarreglos de longitud $n/2$. Se\n",
        "ordenan estos subarreglos por medio de recursión (se llama al mismo algoritmo\n",
        "para que resuelva el subarreglo). Posteriormente estos dos subarreglos son\n",
        "mezclados para entregar la solución final al problema.\n",
        "\n",
        "Para implementar el algoritmo entonces es necesario definir dos funciones.\n",
        "La función `mergeSort(A)` se encargará de recibir el arreglo y de realizar\n",
        "los llamados recursivos. Mientras que la función `merge(A, left, right)` se\n",
        "encargará de mezclar dos subarreglos `left, right` en el arreglo principal\n",
        "$A$.\n",
        "\n",
        "Con el fin de facilitar el análisis del algoritmo se añadirá un contador\n",
        "`compareCount` que cuenta el número de comparaciones que realiza la función\n",
        "`merge`. Así como el contador `mergeCount` que  contará el número de llamadas\n",
        "recursivas a la función `mergeSort()`;\n"
      ],
      "metadata": {
        "id": "ZS6ZU0p6KSnH"
      }
    },
    {
      "cell_type": "code",
      "source": [
        "from termcolor import cprint\n",
        "compareCount = 0;\n",
        "mergeCount = 0;"
      ],
      "metadata": {
        "id": "P2mt62riKuV-"
      },
      "execution_count": 28,
      "outputs": []
    },
    {
      "cell_type": "code",
      "source": [
        "\n",
        "\n",
        "def merge(a, l, r, Verbose = False):\n",
        "    global compareCount;\n",
        "    i = j = k = 0\n",
        "    while (i < len(l) and j < len(r)):\n",
        "        if Verbose:\n",
        "          print (\"Entre \", end = \"\")\n",
        "          cprint(l[i], \"red\", end = \"\")\n",
        "          print (\" y \", end = \"\")\n",
        "          cprint(r[j], \"green\", end = \"\")\n",
        "          print (\" guardamos el \", end = \"\")\n",
        "          \n",
        "        if l[i] > r[j]:\n",
        "            a[k] = r[j];\n",
        "            if Verbose:\n",
        "              cprint (r[j], \"red\")\n",
        "            j+=1\n",
        "        else:\n",
        "            a[k] = l[i]\n",
        "            if Verbose:\n",
        "              cprint (l[i], \"green\")\n",
        "            i+=1\n",
        "        compareCount += 1\n",
        "        k+=1\n",
        "    while (len(l) > i):\n",
        "        if Verbose:\n",
        "          print(\"Guardamos el \", end = \"\")\n",
        "          cprint (l[i], \"green\", end = \"\")\n",
        "          print (\" restante\")\n",
        "\n",
        "        a[k] = l[i]\n",
        "        compareCount += 1\n",
        "        i+=1\n",
        "        k+=1\n",
        "\n",
        "    while(len(r) > j):\n",
        "      if Verbose:\n",
        "        print(\"Guardamos el \", end = \"\")\n",
        "        cprint (r[j], \"red\", end = \"\")\n",
        "        print (\" restante\")\n",
        "      compareCount += 1\n",
        "      a[k] = r[j]\n",
        "      j+=1\n",
        "      k+=1\n",
        "\n",
        "    if Verbose:\n",
        "      print (a)   \n",
        "    return a\n",
        "\n",
        "def mergeSort(a, Verbose = False):\n",
        "    global mergeCount;\n",
        "    if compareCount == 0 and Verbose:\n",
        "      print(\"Ordenando el arreglo\", a);\n",
        "    n = len(a); # Obtenemos la longitud del arreglo\n",
        "    if n == 1: return a;\n",
        "    h = n//2;   # Obtenemos un punto medio en el arreglo\n",
        "\n",
        "\n",
        "    # Dividimos el arreglo\n",
        "    m1 = a[:h]  \n",
        "    m2 = a[h:]\n",
        "    if Verbose:\n",
        "      print(\"Sub-arreglos: \", end = \"\")\n",
        "      cprint( str(m1), \"red\", end=\" \")\n",
        "      cprint (m2, \"green\")\n",
        "    \n",
        "    # Ordenamos los sub-arreglos\n",
        "    m1 = mergeSort(m1, Verbose)\n",
        "    m2 = mergeSort(m2, Verbose)\n",
        "\n",
        "    mergeCount += 2; # Contamos las llamadas recursivas\n",
        "\n",
        "    return merge(a, m1, m2, Verbose)\n"
      ],
      "metadata": {
        "id": "Ao5d65tOKcPB"
      },
      "execution_count": 58,
      "outputs": []
    },
    {
      "cell_type": "markdown",
      "source": [
        "## 1.3 Ejemplo\n",
        "\n",
        "Dado un arreglo $L = [5,4,2,7]$ el ordenamiento por medio de MergeSort consistiría en, primero que nada buscar el punto intermedio $c = n//2$ (división entera). Como $n=4$ obtenemos entonces que $c = 2$. Dividimos el arreglo en el centro. Obteniendo que $L = [5,4]$ y $R = [2,7]$. Volvemos a aplicar la rutina para estos dos subarreglos. \n",
        "Dividimos $L$ en dos subarreglos de tamaño $1$ $L_L = [5]$ y $L_R[4]$ y los mezclamos por medio\n",
        "de la función `merge`. Añadiendo primero el menor obtenemos como resultado que $L = [4,5]$.\n",
        "\n",
        "Ahora con $R = [2,7]$. Lo dividimos en subarreglos de longitud $1$ $R_L = [2]$ y $R_R = [7]$. Nuevamente los mezclamos por medio de la función `merge`. Obteniendo como resultado el arreglo $R = [2,7]$.\n",
        "\n",
        "A estas alturas tanto $L$ como $R$ se encuentran ordenados. Por lo que aplicamos `merge` entre ambos.\n",
        "\n",
        "Comparamos los primeros elementos de cada uno. Entre $4$ y $2$ añademos el dos. Posteriormente comparamos el $7$\n",
        "con el $4$ anterior, así que añademos el $4$. Hasta ahora tenemos \n",
        "el arreglo final $A = [2, 4]$. Nos quedan solamente el $5$ en $L$ y el $7$ en $R$. Añademos el $5$ mientras que terminamos el primer ciclo. Obteniendo que $A = [2, 4, 5]$.\n",
        "\n",
        "Sin embargo todavía nos queda un elemento. El cual es recogido cuando terminamos el primer ciclo por dos ciclos auxiliaries. Añademos el $7$ y finaliza nuestra función `merge` y por tanto nuestro ordenamiento. Obtenemos que $A = [2,4, 5, 7]$.\n",
        "\n",
        "## 1.4 Ejemplo de ejecución con `Verbose`"
      ],
      "metadata": {
        "id": "xvswQUAiKbxz"
      }
    },
    {
      "cell_type": "code",
      "source": [
        "mergeCount = 0;\n",
        "mergeSort([5,4,2,7], True)"
      ],
      "metadata": {
        "colab": {
          "base_uri": "https://localhost:8080/"
        },
        "id": "vpCIsauSLOZm",
        "outputId": "64548c9f-c6e6-4bbb-8503-b2985ecebe7d"
      },
      "execution_count": 38,
      "outputs": [
        {
          "output_type": "stream",
          "name": "stdout",
          "text": [
            "Sub-arreglos: \u001b[31m[5, 4]\u001b[0m \u001b[32m[2, 7]\u001b[0m\n",
            "Sub-arreglos: \u001b[31m[5]\u001b[0m \u001b[32m[4]\u001b[0m\n",
            "Entre \u001b[31m5\u001b[0m y \u001b[32m4\u001b[0m guardamos el \u001b[31m4\u001b[0m\n",
            "Guardamos el \u001b[32m5\u001b[0m restante\n",
            "[4, 5]\n",
            "Sub-arreglos: \u001b[31m[2]\u001b[0m \u001b[32m[7]\u001b[0m\n",
            "Entre \u001b[31m2\u001b[0m y \u001b[32m7\u001b[0m guardamos el \u001b[32m2\u001b[0m\n",
            "Guardamos el \u001b[31m7\u001b[0m restante\n",
            "[2, 7]\n",
            "Entre \u001b[31m4\u001b[0m y \u001b[32m2\u001b[0m guardamos el \u001b[31m2\u001b[0m\n",
            "Entre \u001b[31m4\u001b[0m y \u001b[32m7\u001b[0m guardamos el \u001b[32m4\u001b[0m\n",
            "Entre \u001b[31m5\u001b[0m y \u001b[32m7\u001b[0m guardamos el \u001b[32m5\u001b[0m\n",
            "Guardamos el \u001b[31m7\u001b[0m restante\n",
            "[2, 4, 5, 7]\n"
          ]
        },
        {
          "output_type": "execute_result",
          "data": {
            "text/plain": [
              "[2, 4, 5, 7]"
            ]
          },
          "metadata": {},
          "execution_count": 38
        }
      ]
    },
    {
      "cell_type": "markdown",
      "source": [
        "MergeSort consiste en dividir el arreglo en dos subarreglos de tamaño $n/2$\n",
        "los cuales son ordenados dividiéndose en dos subarreglos cada uno (de longitud\n",
        "$n/4, n/8, ..., 1$). Así sucesivamente hasta llegar al caso base. El cual se da\n",
        "cuando la longitud del subarreglo a ordenar es de $1$ (que está ordenado).\n",
        "La función `merge` recibe los subarreglos y los ordena. Para esto\n",
        "recorre cada subarreglo por separado y compara sus elementos, añadiendo el menor.\n"
      ],
      "metadata": {
        "id": "EntNKYlVSTR_"
      }
    },
    {
      "cell_type": "markdown",
      "source": [
        "## 1.5 Correctitud de la subrutina `merge`\n",
        "\n",
        "El índice $k$ nos indica la posición actual por la\n",
        "que nos desplazamos en el arreglo de salida $A$,\n",
        "que está formado por los elementos $A[k .. n]$ siendo $n$ la suma entre $n_1$\n",
        "y $n_2$, que son la longitud del subarreglo ordenado izquierdo $L$ y  el derecho\n",
        "$R$ respectivamente.\n",
        "\n",
        "Planteamos como invariante de ciclo que el subarreglo $A[0..k]$ siempre estará ordenado.\n",
        "\n",
        "**Inicialización**: En una primera instancia el arreglo $A$ se encuentra vacío,\n",
        "así que está completamente ordenado. $k = 0$ por lo que el subarreglo $A[0..k]$\n",
        "tiene 0 elementos.\n",
        "\n",
        "**Mantención**: En la posición $k$ del arreglo $A$ se almacenará el menor de los\n",
        "elementos de los arreglos $L$ y $R$. Sabemos que estamos trabajando con el menor\n",
        "elemento ya que el arreglo $L$ y $R$ fueron previamente ordenados por la función\n",
        "`mergeSort()`.\n",
        "\n",
        "**Finalización**: El ciclo finaliza cuando $k= n_1 + n_2$. A estas alturas\n",
        "el subarreglo ordenado $A[0..k]$ constituye la totalidad del arreglo $A$. Por\n",
        "lo que la totalidad de $A$ está ordenado.\n",
        "\n",
        "## 1.6 Correctitud de la rutina mergeSort()\n",
        "\n",
        "Probar la correctitud de la función merge es un gran paso para saber si el\n",
        "algoritmo mergeSort es correcto. Definimos $P(n)$ como la hipótesis de que\n",
        "la función mergeSort ordena una secuencia de $n$ elementos de menor a mayor.\n",
        "\n",
        "### 1.6.3 Caso base \n",
        "\n",
        "Establecemos como caso base $P(1)$ como ordenar una secuencia de un elemento.\n",
        "Naturalmente, este arreglo está ordenado. Por lo que se cumple $P$ para $P(1)$.\n",
        "\n",
        "\n",
        "### 1.6.2 Paso inductivo\n",
        "\n",
        "Definimos $m$ como un tamaño de un subarreglo menor a $n$. Como por ejemplo\n",
        "$n/2$. Deducimos que $P(m)$ es correcto ya que sabemos que la función\n",
        "`merge` es correcta, lo que quiere decir que podemos asumir que los subarreglos\n",
        "han sido ordenados de manera correcta (Sabiendo que se construye desde el\n",
        "caso base). Debido a que $P(m)$ es correcto podemos concluir que $P(n)$ lo es.\n",
        "Ya que $m<n$.\n"
      ],
      "metadata": {
        "id": "C3FgtzHmSWGa"
      }
    },
    {
      "cell_type": "markdown",
      "source": [
        "\n",
        "## 1.7 Tiempo de ejecución del algoritmo\n",
        "\n",
        "Definimos $T(n)$ como aquella función que nos retorna el tiempo de ejecución\n",
        "de la función `mergeSort()`. Como sabemos, la función `mergeSort` realiza dos\n",
        "llamadas recursivas y una llamada a la función `merge`.\n",
        "\n",
        "### 1.7.1 Tiempo de ejecución de la subrutina `merge`\n",
        "\n",
        "La función Merge busca el menor elemento entre los dos arreglos iterándolos\n",
        "hasta que uno de los dos se acabe por medio de un ciclo while el cual toma\n",
        "$O(n_1 || n_2)$ = $O(n)$. Para finalizar otro ciclo while recorre los $n$\n",
        "elementos restantes. De esto obtenemos que el tiempo de ejecución de la\n",
        "función merge es $O(n)$\n",
        "\n",
        "\n",
        "### 1.7.2 Tiempo de ejecución de la rutina `mergeSort`\n",
        "\n",
        "Ahora que se conoce el tiempo de ejecución de Merge sabemos que el\n",
        "tiempo de ejecución de mergeSort $T(n)$ está condicionado por dos llamadas\n",
        "recursivas $T(n/2)$ así como de la función merge de tiempo $O(n)$. Quedando\n",
        "de la siguiente manera (descartamos aquellas instrucciones de tiempo constante $c$)\n",
        "\n",
        "$$\n",
        "T(n) = T(n/2) + T(n/2) + O(n)\n",
        "$$\n",
        "\n",
        "$$\n",
        "T(n) = 2T(n/2) + O(n)\n",
        "$$\n",
        "\n",
        "Podemos obtener el tiempo de ejecución de la función `mergeSort` analizando su\n",
        "árbol de recursividad\n"
      ],
      "metadata": {
        "id": "T8Aczv-LTAsA"
      }
    },
    {
      "cell_type": "markdown",
      "source": [
        "![](https://cdn.kastatic.org/ka-perseus-images/5fcbebf66560d8fc490de2a0d8a0e5b1d65c5c54.png)"
      ],
      "metadata": {
        "id": "w3wGGIzpTYAq"
      }
    },
    {
      "cell_type": "markdown",
      "source": [
        "Observemos que la suma de cada nivel es de $cn$. Como la función `mergeSort`\n",
        "divide cada subarreglo en dos partes de longitud $n/2$ hasta llegar al caso\n",
        "base, podemos decir que la altura de este árbol es de $log(n)$. Por lo que\n",
        "el tiempo de ejecución total sería base por altura $cn \\cdot log(n)$. De\n",
        "esto concluimos que el tiempo de ejecución de la función `mergeSort` es de\n",
        "$O(n\\log(n))$.\n"
      ],
      "metadata": {
        "id": "v3nNfx29TdY9"
      }
    },
    {
      "cell_type": "markdown",
      "source": [
        "## 1.8 Experimentos\n",
        "\n",
        "### 1.8.1. Variación entre el número de comparaciones con el mejor y peor caso teóricos\n",
        "\n",
        "\n"
      ],
      "metadata": {
        "id": "mwMkzTj9TgCF"
      }
    },
    {
      "cell_type": "code",
      "source": [
        "from random import randint, sample\n",
        "from matplotlib import pyplot as plt\n",
        "from math import log2\n",
        "samples = 500;\n",
        "\n",
        "worst = best = [n * log2(n) for n in range(1, samples)];\n",
        "\n",
        "\n",
        "x = [n for n in range(1, samples)];\n",
        "out = []\n",
        "\n",
        "for n in range (1, samples):\n",
        "    \n",
        "    a = sample(range(1, samples), n)\n",
        "#    print(\"n\", n, a)\n",
        "    compareCount = 0\n",
        "    mergeSort(a);\n",
        "    # print(compareCount)\n",
        "    out.append(compareCount)\n",
        "\n",
        "plt.plot (x, worst)\n",
        "plt.plot (x, best)\n",
        "plt.plot(x, out)\n",
        "plt.legend([\"Peor caso\", \"Mejor caso\", \"MergeSort\"])\n",
        "plt.show()"
      ],
      "metadata": {
        "id": "EfoS2U20T212"
      },
      "execution_count": null,
      "outputs": []
    },
    {
      "cell_type": "markdown",
      "source": [
        "#### 1.8.1.1 Peor caso teórico\n",
        "\n",
        "El peor caso se dará cuando mergeSort tenga que realizar la mayor cantidad de\n",
        "comparaciones. Esto se da cuando los subarreglos $L$ y $R$ tienen elementos\n",
        "alternados entre sí. Consideremos por ejemplo los arreglos $L = [1,3,5]$ y\n",
        "$R = [2,4,6]$. En este caso cada elemento deberá ser comparado al menos una\n",
        "vez con cada elemento\n",
        "\n",
        "\n",
        "#### 1.8.1.2 Mejor caso teórico \n",
        "\n",
        "El mejor caso se da cuando el mayor elemento de uno de los subarreglos es menor\n",
        "que el primer elemento del otro subarreglo. Esto reduce el número de comparaciones\n",
        "de cada paso en el Merge a $n/2$.\n",
        "\n",
        "Si bien tanto el mejor como el peor caso presentan variaciones en el tiempo de ejecución\n",
        "En la función merge, estas variaciones no son suficientes para cambiar el tiempo\n",
        "de ejecución del algoritmo. Es decir, tanto como para el mejor como para el peor\n",
        "caso el tiempo de ejecución de la subrutina merge seguirá siendo $O(n)$.\n",
        "\n"
      ],
      "metadata": {
        "id": "b4jZRTiWUAzE"
      }
    },
    {
      "cell_type": "markdown",
      "source": [
        "### 1.8.2 Comparación con la rutina insertionSort\n"
      ],
      "metadata": {
        "id": "bIVl9cU9UgbF"
      }
    },
    {
      "cell_type": "code",
      "source": [
        "\n",
        "def b_sort(A):\n",
        "    global compareCount;\n",
        "    aux = 0\n",
        "    for i in range (len(A) - 1):\n",
        "        swap = False\n",
        "        for j in range (len(A) - i - 1):\n",
        "            compareCount += 1\n",
        "            aux+=1\n",
        "            if (A[i] < A[j]):\n",
        "                A[i], A[j] = A[j], A[i]\n",
        "                swap = True\n",
        "        if not swap:\n",
        "            return aux\n",
        "    return aux\n",
        "def ins_sort(A):\n",
        "    global compareCount;\n",
        "    aux = 0 \n",
        "    for i in range(len(A)):\n",
        "        j = i\n",
        "        aux +=1\n",
        "        while (A[j] < A[j-1] and j > 0):\n",
        "            A[j], A[j-1] = A[j-1], A[j]\n",
        "            aux +=1\n",
        "            j -=1\n",
        "    return aux;\n",
        "\n",
        "def merge2(a, l, r):\n",
        "    global compareCount;\n",
        "    i = j = k = 0\n",
        "    while (i < len(l) and j < len(r)):\n",
        "        if l[i] > r[j]:\n",
        "            a[k] = r[j];\n",
        "            j+=1\n",
        "        else:\n",
        "            a[k] = l[i]\n",
        "            i+=1\n",
        "        compareCount += 1\n",
        "        k+=1\n",
        "    while (len(l) > i):\n",
        "        compareCount += 1\n",
        "        #print(\"outer\", l[i])\n",
        "        a[k] = l[i]\n",
        "        i+=1\n",
        "        k+=1\n",
        "\n",
        "    while(len(r) > j):\n",
        "        compareCount += 1\n",
        "        #print(\"outer\", r[j])\n",
        "        a[k] = r[j]\n",
        "        j+=1\n",
        "        k+=1\n",
        "    return a\n",
        "\n",
        "def merge_sort(a):\n",
        "    global mergeCount;\n",
        "    n = len(a); # Obtenemos la longitud del arreglo\n",
        "    if n == 1: return a;\n",
        "    h = n//2;   # Obtenemos un punto medio en el arreglo\n",
        "\n",
        "\n",
        "    # Dividimos el arreglo\n",
        "    m1 = a[:h]  \n",
        "    m2 = a[h:]\n",
        "\n",
        "    #print(a, m1, m2)\n",
        "    \n",
        "    # Ordenamos los sub-arreglos\n",
        "    m1 = merge_sort(m1)\n",
        "    m2 = merge_sort(m2)\n",
        "\n",
        "    mergeCount += 2; # Contamos las llamadas recursivas\n",
        "\n",
        "    return merge2(a, m1, m2)\n",
        "    \n",
        "\n",
        "\n",
        "x = [n for n in range(1, samples)];\n",
        "out = []\n",
        "out2 = []\n",
        "out3 = []\n",
        "\n",
        "for n in range (1, samples):\n",
        "    \n",
        "    a = sample(range(1, samples), n)\n",
        "#    print(\"n\", n, a)\n",
        "    compareCount = 0\n",
        "    merge_sort(a);\n",
        "#    print(compareCount)\n",
        "    out.append(compareCount)\n",
        "    out2.append(ins_sort(a))\n",
        "    out3.append(b_sort(a))\n",
        "\n",
        "\n",
        "plt.plot(x, out)\n",
        "plt.plot(x, out2)\n",
        "plt.plot(x, out3)\n",
        "plt.legend([\"MergeSort\", \"InsertionSort\", \"Bubble Sort\"])\n",
        "plt.show()\n"
      ],
      "metadata": {
        "colab": {
          "base_uri": "https://localhost:8080/",
          "height": 265
        },
        "id": "-RtEgP3WUBTl",
        "outputId": "4204f42f-dff0-44fd-d219-4149e0fa68ff"
      },
      "execution_count": 86,
      "outputs": [
        {
          "output_type": "display_data",
          "data": {
            "text/plain": [
              "<Figure size 432x288 with 1 Axes>"
            ],
            "image/png": "[encoded data removed]"
          },
          "metadata": {
            "needs_background": "light"
          }
        }
      ]
    },
    {
      "cell_type": "code",
      "source": [
        "from timeit import repeat\n",
        "x = [n for n in range(10, 1000)]\n",
        "ym = []\n",
        "yi = []\n",
        "for i in range(10, 1000):\n",
        "   a = sample(range(1, samples), n)\n",
        "   t = repeat(setup=\"from __main__ import merge_sort\", stmt=f\"merge_sort({a})\", repeat=1, number=10)\n",
        "   ym.append(t)\n",
        "   t = repeat(setup = \"from __main__ import ins_sort\", stmt = f\"ins_sort({a})\", repeat = 1, number = 10)\n",
        "   yi.append(t)\n",
        "plt.plot(x, yi)\n",
        "plt.plot(x, ym)\n",
        "plt.legend([\"Insertion (ms)\", \"Merge (ms)\"])\n",
        "plt.show()"
      ],
      "metadata": {
        "colab": {
          "base_uri": "https://localhost:8080/",
          "height": 265
        },
        "id": "29Y3KZi1WGWG",
        "outputId": "23cbb50b-5b57-46f2-ed05-04794a177b2f"
      },
      "execution_count": 99,
      "outputs": [
        {
          "output_type": "display_data",
          "data": {
            "text/plain": [
              "<Figure size 432x288 with 1 Axes>"
            ],
            "image/png": "[encoded data removed]"
          },
          "metadata": {
            "needs_background": "light"
          }
        }
      ]
    },
    {
      "cell_type": "markdown",
      "source": [
        "### 1.8.3 Análisis e interpretación de la información\n",
        "\n",
        "Si bien se puede asumir en una primera instancia que insertionSort es más rápido\n",
        "al graficar el número de comparaciones, lo cierto es que si analizamos el tiempo de\n",
        "ejecución es muchos ordenes menor el de MergeSort. Esto es debido a que el \n",
        "algoritmo mergeSort tiene una complejidad menor de $O(nlog_2(n))$ A diferencia\n",
        "de $O(n^2)$ En el caso promedio del InsertionSort\n",
        "\n",
        "En el primer gráfico observamos que no hay variación entre un caso cualquiera y el mejor / peor caso. Esto es debido a que, independiente del orden del arreglo su complejidad seguirá siendo $O(nlog_2(n)$."
      ],
      "metadata": {
        "id": "AfafPXoVeO5H"
      }
    },
    {
      "cell_type": "code",
      "source": [
        ""
      ],
      "metadata": {
        "id": "qP_0NON6asue"
      },
      "execution_count": null,
      "outputs": []
    }
  ]
}