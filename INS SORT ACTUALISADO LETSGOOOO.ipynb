{
  "nbformat": 4,
  "nbformat_minor": 0,
  "metadata": {
    "colab": {
      "name": "Untitled7.ipynb",
      "provenance": [],
      "include_colab_link": true
    },
    "kernelspec": {
      "name": "python3",
      "display_name": "Python 3"
    },
    "language_info": {
      "name": "python"
    }
  },
  "cells": [
    {
      "cell_type": "markdown",
      "metadata": {
        "id": "view-in-github",
        "colab_type": "text"
      },
      "source": [
        "<a href=\"https://colab.research.google.com/github/cykrr/ada/blob/master/INS%20SORT%20ACTUALISADO%20LETSGOOOO.ipynb\" target=\"_parent\"><img src=\"https://colab.research.google.com/assets/colab-badge.svg\" alt=\"Open In Colab\"/></a>"
      ]
    },
    {
      "cell_type": "markdown",
      "source": [
        "# Problema de ordenamiento\n",
        "\n",
        "El problema de ordenamiento es uno de los problemas más estudiados en el campo\n",
        "de las ciencias de la computación. Este es resuelto por medio de variados\n",
        "algoritmos que se comportan de mejor o peor manera dependiendo del arreglo a\n",
        "ordenar. En el presente informe se analizará el comportamiento del algoritmo\n",
        "**Insertion Sort** .\n",
        "\n",
        "**Entrada**: Secuencia de n elementos $[a_1, a_2, ..., a_n]$\n",
        "\n",
        "**Salida**: Permutación ordenada de la secuencia de entrada: $[a_1', a_2', ..., a_n']$\n",
        "con $a_1' \\leq a_2' \\leq ... \\leq a_n'$\n",
        "\n",
        "## Descripción del algoritmo\n",
        "\n",
        "El Insertion Sort consiste en recorrer el arreglo de izquierda a derecha. Cada\n",
        "elemento será comparado con los elementos a su izquierda y reubicado hasta que su\n",
        "posición sea la correcta.\n",
        "\n",
        "Se recibe una lista $a$ con una serie de $n$ elementos a ser ordenados. Estos son\n",
        "ordenados dentro de la misma lista.\n",
        "\n",
        "- InsertionSort(A):\n",
        "  - Se itera $i$ desde $1$ hasta $n$\n",
        "    - Se itera $j$ de $i$ hasta $0$\n",
        "      - Si el j-ésimo elemento del arreglo es menor que el elemento $A[j-1]$ del\n",
        "      arreglo, intercambiamos su posición\n",
        "\n",
        "## Insertion Sort\n",
        "\n",
        "\n"
      ],
      "metadata": {
        "id": "RBmbFoDECIVy"
      }
    },
    {
      "cell_type": "code",
      "source": [
        "from termcolor import cprint\n",
        "def p(A, n ,s1 = -1, s2 = -1):\n",
        "    for i in range(len(A)):\n",
        "        if (n == i): cprint (A[i], \"red\", end = \" \")\n",
        "        elif (i < n): cprint(A[i], \"green\", end = \" \")\n",
        "        else: print(A[i], end = \" \")\n",
        "    print()\n",
        "\n",
        "def sort(a: list, verbose: bool = False):\n",
        "    aux = 0\n",
        "    n = len(a)\n",
        "    if verbose: print(\"Arreglo\", a, \":\")\n",
        "    for i in range(1, n):\n",
        "        if verbose: p(a, i)\n",
        "        j = i\n",
        "        aux+=1\n",
        "        while (a[j] < a[j-1] and j > 0):\n",
        "            a[j], a[j-1] = a[j-1], a[j]\n",
        "            \n",
        "            if verbose:\n",
        "                print (f\"Intercambiamos: ({a[j]},{a[j-1]})\")\n",
        "            j -= 1\n",
        "            if j == 0: break\n",
        "            aux+=1\n",
        "    return a, aux\n",
        "\n"
      ],
      "metadata": {
        "id": "VjKiRQ0wCQzq"
      },
      "execution_count": 9,
      "outputs": []
    },
    {
      "cell_type": "markdown",
      "source": [
        "\n",
        "## Análisis del algoritmo\n",
        "\n",
        "Añadiremos una variable auxiliar para obtener la\n",
        "cantidad de veces que el agoritmo debe retroceder\n",
        "al realizar el ordenamiento. A mayor el valor de\n",
        "esta variable auxiliar, peor será el caso\n",
        "correspondiente.\n",
        "\n",
        "## Ejemplo\n",
        "\n",
        "Sea $a = [\\color{blue}{8}\\color{reset}, 3, 7, 5, 9]$\n",
        "\n",
        "Partimos de izquierda a derecha. Podemos decir que el\n",
        "primer elemento esta ordenado ya que no tiene ningún\n",
        "elemento menor a su izquierda, así que la primera\n",
        "iteración parte del segundo valor. Con el objetivo de facilitar\n",
        "la lectura los elementos ordenados tendrán el color azul y el\n",
        "elemento actual ($A[i])$ tendrá  color rojo.\n",
        "\n",
        "$a = [\\color {blue} 3, \\color {red} 8 \\color {reset}, 7, 5, 9]$\n",
        "\n",
        "El $3$ es menor que el $8$. Para llevarlo a su\n",
        "posición correspondiente lo desplazamos una casilla\n",
        "hacia la derecha.\n",
        "\n",
        "$a = [\\color {blue} 3, 8 \\color {reset}, \\color {red}\n",
        "7 \\color {reset}, 5, 9]$\n",
        "\n",
        "El $7$ necesita ser reubicado, al igual que el $8$ lo\n",
        "desplazamos una posición a la izquierda\n",
        "\n",
        "$a = [\\color {blue} 3, 7, 8 \\color {reset},\n",
        "\\color {red} 5 \\color {reset}, 9]$\n",
        "\n",
        "El cinco necesita desplazarse dos posiciones para\n",
        "llegar a su posición ideal\n",
        "\n",
        "$a = [\\color {blue} 3, 7, \\color {red}5 \\color {reset}, 8, 9]$\n",
        "\n",
        "$a = [\\color {blue} 3, \\color {red}5 \\color {blue} , 7, 8, 9]$\n",
        "\n",
        "$a = [\\color {blue} 3, 5 , 7, 8,\\color {red} 9\\color {reset}]$\n",
        "\n",
        "Ya en la última posición el arreglo se encuentra completamente ordenado\n",
        "\n",
        "\n",
        "## Ejemplo de ejecución `verbose = true`"
      ],
      "metadata": {
        "id": "7r8bPsM8CmAe"
      }
    },
    {
      "cell_type": "code",
      "source": [
        "print(sort([9,8,7,6,5,4,3,2,1], True))"
      ],
      "metadata": {
        "colab": {
          "base_uri": "https://localhost:8080/"
        },
        "id": "GbNohPYKCwWG",
        "outputId": "95fa1116-dd07-4e05-f5d2-7e7c39e12300"
      },
      "execution_count": 2,
      "outputs": [
        {
          "output_type": "stream",
          "name": "stdout",
          "text": [
            "Arreglo [9, 8, 7, 6, 5, 4, 3, 2, 1] :\n",
            "9 8 7 6 5 4 3 2 1 \n",
            "Intercambiamos: (9,8)\n",
            "8 9 7 6 5 4 3 2 1 \n",
            "Intercambiamos: (9,7)\n",
            "Intercambiamos: (8,7)\n",
            "7 8 9 6 5 4 3 2 1 \n",
            "Intercambiamos: (9,6)\n",
            "Intercambiamos: (8,6)\n",
            "Intercambiamos: (7,6)\n",
            "6 7 8 9 5 4 3 2 1 \n",
            "Intercambiamos: (9,5)\n",
            "Intercambiamos: (8,5)\n",
            "Intercambiamos: (7,5)\n",
            "Intercambiamos: (6,5)\n",
            "5 6 7 8 9 4 3 2 1 \n",
            "Intercambiamos: (9,4)\n",
            "Intercambiamos: (8,4)\n",
            "Intercambiamos: (7,4)\n",
            "Intercambiamos: (6,4)\n",
            "Intercambiamos: (5,4)\n",
            "4 5 6 7 8 9 3 2 1 \n",
            "Intercambiamos: (9,3)\n",
            "Intercambiamos: (8,3)\n",
            "Intercambiamos: (7,3)\n",
            "Intercambiamos: (6,3)\n",
            "Intercambiamos: (5,3)\n",
            "Intercambiamos: (4,3)\n",
            "3 4 5 6 7 8 9 2 1 \n",
            "Intercambiamos: (9,2)\n",
            "Intercambiamos: (8,2)\n",
            "Intercambiamos: (7,2)\n",
            "Intercambiamos: (6,2)\n",
            "Intercambiamos: (5,2)\n",
            "Intercambiamos: (4,2)\n",
            "Intercambiamos: (3,2)\n",
            "2 3 4 5 6 7 8 9 1 \n",
            "Intercambiamos: (9,1)\n",
            "Intercambiamos: (8,1)\n",
            "Intercambiamos: (7,1)\n",
            "Intercambiamos: (6,1)\n",
            "Intercambiamos: (5,1)\n",
            "Intercambiamos: (4,1)\n",
            "Intercambiamos: (3,1)\n",
            "Intercambiamos: (2,1)\n",
            "([1, 2, 3, 4, 5, 6, 7, 8, 9], 36)\n"
          ]
        }
      ]
    },
    {
      "cell_type": "markdown",
      "source": [
        "\n",
        "## Propiedad invariante del bucle\n",
        "\n",
        "Para demostrar la correctitud del algoritmo es necesario\n",
        "establecer condiciones que se cumplan a lo largo de la\n",
        "ejecución del algoritmo.\n",
        "\n",
        "En el caso del InsertionSort recorremos los elementos del\n",
        "arreglo $a$ con un contador $i$. A mano izquierda de la\n",
        "posición $a[i]$ se forma un subarreglo ordenado de longitud $i$.\n",
        "\n",
        "\n",
        "Porpiedad invariante: El subarreglo $a[i-1]$ está ordenado.\n",
        "\n",
        "Inicialización: $i=0$ por lo que el arreglo no contiene elementos.\n",
        "\n",
        "Mantención: nos aseguramos de que este subarreglo\n",
        "se mantenga ordenado con la ayuda de un contador $j$, si se encuentra un\n",
        "elemento $A[j]$ mayor que $A[j-1]$ se desplazará hasta que $A[j-1]$ sea menor\n",
        "que $A[j]$.\n",
        "\n",
        "\n",
        "Finalización:\n",
        "El algoritmo concluye una vez que $i = n - 1$. Como antes de finalizar la última\n",
        "iteración nos aseguramos de que el último elemento se desplaza a su posición\n",
        "correspondiente entonces podemos afirmar que el subarreglo se encuentra\n",
        "completamente ordenado. Como sabemos que el tamaño del subarreglo es de\n",
        "$i$ y que $i = n + 1$ Podemos decir que la longitud del subarreglo ordenado\n",
        "es de $n$ y por ende que todo el arreglo está ordenado.\n",
        "\n",
        "## Tiempo de ejecución\n",
        "\n",
        "El tiempo de ejecución de InsertionSort está condicionado tanto por el orden\n",
        "los valores como de la longitud del arreglo.\n",
        "\n",
        "### Peor caso\n",
        "\n",
        "El peor caso se da cuando el arreglo está en un orden inverso al orden objetivo\n",
        "debido a que cada elemento debe desplazarse $i$ posiciones en cada iteración. En\n",
        "concreto se realizarán $\\sum_{i = 1}^n i$ permutaciones. O lo que es lo mismo,\n",
        "$\\cfrac {n(n-1)} {2}$. De esto podemos concluir que el tiempo de ejecución en el\n",
        "peor caso es de $O(n^2)$\n",
        "\n",
        "### Mejor caso\n",
        "\n",
        "El mejor caso se da cuando el arreglo está completamente ordenado ya que no\n",
        "se realiza ninguna comparación y por ende ningún intercambio. Al no realizar\n",
        "permutaciones podemos decir que el tiempo de ejecución del mejor caso es de\n",
        "$O(n)$. Esto hace que el InsertionSort sea una excelente opción cuando el\n",
        "arreglo a ordenar está mayoritaria o completamente ordenado.\n",
        "\n",
        "\n",
        "\n"
      ],
      "metadata": {
        "id": "2lFwcJtDC4Y4"
      }
    },
    {
      "cell_type": "code",
      "source": [
        "import random\n",
        "from matplotlib import pyplot as plt\n",
        "def b_sort(A):\n",
        "    aux = 0\n",
        "    for i in range (len(A) - 1):\n",
        "        swap = False\n",
        "        for j in range (len(A) - i - 1):\n",
        "            aux += 1\n",
        "            if (A[i] < A[j]):\n",
        "                A[i], A[j] = A[j], A[i]\n",
        "                swap = True\n",
        "        if not swap:\n",
        "            return A, aux\n",
        "    return A, aux\n",
        "def ins_sort(A):\n",
        "    aux = 0\n",
        "    for i in range(len(A)):\n",
        "        j = i\n",
        "        aux +=1\n",
        "        while (A[j] < A[j-1] and j > 0):\n",
        "            A[j], A[j-1] = A[j-1], A[j]\n",
        "            aux +=1\n",
        "            j -=1\n",
        "    return A, aux;\n",
        "\n",
        "\n",
        "print(ins_sort(list(range(10))))\n",
        "\n",
        "y = []\n",
        "y2 = []\n",
        "samples = 100\n",
        "x = [n for n in range (10, samples)]\n",
        "\n",
        "for n in range(10, samples):\n",
        "    arr = list(range(1, n))\n",
        "    a, count = ins_sort(arr)\n",
        "    y.append(count);\n",
        "    a, count = ins_sort(arr[::-1])\n",
        "    y2.append(count);\n",
        "\n",
        "plt.plot(x, y)\n",
        "plt.plot(x, y2)\n",
        "\n",
        "plt.legend([\"worst\", \"best\"])\n",
        "plt.show()"
      ],
      "metadata": {
        "colab": {
          "base_uri": "https://localhost:8080/",
          "height": 287
        },
        "id": "6p1B_6qCC4JN",
        "outputId": "9fd3fb68-0c48-43a5-beca-c051e650f559"
      },
      "execution_count": 18,
      "outputs": [
        {
          "output_type": "stream",
          "name": "stdout",
          "text": [
            "([0, 1, 2, 3, 4, 5, 6, 7, 8, 9], 10)\n"
          ]
        },
        {
          "output_type": "display_data",
          "data": {
            "text/plain": [
              "<Figure size 432x288 with 1 Axes>"
            ],
            "image/png": "[encoded data removed]"
          },
          "metadata": {
            "needs_background": "light"
          }
        }
      ]
    },
    {
      "cell_type": "markdown",
      "source": [
        "\n",
        "Como podemos observar, el tiempo de ejecución es mayor si el arreglo está ordenado alrevés. Esto es debido a que por cada elemento del arreglo se realizarán $n$ iteraciones para que este llegue a la posición correcta. Lo que significa en un tiempo O(N^2) para el peor caso a diferencia del mejor caso O(N)"
      ],
      "metadata": {
        "id": "1xvrEWSKDHKz"
      }
    },
    {
      "cell_type": "markdown",
      "source": [
        "## Arreglo casi ordenado"
      ],
      "metadata": {
        "id": "eBUMb-jzC_F3"
      }
    },
    {
      "cell_type": "code",
      "source": [
        "import random\n",
        "from matplotlib import pyplot as plt\n",
        "def b_sort(A):\n",
        "    aux = 0\n",
        "    for i in range (len(A) - 1):\n",
        "        swap = False\n",
        "        for j in range (len(A) - i - 1):\n",
        "            aux += 1\n",
        "            if (A[i] < A[j]):\n",
        "                A[i], A[j] = A[j], A[i]\n",
        "                swap = True\n",
        "        if not swap:\n",
        "            return A, aux\n",
        "    return A, aux\n",
        "def ins_sort(A):\n",
        "    aux = 0\n",
        "    for i in range(len(A)):\n",
        "        j = i\n",
        "        aux +=1\n",
        "        while (A[j] < A[j-1] and j > 0):\n",
        "            A[j], A[j-1] = A[j-1], A[j]\n",
        "            aux +=1\n",
        "            j -=1\n",
        "    return A, aux;\n",
        "\n",
        "\n",
        "print(ins_sort(list(range(10))))\n",
        "\n",
        "y = []\n",
        "y2 = []\n",
        "samples = 100\n",
        "x = [n for n in range (10, samples)]\n",
        "\n",
        "for n in range(10, samples):\n",
        "    arr = list(range(1, n))\n",
        "\n",
        "    arr[n-10], arr[n-5] = arr[n-5], arr[n-10]\n",
        "    print(arr)\n",
        "    a, count = ins_sort(arr)\n",
        "    y.append(count);\n",
        "   \n",
        "\n",
        "plt.plot(x, y)\n",
        "\n",
        "plt.legend([\"almost\"])\n",
        "plt.show()"
      ],
      "metadata": {
        "id": "u-Wli4pNDINR",
        "outputId": "0bc0a021-5eeb-4a0e-80d5-65705769496e",
        "colab": {
          "base_uri": "https://localhost:8080/",
          "height": 1000
        }
      },
      "execution_count": 24,
      "outputs": [
        {
          "output_type": "stream",
          "name": "stdout",
          "text": [
            "([0, 1, 2, 3, 4, 5, 6, 7, 8, 9], 10)\n",
            "[6, 2, 3, 4, 5, 1, 7, 8, 9]\n",
            "[1, 7, 3, 4, 5, 6, 2, 8, 9, 10]\n",
            "[1, 2, 8, 4, 5, 6, 7, 3, 9, 10, 11]\n",
            "[1, 2, 3, 9, 5, 6, 7, 8, 4, 10, 11, 12]\n",
            "[1, 2, 3, 4, 10, 6, 7, 8, 9, 5, 11, 12, 13]\n",
            "[1, 2, 3, 4, 5, 11, 7, 8, 9, 10, 6, 12, 13, 14]\n",
            "[1, 2, 3, 4, 5, 6, 12, 8, 9, 10, 11, 7, 13, 14, 15]\n",
            "[1, 2, 3, 4, 5, 6, 7, 13, 9, 10, 11, 12, 8, 14, 15, 16]\n",
            "[1, 2, 3, 4, 5, 6, 7, 8, 14, 10, 11, 12, 13, 9, 15, 16, 17]\n",
            "[1, 2, 3, 4, 5, 6, 7, 8, 9, 15, 11, 12, 13, 14, 10, 16, 17, 18]\n",
            "[1, 2, 3, 4, 5, 6, 7, 8, 9, 10, 16, 12, 13, 14, 15, 11, 17, 18, 19]\n",
            "[1, 2, 3, 4, 5, 6, 7, 8, 9, 10, 11, 17, 13, 14, 15, 16, 12, 18, 19, 20]\n",
            "[1, 2, 3, 4, 5, 6, 7, 8, 9, 10, 11, 12, 18, 14, 15, 16, 17, 13, 19, 20, 21]\n",
            "[1, 2, 3, 4, 5, 6, 7, 8, 9, 10, 11, 12, 13, 19, 15, 16, 17, 18, 14, 20, 21, 22]\n",
            "[1, 2, 3, 4, 5, 6, 7, 8, 9, 10, 11, 12, 13, 14, 20, 16, 17, 18, 19, 15, 21, 22, 23]\n",
            "[1, 2, 3, 4, 5, 6, 7, 8, 9, 10, 11, 12, 13, 14, 15, 21, 17, 18, 19, 20, 16, 22, 23, 24]\n",
            "[1, 2, 3, 4, 5, 6, 7, 8, 9, 10, 11, 12, 13, 14, 15, 16, 22, 18, 19, 20, 21, 17, 23, 24, 25]\n",
            "[1, 2, 3, 4, 5, 6, 7, 8, 9, 10, 11, 12, 13, 14, 15, 16, 17, 23, 19, 20, 21, 22, 18, 24, 25, 26]\n",
            "[1, 2, 3, 4, 5, 6, 7, 8, 9, 10, 11, 12, 13, 14, 15, 16, 17, 18, 24, 20, 21, 22, 23, 19, 25, 26, 27]\n",
            "[1, 2, 3, 4, 5, 6, 7, 8, 9, 10, 11, 12, 13, 14, 15, 16, 17, 18, 19, 25, 21, 22, 23, 24, 20, 26, 27, 28]\n",
            "[1, 2, 3, 4, 5, 6, 7, 8, 9, 10, 11, 12, 13, 14, 15, 16, 17, 18, 19, 20, 26, 22, 23, 24, 25, 21, 27, 28, 29]\n",
            "[1, 2, 3, 4, 5, 6, 7, 8, 9, 10, 11, 12, 13, 14, 15, 16, 17, 18, 19, 20, 21, 27, 23, 24, 25, 26, 22, 28, 29, 30]\n",
            "[1, 2, 3, 4, 5, 6, 7, 8, 9, 10, 11, 12, 13, 14, 15, 16, 17, 18, 19, 20, 21, 22, 28, 24, 25, 26, 27, 23, 29, 30, 31]\n",
            "[1, 2, 3, 4, 5, 6, 7, 8, 9, 10, 11, 12, 13, 14, 15, 16, 17, 18, 19, 20, 21, 22, 23, 29, 25, 26, 27, 28, 24, 30, 31, 32]\n",
            "[1, 2, 3, 4, 5, 6, 7, 8, 9, 10, 11, 12, 13, 14, 15, 16, 17, 18, 19, 20, 21, 22, 23, 24, 30, 26, 27, 28, 29, 25, 31, 32, 33]\n",
            "[1, 2, 3, 4, 5, 6, 7, 8, 9, 10, 11, 12, 13, 14, 15, 16, 17, 18, 19, 20, 21, 22, 23, 24, 25, 31, 27, 28, 29, 30, 26, 32, 33, 34]\n",
            "[1, 2, 3, 4, 5, 6, 7, 8, 9, 10, 11, 12, 13, 14, 15, 16, 17, 18, 19, 20, 21, 22, 23, 24, 25, 26, 32, 28, 29, 30, 31, 27, 33, 34, 35]\n",
            "[1, 2, 3, 4, 5, 6, 7, 8, 9, 10, 11, 12, 13, 14, 15, 16, 17, 18, 19, 20, 21, 22, 23, 24, 25, 26, 27, 33, 29, 30, 31, 32, 28, 34, 35, 36]\n",
            "[1, 2, 3, 4, 5, 6, 7, 8, 9, 10, 11, 12, 13, 14, 15, 16, 17, 18, 19, 20, 21, 22, 23, 24, 25, 26, 27, 28, 34, 30, 31, 32, 33, 29, 35, 36, 37]\n",
            "[1, 2, 3, 4, 5, 6, 7, 8, 9, 10, 11, 12, 13, 14, 15, 16, 17, 18, 19, 20, 21, 22, 23, 24, 25, 26, 27, 28, 29, 35, 31, 32, 33, 34, 30, 36, 37, 38]\n",
            "[1, 2, 3, 4, 5, 6, 7, 8, 9, 10, 11, 12, 13, 14, 15, 16, 17, 18, 19, 20, 21, 22, 23, 24, 25, 26, 27, 28, 29, 30, 36, 32, 33, 34, 35, 31, 37, 38, 39]\n",
            "[1, 2, 3, 4, 5, 6, 7, 8, 9, 10, 11, 12, 13, 14, 15, 16, 17, 18, 19, 20, 21, 22, 23, 24, 25, 26, 27, 28, 29, 30, 31, 37, 33, 34, 35, 36, 32, 38, 39, 40]\n",
            "[1, 2, 3, 4, 5, 6, 7, 8, 9, 10, 11, 12, 13, 14, 15, 16, 17, 18, 19, 20, 21, 22, 23, 24, 25, 26, 27, 28, 29, 30, 31, 32, 38, 34, 35, 36, 37, 33, 39, 40, 41]\n",
            "[1, 2, 3, 4, 5, 6, 7, 8, 9, 10, 11, 12, 13, 14, 15, 16, 17, 18, 19, 20, 21, 22, 23, 24, 25, 26, 27, 28, 29, 30, 31, 32, 33, 39, 35, 36, 37, 38, 34, 40, 41, 42]\n",
            "[1, 2, 3, 4, 5, 6, 7, 8, 9, 10, 11, 12, 13, 14, 15, 16, 17, 18, 19, 20, 21, 22, 23, 24, 25, 26, 27, 28, 29, 30, 31, 32, 33, 34, 40, 36, 37, 38, 39, 35, 41, 42, 43]\n",
            "[1, 2, 3, 4, 5, 6, 7, 8, 9, 10, 11, 12, 13, 14, 15, 16, 17, 18, 19, 20, 21, 22, 23, 24, 25, 26, 27, 28, 29, 30, 31, 32, 33, 34, 35, 41, 37, 38, 39, 40, 36, 42, 43, 44]\n",
            "[1, 2, 3, 4, 5, 6, 7, 8, 9, 10, 11, 12, 13, 14, 15, 16, 17, 18, 19, 20, 21, 22, 23, 24, 25, 26, 27, 28, 29, 30, 31, 32, 33, 34, 35, 36, 42, 38, 39, 40, 41, 37, 43, 44, 45]\n",
            "[1, 2, 3, 4, 5, 6, 7, 8, 9, 10, 11, 12, 13, 14, 15, 16, 17, 18, 19, 20, 21, 22, 23, 24, 25, 26, 27, 28, 29, 30, 31, 32, 33, 34, 35, 36, 37, 43, 39, 40, 41, 42, 38, 44, 45, 46]\n",
            "[1, 2, 3, 4, 5, 6, 7, 8, 9, 10, 11, 12, 13, 14, 15, 16, 17, 18, 19, 20, 21, 22, 23, 24, 25, 26, 27, 28, 29, 30, 31, 32, 33, 34, 35, 36, 37, 38, 44, 40, 41, 42, 43, 39, 45, 46, 47]\n",
            "[1, 2, 3, 4, 5, 6, 7, 8, 9, 10, 11, 12, 13, 14, 15, 16, 17, 18, 19, 20, 21, 22, 23, 24, 25, 26, 27, 28, 29, 30, 31, 32, 33, 34, 35, 36, 37, 38, 39, 45, 41, 42, 43, 44, 40, 46, 47, 48]\n",
            "[1, 2, 3, 4, 5, 6, 7, 8, 9, 10, 11, 12, 13, 14, 15, 16, 17, 18, 19, 20, 21, 22, 23, 24, 25, 26, 27, 28, 29, 30, 31, 32, 33, 34, 35, 36, 37, 38, 39, 40, 46, 42, 43, 44, 45, 41, 47, 48, 49]\n",
            "[1, 2, 3, 4, 5, 6, 7, 8, 9, 10, 11, 12, 13, 14, 15, 16, 17, 18, 19, 20, 21, 22, 23, 24, 25, 26, 27, 28, 29, 30, 31, 32, 33, 34, 35, 36, 37, 38, 39, 40, 41, 47, 43, 44, 45, 46, 42, 48, 49, 50]\n",
            "[1, 2, 3, 4, 5, 6, 7, 8, 9, 10, 11, 12, 13, 14, 15, 16, 17, 18, 19, 20, 21, 22, 23, 24, 25, 26, 27, 28, 29, 30, 31, 32, 33, 34, 35, 36, 37, 38, 39, 40, 41, 42, 48, 44, 45, 46, 47, 43, 49, 50, 51]\n",
            "[1, 2, 3, 4, 5, 6, 7, 8, 9, 10, 11, 12, 13, 14, 15, 16, 17, 18, 19, 20, 21, 22, 23, 24, 25, 26, 27, 28, 29, 30, 31, 32, 33, 34, 35, 36, 37, 38, 39, 40, 41, 42, 43, 49, 45, 46, 47, 48, 44, 50, 51, 52]\n",
            "[1, 2, 3, 4, 5, 6, 7, 8, 9, 10, 11, 12, 13, 14, 15, 16, 17, 18, 19, 20, 21, 22, 23, 24, 25, 26, 27, 28, 29, 30, 31, 32, 33, 34, 35, 36, 37, 38, 39, 40, 41, 42, 43, 44, 50, 46, 47, 48, 49, 45, 51, 52, 53]\n",
            "[1, 2, 3, 4, 5, 6, 7, 8, 9, 10, 11, 12, 13, 14, 15, 16, 17, 18, 19, 20, 21, 22, 23, 24, 25, 26, 27, 28, 29, 30, 31, 32, 33, 34, 35, 36, 37, 38, 39, 40, 41, 42, 43, 44, 45, 51, 47, 48, 49, 50, 46, 52, 53, 54]\n",
            "[1, 2, 3, 4, 5, 6, 7, 8, 9, 10, 11, 12, 13, 14, 15, 16, 17, 18, 19, 20, 21, 22, 23, 24, 25, 26, 27, 28, 29, 30, 31, 32, 33, 34, 35, 36, 37, 38, 39, 40, 41, 42, 43, 44, 45, 46, 52, 48, 49, 50, 51, 47, 53, 54, 55]\n",
            "[1, 2, 3, 4, 5, 6, 7, 8, 9, 10, 11, 12, 13, 14, 15, 16, 17, 18, 19, 20, 21, 22, 23, 24, 25, 26, 27, 28, 29, 30, 31, 32, 33, 34, 35, 36, 37, 38, 39, 40, 41, 42, 43, 44, 45, 46, 47, 53, 49, 50, 51, 52, 48, 54, 55, 56]\n",
            "[1, 2, 3, 4, 5, 6, 7, 8, 9, 10, 11, 12, 13, 14, 15, 16, 17, 18, 19, 20, 21, 22, 23, 24, 25, 26, 27, 28, 29, 30, 31, 32, 33, 34, 35, 36, 37, 38, 39, 40, 41, 42, 43, 44, 45, 46, 47, 48, 54, 50, 51, 52, 53, 49, 55, 56, 57]\n",
            "[1, 2, 3, 4, 5, 6, 7, 8, 9, 10, 11, 12, 13, 14, 15, 16, 17, 18, 19, 20, 21, 22, 23, 24, 25, 26, 27, 28, 29, 30, 31, 32, 33, 34, 35, 36, 37, 38, 39, 40, 41, 42, 43, 44, 45, 46, 47, 48, 49, 55, 51, 52, 53, 54, 50, 56, 57, 58]\n",
            "[1, 2, 3, 4, 5, 6, 7, 8, 9, 10, 11, 12, 13, 14, 15, 16, 17, 18, 19, 20, 21, 22, 23, 24, 25, 26, 27, 28, 29, 30, 31, 32, 33, 34, 35, 36, 37, 38, 39, 40, 41, 42, 43, 44, 45, 46, 47, 48, 49, 50, 56, 52, 53, 54, 55, 51, 57, 58, 59]\n",
            "[1, 2, 3, 4, 5, 6, 7, 8, 9, 10, 11, 12, 13, 14, 15, 16, 17, 18, 19, 20, 21, 22, 23, 24, 25, 26, 27, 28, 29, 30, 31, 32, 33, 34, 35, 36, 37, 38, 39, 40, 41, 42, 43, 44, 45, 46, 47, 48, 49, 50, 51, 57, 53, 54, 55, 56, 52, 58, 59, 60]\n",
            "[1, 2, 3, 4, 5, 6, 7, 8, 9, 10, 11, 12, 13, 14, 15, 16, 17, 18, 19, 20, 21, 22, 23, 24, 25, 26, 27, 28, 29, 30, 31, 32, 33, 34, 35, 36, 37, 38, 39, 40, 41, 42, 43, 44, 45, 46, 47, 48, 49, 50, 51, 52, 58, 54, 55, 56, 57, 53, 59, 60, 61]\n",
            "[1, 2, 3, 4, 5, 6, 7, 8, 9, 10, 11, 12, 13, 14, 15, 16, 17, 18, 19, 20, 21, 22, 23, 24, 25, 26, 27, 28, 29, 30, 31, 32, 33, 34, 35, 36, 37, 38, 39, 40, 41, 42, 43, 44, 45, 46, 47, 48, 49, 50, 51, 52, 53, 59, 55, 56, 57, 58, 54, 60, 61, 62]\n",
            "[1, 2, 3, 4, 5, 6, 7, 8, 9, 10, 11, 12, 13, 14, 15, 16, 17, 18, 19, 20, 21, 22, 23, 24, 25, 26, 27, 28, 29, 30, 31, 32, 33, 34, 35, 36, 37, 38, 39, 40, 41, 42, 43, 44, 45, 46, 47, 48, 49, 50, 51, 52, 53, 54, 60, 56, 57, 58, 59, 55, 61, 62, 63]\n",
            "[1, 2, 3, 4, 5, 6, 7, 8, 9, 10, 11, 12, 13, 14, 15, 16, 17, 18, 19, 20, 21, 22, 23, 24, 25, 26, 27, 28, 29, 30, 31, 32, 33, 34, 35, 36, 37, 38, 39, 40, 41, 42, 43, 44, 45, 46, 47, 48, 49, 50, 51, 52, 53, 54, 55, 61, 57, 58, 59, 60, 56, 62, 63, 64]\n",
            "[1, 2, 3, 4, 5, 6, 7, 8, 9, 10, 11, 12, 13, 14, 15, 16, 17, 18, 19, 20, 21, 22, 23, 24, 25, 26, 27, 28, 29, 30, 31, 32, 33, 34, 35, 36, 37, 38, 39, 40, 41, 42, 43, 44, 45, 46, 47, 48, 49, 50, 51, 52, 53, 54, 55, 56, 62, 58, 59, 60, 61, 57, 63, 64, 65]\n",
            "[1, 2, 3, 4, 5, 6, 7, 8, 9, 10, 11, 12, 13, 14, 15, 16, 17, 18, 19, 20, 21, 22, 23, 24, 25, 26, 27, 28, 29, 30, 31, 32, 33, 34, 35, 36, 37, 38, 39, 40, 41, 42, 43, 44, 45, 46, 47, 48, 49, 50, 51, 52, 53, 54, 55, 56, 57, 63, 59, 60, 61, 62, 58, 64, 65, 66]\n",
            "[1, 2, 3, 4, 5, 6, 7, 8, 9, 10, 11, 12, 13, 14, 15, 16, 17, 18, 19, 20, 21, 22, 23, 24, 25, 26, 27, 28, 29, 30, 31, 32, 33, 34, 35, 36, 37, 38, 39, 40, 41, 42, 43, 44, 45, 46, 47, 48, 49, 50, 51, 52, 53, 54, 55, 56, 57, 58, 64, 60, 61, 62, 63, 59, 65, 66, 67]\n",
            "[1, 2, 3, 4, 5, 6, 7, 8, 9, 10, 11, 12, 13, 14, 15, 16, 17, 18, 19, 20, 21, 22, 23, 24, 25, 26, 27, 28, 29, 30, 31, 32, 33, 34, 35, 36, 37, 38, 39, 40, 41, 42, 43, 44, 45, 46, 47, 48, 49, 50, 51, 52, 53, 54, 55, 56, 57, 58, 59, 65, 61, 62, 63, 64, 60, 66, 67, 68]\n",
            "[1, 2, 3, 4, 5, 6, 7, 8, 9, 10, 11, 12, 13, 14, 15, 16, 17, 18, 19, 20, 21, 22, 23, 24, 25, 26, 27, 28, 29, 30, 31, 32, 33, 34, 35, 36, 37, 38, 39, 40, 41, 42, 43, 44, 45, 46, 47, 48, 49, 50, 51, 52, 53, 54, 55, 56, 57, 58, 59, 60, 66, 62, 63, 64, 65, 61, 67, 68, 69]\n",
            "[1, 2, 3, 4, 5, 6, 7, 8, 9, 10, 11, 12, 13, 14, 15, 16, 17, 18, 19, 20, 21, 22, 23, 24, 25, 26, 27, 28, 29, 30, 31, 32, 33, 34, 35, 36, 37, 38, 39, 40, 41, 42, 43, 44, 45, 46, 47, 48, 49, 50, 51, 52, 53, 54, 55, 56, 57, 58, 59, 60, 61, 67, 63, 64, 65, 66, 62, 68, 69, 70]\n",
            "[1, 2, 3, 4, 5, 6, 7, 8, 9, 10, 11, 12, 13, 14, 15, 16, 17, 18, 19, 20, 21, 22, 23, 24, 25, 26, 27, 28, 29, 30, 31, 32, 33, 34, 35, 36, 37, 38, 39, 40, 41, 42, 43, 44, 45, 46, 47, 48, 49, 50, 51, 52, 53, 54, 55, 56, 57, 58, 59, 60, 61, 62, 68, 64, 65, 66, 67, 63, 69, 70, 71]\n",
            "[1, 2, 3, 4, 5, 6, 7, 8, 9, 10, 11, 12, 13, 14, 15, 16, 17, 18, 19, 20, 21, 22, 23, 24, 25, 26, 27, 28, 29, 30, 31, 32, 33, 34, 35, 36, 37, 38, 39, 40, 41, 42, 43, 44, 45, 46, 47, 48, 49, 50, 51, 52, 53, 54, 55, 56, 57, 58, 59, 60, 61, 62, 63, 69, 65, 66, 67, 68, 64, 70, 71, 72]\n",
            "[1, 2, 3, 4, 5, 6, 7, 8, 9, 10, 11, 12, 13, 14, 15, 16, 17, 18, 19, 20, 21, 22, 23, 24, 25, 26, 27, 28, 29, 30, 31, 32, 33, 34, 35, 36, 37, 38, 39, 40, 41, 42, 43, 44, 45, 46, 47, 48, 49, 50, 51, 52, 53, 54, 55, 56, 57, 58, 59, 60, 61, 62, 63, 64, 70, 66, 67, 68, 69, 65, 71, 72, 73]\n",
            "[1, 2, 3, 4, 5, 6, 7, 8, 9, 10, 11, 12, 13, 14, 15, 16, 17, 18, 19, 20, 21, 22, 23, 24, 25, 26, 27, 28, 29, 30, 31, 32, 33, 34, 35, 36, 37, 38, 39, 40, 41, 42, 43, 44, 45, 46, 47, 48, 49, 50, 51, 52, 53, 54, 55, 56, 57, 58, 59, 60, 61, 62, 63, 64, 65, 71, 67, 68, 69, 70, 66, 72, 73, 74]\n",
            "[1, 2, 3, 4, 5, 6, 7, 8, 9, 10, 11, 12, 13, 14, 15, 16, 17, 18, 19, 20, 21, 22, 23, 24, 25, 26, 27, 28, 29, 30, 31, 32, 33, 34, 35, 36, 37, 38, 39, 40, 41, 42, 43, 44, 45, 46, 47, 48, 49, 50, 51, 52, 53, 54, 55, 56, 57, 58, 59, 60, 61, 62, 63, 64, 65, 66, 72, 68, 69, 70, 71, 67, 73, 74, 75]\n",
            "[1, 2, 3, 4, 5, 6, 7, 8, 9, 10, 11, 12, 13, 14, 15, 16, 17, 18, 19, 20, 21, 22, 23, 24, 25, 26, 27, 28, 29, 30, 31, 32, 33, 34, 35, 36, 37, 38, 39, 40, 41, 42, 43, 44, 45, 46, 47, 48, 49, 50, 51, 52, 53, 54, 55, 56, 57, 58, 59, 60, 61, 62, 63, 64, 65, 66, 67, 73, 69, 70, 71, 72, 68, 74, 75, 76]\n",
            "[1, 2, 3, 4, 5, 6, 7, 8, 9, 10, 11, 12, 13, 14, 15, 16, 17, 18, 19, 20, 21, 22, 23, 24, 25, 26, 27, 28, 29, 30, 31, 32, 33, 34, 35, 36, 37, 38, 39, 40, 41, 42, 43, 44, 45, 46, 47, 48, 49, 50, 51, 52, 53, 54, 55, 56, 57, 58, 59, 60, 61, 62, 63, 64, 65, 66, 67, 68, 74, 70, 71, 72, 73, 69, 75, 76, 77]\n",
            "[1, 2, 3, 4, 5, 6, 7, 8, 9, 10, 11, 12, 13, 14, 15, 16, 17, 18, 19, 20, 21, 22, 23, 24, 25, 26, 27, 28, 29, 30, 31, 32, 33, 34, 35, 36, 37, 38, 39, 40, 41, 42, 43, 44, 45, 46, 47, 48, 49, 50, 51, 52, 53, 54, 55, 56, 57, 58, 59, 60, 61, 62, 63, 64, 65, 66, 67, 68, 69, 75, 71, 72, 73, 74, 70, 76, 77, 78]\n",
            "[1, 2, 3, 4, 5, 6, 7, 8, 9, 10, 11, 12, 13, 14, 15, 16, 17, 18, 19, 20, 21, 22, 23, 24, 25, 26, 27, 28, 29, 30, 31, 32, 33, 34, 35, 36, 37, 38, 39, 40, 41, 42, 43, 44, 45, 46, 47, 48, 49, 50, 51, 52, 53, 54, 55, 56, 57, 58, 59, 60, 61, 62, 63, 64, 65, 66, 67, 68, 69, 70, 76, 72, 73, 74, 75, 71, 77, 78, 79]\n",
            "[1, 2, 3, 4, 5, 6, 7, 8, 9, 10, 11, 12, 13, 14, 15, 16, 17, 18, 19, 20, 21, 22, 23, 24, 25, 26, 27, 28, 29, 30, 31, 32, 33, 34, 35, 36, 37, 38, 39, 40, 41, 42, 43, 44, 45, 46, 47, 48, 49, 50, 51, 52, 53, 54, 55, 56, 57, 58, 59, 60, 61, 62, 63, 64, 65, 66, 67, 68, 69, 70, 71, 77, 73, 74, 75, 76, 72, 78, 79, 80]\n",
            "[1, 2, 3, 4, 5, 6, 7, 8, 9, 10, 11, 12, 13, 14, 15, 16, 17, 18, 19, 20, 21, 22, 23, 24, 25, 26, 27, 28, 29, 30, 31, 32, 33, 34, 35, 36, 37, 38, 39, 40, 41, 42, 43, 44, 45, 46, 47, 48, 49, 50, 51, 52, 53, 54, 55, 56, 57, 58, 59, 60, 61, 62, 63, 64, 65, 66, 67, 68, 69, 70, 71, 72, 78, 74, 75, 76, 77, 73, 79, 80, 81]\n",
            "[1, 2, 3, 4, 5, 6, 7, 8, 9, 10, 11, 12, 13, 14, 15, 16, 17, 18, 19, 20, 21, 22, 23, 24, 25, 26, 27, 28, 29, 30, 31, 32, 33, 34, 35, 36, 37, 38, 39, 40, 41, 42, 43, 44, 45, 46, 47, 48, 49, 50, 51, 52, 53, 54, 55, 56, 57, 58, 59, 60, 61, 62, 63, 64, 65, 66, 67, 68, 69, 70, 71, 72, 73, 79, 75, 76, 77, 78, 74, 80, 81, 82]\n",
            "[1, 2, 3, 4, 5, 6, 7, 8, 9, 10, 11, 12, 13, 14, 15, 16, 17, 18, 19, 20, 21, 22, 23, 24, 25, 26, 27, 28, 29, 30, 31, 32, 33, 34, 35, 36, 37, 38, 39, 40, 41, 42, 43, 44, 45, 46, 47, 48, 49, 50, 51, 52, 53, 54, 55, 56, 57, 58, 59, 60, 61, 62, 63, 64, 65, 66, 67, 68, 69, 70, 71, 72, 73, 74, 80, 76, 77, 78, 79, 75, 81, 82, 83]\n",
            "[1, 2, 3, 4, 5, 6, 7, 8, 9, 10, 11, 12, 13, 14, 15, 16, 17, 18, 19, 20, 21, 22, 23, 24, 25, 26, 27, 28, 29, 30, 31, 32, 33, 34, 35, 36, 37, 38, 39, 40, 41, 42, 43, 44, 45, 46, 47, 48, 49, 50, 51, 52, 53, 54, 55, 56, 57, 58, 59, 60, 61, 62, 63, 64, 65, 66, 67, 68, 69, 70, 71, 72, 73, 74, 75, 81, 77, 78, 79, 80, 76, 82, 83, 84]\n",
            "[1, 2, 3, 4, 5, 6, 7, 8, 9, 10, 11, 12, 13, 14, 15, 16, 17, 18, 19, 20, 21, 22, 23, 24, 25, 26, 27, 28, 29, 30, 31, 32, 33, 34, 35, 36, 37, 38, 39, 40, 41, 42, 43, 44, 45, 46, 47, 48, 49, 50, 51, 52, 53, 54, 55, 56, 57, 58, 59, 60, 61, 62, 63, 64, 65, 66, 67, 68, 69, 70, 71, 72, 73, 74, 75, 76, 82, 78, 79, 80, 81, 77, 83, 84, 85]\n",
            "[1, 2, 3, 4, 5, 6, 7, 8, 9, 10, 11, 12, 13, 14, 15, 16, 17, 18, 19, 20, 21, 22, 23, 24, 25, 26, 27, 28, 29, 30, 31, 32, 33, 34, 35, 36, 37, 38, 39, 40, 41, 42, 43, 44, 45, 46, 47, 48, 49, 50, 51, 52, 53, 54, 55, 56, 57, 58, 59, 60, 61, 62, 63, 64, 65, 66, 67, 68, 69, 70, 71, 72, 73, 74, 75, 76, 77, 83, 79, 80, 81, 82, 78, 84, 85, 86]\n",
            "[1, 2, 3, 4, 5, 6, 7, 8, 9, 10, 11, 12, 13, 14, 15, 16, 17, 18, 19, 20, 21, 22, 23, 24, 25, 26, 27, 28, 29, 30, 31, 32, 33, 34, 35, 36, 37, 38, 39, 40, 41, 42, 43, 44, 45, 46, 47, 48, 49, 50, 51, 52, 53, 54, 55, 56, 57, 58, 59, 60, 61, 62, 63, 64, 65, 66, 67, 68, 69, 70, 71, 72, 73, 74, 75, 76, 77, 78, 84, 80, 81, 82, 83, 79, 85, 86, 87]\n",
            "[1, 2, 3, 4, 5, 6, 7, 8, 9, 10, 11, 12, 13, 14, 15, 16, 17, 18, 19, 20, 21, 22, 23, 24, 25, 26, 27, 28, 29, 30, 31, 32, 33, 34, 35, 36, 37, 38, 39, 40, 41, 42, 43, 44, 45, 46, 47, 48, 49, 50, 51, 52, 53, 54, 55, 56, 57, 58, 59, 60, 61, 62, 63, 64, 65, 66, 67, 68, 69, 70, 71, 72, 73, 74, 75, 76, 77, 78, 79, 85, 81, 82, 83, 84, 80, 86, 87, 88]\n",
            "[1, 2, 3, 4, 5, 6, 7, 8, 9, 10, 11, 12, 13, 14, 15, 16, 17, 18, 19, 20, 21, 22, 23, 24, 25, 26, 27, 28, 29, 30, 31, 32, 33, 34, 35, 36, 37, 38, 39, 40, 41, 42, 43, 44, 45, 46, 47, 48, 49, 50, 51, 52, 53, 54, 55, 56, 57, 58, 59, 60, 61, 62, 63, 64, 65, 66, 67, 68, 69, 70, 71, 72, 73, 74, 75, 76, 77, 78, 79, 80, 86, 82, 83, 84, 85, 81, 87, 88, 89]\n",
            "[1, 2, 3, 4, 5, 6, 7, 8, 9, 10, 11, 12, 13, 14, 15, 16, 17, 18, 19, 20, 21, 22, 23, 24, 25, 26, 27, 28, 29, 30, 31, 32, 33, 34, 35, 36, 37, 38, 39, 40, 41, 42, 43, 44, 45, 46, 47, 48, 49, 50, 51, 52, 53, 54, 55, 56, 57, 58, 59, 60, 61, 62, 63, 64, 65, 66, 67, 68, 69, 70, 71, 72, 73, 74, 75, 76, 77, 78, 79, 80, 81, 87, 83, 84, 85, 86, 82, 88, 89, 90]\n",
            "[1, 2, 3, 4, 5, 6, 7, 8, 9, 10, 11, 12, 13, 14, 15, 16, 17, 18, 19, 20, 21, 22, 23, 24, 25, 26, 27, 28, 29, 30, 31, 32, 33, 34, 35, 36, 37, 38, 39, 40, 41, 42, 43, 44, 45, 46, 47, 48, 49, 50, 51, 52, 53, 54, 55, 56, 57, 58, 59, 60, 61, 62, 63, 64, 65, 66, 67, 68, 69, 70, 71, 72, 73, 74, 75, 76, 77, 78, 79, 80, 81, 82, 88, 84, 85, 86, 87, 83, 89, 90, 91]\n",
            "[1, 2, 3, 4, 5, 6, 7, 8, 9, 10, 11, 12, 13, 14, 15, 16, 17, 18, 19, 20, 21, 22, 23, 24, 25, 26, 27, 28, 29, 30, 31, 32, 33, 34, 35, 36, 37, 38, 39, 40, 41, 42, 43, 44, 45, 46, 47, 48, 49, 50, 51, 52, 53, 54, 55, 56, 57, 58, 59, 60, 61, 62, 63, 64, 65, 66, 67, 68, 69, 70, 71, 72, 73, 74, 75, 76, 77, 78, 79, 80, 81, 82, 83, 89, 85, 86, 87, 88, 84, 90, 91, 92]\n",
            "[1, 2, 3, 4, 5, 6, 7, 8, 9, 10, 11, 12, 13, 14, 15, 16, 17, 18, 19, 20, 21, 22, 23, 24, 25, 26, 27, 28, 29, 30, 31, 32, 33, 34, 35, 36, 37, 38, 39, 40, 41, 42, 43, 44, 45, 46, 47, 48, 49, 50, 51, 52, 53, 54, 55, 56, 57, 58, 59, 60, 61, 62, 63, 64, 65, 66, 67, 68, 69, 70, 71, 72, 73, 74, 75, 76, 77, 78, 79, 80, 81, 82, 83, 84, 90, 86, 87, 88, 89, 85, 91, 92, 93]\n",
            "[1, 2, 3, 4, 5, 6, 7, 8, 9, 10, 11, 12, 13, 14, 15, 16, 17, 18, 19, 20, 21, 22, 23, 24, 25, 26, 27, 28, 29, 30, 31, 32, 33, 34, 35, 36, 37, 38, 39, 40, 41, 42, 43, 44, 45, 46, 47, 48, 49, 50, 51, 52, 53, 54, 55, 56, 57, 58, 59, 60, 61, 62, 63, 64, 65, 66, 67, 68, 69, 70, 71, 72, 73, 74, 75, 76, 77, 78, 79, 80, 81, 82, 83, 84, 85, 91, 87, 88, 89, 90, 86, 92, 93, 94]\n",
            "[1, 2, 3, 4, 5, 6, 7, 8, 9, 10, 11, 12, 13, 14, 15, 16, 17, 18, 19, 20, 21, 22, 23, 24, 25, 26, 27, 28, 29, 30, 31, 32, 33, 34, 35, 36, 37, 38, 39, 40, 41, 42, 43, 44, 45, 46, 47, 48, 49, 50, 51, 52, 53, 54, 55, 56, 57, 58, 59, 60, 61, 62, 63, 64, 65, 66, 67, 68, 69, 70, 71, 72, 73, 74, 75, 76, 77, 78, 79, 80, 81, 82, 83, 84, 85, 86, 92, 88, 89, 90, 91, 87, 93, 94, 95]\n",
            "[1, 2, 3, 4, 5, 6, 7, 8, 9, 10, 11, 12, 13, 14, 15, 16, 17, 18, 19, 20, 21, 22, 23, 24, 25, 26, 27, 28, 29, 30, 31, 32, 33, 34, 35, 36, 37, 38, 39, 40, 41, 42, 43, 44, 45, 46, 47, 48, 49, 50, 51, 52, 53, 54, 55, 56, 57, 58, 59, 60, 61, 62, 63, 64, 65, 66, 67, 68, 69, 70, 71, 72, 73, 74, 75, 76, 77, 78, 79, 80, 81, 82, 83, 84, 85, 86, 87, 93, 89, 90, 91, 92, 88, 94, 95, 96]\n",
            "[1, 2, 3, 4, 5, 6, 7, 8, 9, 10, 11, 12, 13, 14, 15, 16, 17, 18, 19, 20, 21, 22, 23, 24, 25, 26, 27, 28, 29, 30, 31, 32, 33, 34, 35, 36, 37, 38, 39, 40, 41, 42, 43, 44, 45, 46, 47, 48, 49, 50, 51, 52, 53, 54, 55, 56, 57, 58, 59, 60, 61, 62, 63, 64, 65, 66, 67, 68, 69, 70, 71, 72, 73, 74, 75, 76, 77, 78, 79, 80, 81, 82, 83, 84, 85, 86, 87, 88, 94, 90, 91, 92, 93, 89, 95, 96, 97]\n",
            "[1, 2, 3, 4, 5, 6, 7, 8, 9, 10, 11, 12, 13, 14, 15, 16, 17, 18, 19, 20, 21, 22, 23, 24, 25, 26, 27, 28, 29, 30, 31, 32, 33, 34, 35, 36, 37, 38, 39, 40, 41, 42, 43, 44, 45, 46, 47, 48, 49, 50, 51, 52, 53, 54, 55, 56, 57, 58, 59, 60, 61, 62, 63, 64, 65, 66, 67, 68, 69, 70, 71, 72, 73, 74, 75, 76, 77, 78, 79, 80, 81, 82, 83, 84, 85, 86, 87, 88, 89, 95, 91, 92, 93, 94, 90, 96, 97, 98]\n"
          ]
        },
        {
          "output_type": "display_data",
          "data": {
            "text/plain": [
              "<Figure size 432x288 with 1 Axes>"
            ],
            "image/png": "[encoded data removed]"
          },
          "metadata": {
            "needs_background": "light"
          }
        }
      ]
    },
    {
      "cell_type": "code",
      "source": [
        "def bub_sort(A):\n",
        "    n = len(A)\n",
        "    t=0 \n",
        "\n",
        "    for i in range(1, n+1):\n",
        "        for j in range(n - i):\n",
        "            t +=1\n",
        "            if A[j] > A[j + 1]:\n",
        "                A[j], A[j + 1] = A[j + 1], A[j]\n",
        "    return A, t"
      ],
      "metadata": {
        "id": "5uFeryoTDIZS"
      },
      "execution_count": 27,
      "outputs": []
    },
    {
      "cell_type": "markdown",
      "source": [
        "Para un arreglo casi ordenado el numero de comparaciones es identico al de un arreglo ordenado."
      ],
      "metadata": {
        "id": "4JQwLpPaDazi"
      }
    },
    {
      "cell_type": "code",
      "source": [
        "import matplotlib.pyplot as plt\n",
        "import datetime\n",
        "from timeit import repeat\n",
        "\n",
        "x=[]; y1=[]; y2=[];\n",
        "\n",
        "for n in range(5,101):\n",
        "\n",
        "    A = random.sample(range(1, 1001), n)\n",
        "\n",
        "    t_insert = repeat(setup=\"from __main__ import ins_sort\", stmt=f\"ins_sort({A})\", repeat=1, number=10)\n",
        "    t_bubble = repeat(setup=\"from __main__ import bub_sort\", stmt=f\"bub_sort({A})\", repeat=1, number=10)\n",
        "\n",
        "    x.append(n)\n",
        "    y1.append(t_insert)\n",
        "    y2.append(t_bubble)\n",
        "\n",
        "plt.plot(x,y1)\n",
        "plt.plot(x,y2)\n",
        "plt.legend([\"InsertionSort\", \"BubbleSort\"])\n",
        "\n",
        "plt.xlabel('n')\n",
        "plt.ylabel('Tiempo en ms')\n",
        "plt.show()"
      ],
      "metadata": {
        "id": "sVxByQRIDfe9",
        "outputId": "32758222-ec22-4c16-9cc0-f2e64f29ed1a",
        "colab": {
          "base_uri": "https://localhost:8080/",
          "height": 279
        }
      },
      "execution_count": 29,
      "outputs": [
        {
          "output_type": "display_data",
          "data": {
            "text/plain": [
              "<Figure size 432x288 with 1 Axes>"
            ],
            "image/png": "[encoded data removed]"
          },
          "metadata": {
            "needs_background": "light"
          }
        }
      ]
    },
    {
      "cell_type": "code",
      "source": [],
      "metadata": {
        "id": "2Re1ryuWDuzw"
      },
      "execution_count": null,
      "outputs": []
    },
    {
      "cell_type": "markdown",
      "source": [
        "se observa que los tiempos son parecidos para arreglos aleatorios. Estos algoritmos comparten una cota superior de n^2."
      ],
      "metadata": {
        "id": "LTN5hjmlELgD"
      }
    },
    {
      "cell_type": "code",
      "source": [],
      "metadata": {
        "id": "lvCxGy6kEUDj"
      },
      "execution_count": null,
      "outputs": []
    }
  ]
}