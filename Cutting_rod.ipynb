{
 "cells": [
  {
   "cell_type": "markdown",
   "metadata": {},
   "source": [
    "# Cutting Rod"
   ]
  },
  {
   "cell_type": "markdown",
   "metadata": {},
   "source": [
    "## Descripción del problema"
   ]
  },
  {
   "cell_type": "markdown",
   "metadata": {},
   "source": []
  },
  {
   "cell_type": "markdown",
   "metadata": {},
   "source": [
    "![1.png](1.png)"
   ]
  },
  {
   "cell_type": "markdown",
   "metadata": {},
   "source": [
    "Dada una varilla de largo $n$ y un arreglo $p$ con los precios de cada varilla\n",
    "dado su largo. En cuantas partes debo cortar la varilla para maximizar las\n",
    "ganancias? Es la pregunta que busca responder el problema Cutting Rod.\n",
    "\n",
    "Una varilla de $i$ unidades tendrá un costo $p[i]$."
   ]
  },
  {
   "cell_type": "markdown",
   "metadata": {},
   "source": [
    "## Implementación recursiva"
   ]
  },
  {
   "cell_type": "code",
   "execution_count": 133,
   "metadata": {},
   "outputs": [
    {
     "name": "stdout",
     "output_type": "stream",
     "text": [
      "Se obtiene una barra de largo 2 {\n",
      "    Se revisa el 1 corte, formando una barra de largo 1 y una de largo 1\n",
      "        Se obtiene una barra de largo 1 {\n",
      "            Se revisa el 1 corte, formando una barra de largo 0 y una de largo 1\n",
      "                Se obtiene una barra de largo 0 {\n",
      "                    Caso base \n",
      "                }\n",
      "            El corte en 1 genera una ganancia 2\n",
      "            El mayor entre -inf y 2 es 2\n",
      "            n = 1, i = 0, q = 2, c = 2\n",
      "        } Máximo = 2\n",
      "    El corte en 1 genera una ganancia 4\n",
      "    El mayor entre -inf y 4 es 4\n",
      "    n = 2, i = 0, q = 4, c = 4\n",
      "    Se revisa el 2 corte, formando una barra de largo 0 y una de largo 2\n",
      "        Se obtiene una barra de largo 0 {\n",
      "            Caso base \n",
      "        }\n",
      "    El corte en 2 genera una ganancia 3\n",
      "    El mayor entre 4 y 3 es 4\n",
      "    n = 2, i = 1, q = 4, c = 3\n",
      "} Máximo = 4\n",
      "4\n"
     ]
    }
   ],
   "source": [
    "import math\n",
    "def r_cutting_rod(p, n = -1, l = 0):\n",
    "    if n == -1: n = len(p) # Obtener n (no n-1 xD)\n",
    "    print(\" \" * (l*4) + \"Se obtiene una barra de largo\", n, \"{\")\n",
    "    if n <= 0: \n",
    "        print(\" \" * (l*4 + 4) + \"Caso base \\n\" + \" \" * (l*4) + \"}\")\n",
    "        return 0\n",
    "    q = -math.inf\n",
    "    for i in range(n):\n",
    "        print (\" \" * 4*(l+1) + f\"Se revisa el {i+1} corte, formando una barra de largo {n - i-1} y una de largo {i+1}\")\n",
    "        c= p[i] + r_cutting_rod(p, n-i-1, l = l + 2)\n",
    "        print (\" \" * 4*(l+1) + f\"El corte en {i+1} genera una ganancia {c}\")\n",
    "        print(\" \" * 4*(l+1) + f\"El mayor entre {q} y {c} es {max(q,c)}\");\n",
    "        q = max(q,c)\n",
    "        print(\" \" * 4 *l + 4*\" \" + f\"n = {n}, i = {i}, q = {q}, c = {c}\")\n",
    "    print (\" \" * l * 4 + f\"}} Máximo = {q}\")\n",
    "    return q\n",
    "print(r_cutting_rod([ 2, 3]))"
   ]
  },
  {
   "cell_type": "code",
   "execution_count": null,
   "metadata": {},
   "outputs": [],
   "source": []
  }
 ],
 "metadata": {
  "kernelspec": {
   "display_name": "Python 3.10.7 64-bit",
   "language": "python",
   "name": "python3"
  },
  "language_info": {
   "codemirror_mode": {
    "name": "ipython",
    "version": 3
   },
   "file_extension": ".py",
   "mimetype": "text/x-python",
   "name": "python",
   "nbconvert_exporter": "python",
   "pygments_lexer": "ipython3",
   "version": "3.10.7"
  },
  "orig_nbformat": 4,
  "vscode": {
   "interpreter": {
    "hash": "767d51c1340bd893661ea55ea3124f6de3c7a262a8b4abca0554b478b1e2ff90"
   }
  }
 },
 "nbformat": 4,
 "nbformat_minor": 2
}
