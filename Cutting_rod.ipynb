{
 "cells": [
  {
   "cell_type": "markdown",
   "metadata": {},
   "source": [
    "# Cutting Rod"
   ]
  },
  {
   "cell_type": "markdown",
   "metadata": {},
   "source": [
    "## Descripción del problema"
   ]
  },
  {
   "cell_type": "markdown",
   "metadata": {},
   "source": []
  },
  {
   "cell_type": "markdown",
   "metadata": {},
   "source": [
    "![1.png](1.png)"
   ]
  },
  {
   "cell_type": "markdown",
   "metadata": {},
   "source": [
    "Dada una varilla de largo $n$ y un arreglo $p$ con los precios de cada varilla\n",
    "dado su largo. En cuantas partes debo cortar la varilla para maximizar las\n",
    "ganancias? Es la pregunta que busca responder el problema Cutting Rod.\n",
    "\n",
    "Una varilla de $i$ unidades tendrá un costo asociado $p[i-1]$."
   ]
  },
  {
   "cell_type": "markdown",
   "metadata": {},
   "source": [
    "## Implementación recursiva"
   ]
  },
  {
   "cell_type": "code",
   "execution_count": 1,
   "metadata": {},
   "outputs": [
    {
     "name": "stdout",
     "output_type": "stream",
     "text": [
      "4\n"
     ]
    }
   ],
   "source": [
    "import math\n",
    "\"\"\"\n",
    "Cutting rod recursivo\n",
    "\n",
    "Parametros:\n",
    "---\n",
    "p: arreglo de precios\n",
    "n: tamaño de la barra\n",
    "l: Nivel de identación de los prints\n",
    "r: Nivel de recursión\n",
    "v: Verbose? si/no \n",
    "! TODO : El algoritmo debe retornar los cortes \n",
    "\"\"\"\n",
    "def r_cutting_rod(p, n = -1, l = 0, v = False):\n",
    "    # Proteger de entradas inválidas\n",
    "    if n > len(p): raise Exception(\"Error: La barra ingresada es de tamaño\" + \n",
    "     \"mayor al arreglo de precios.\")\n",
    "\n",
    "    if n == -1: n = len(p) # Obtener n (no n-1 xD)\n",
    "    if v: print(\" \" * (l*4) + \"Se obtiene una barra de largo\", n, \"{\")\n",
    "    if n <= 0: \n",
    "        if v: print(\" \" * (l*4 + 4) + \"Caso base \\n\" + \" \" * (l*4) + \"}\")\n",
    "        return 0\n",
    "    q = -math.inf # Almacena la ganancia mayor\n",
    "    for i in range(n):\n",
    "\n",
    "        if v: print (\" \" * 4*(l+1) + f\"Se revisa el {i+1} corte, formando una barra de largo {n - i-1} y una de largo {i+1}\")\n",
    "\n",
    "        # Obtener costo del corte de manera recursiva\n",
    "        c= p[i] + r_cutting_rod(p, n-i-1, l = l + 2) \n",
    "\n",
    "        if v: print (\" \" * 4*(l+1) + f\"El corte en {i+1} genera una ganancia {c}\")\n",
    "        if v: print(\" \" * 4*(l+1) + f\"El mayor entre {q} y {c} es {max(q,c)}\");\n",
    "\n",
    "        q = max(q,c) # Calcular si el corte actual conviene\n",
    "\n",
    "        if v: print(\" \" * 4 *l + 4*\" \" + f\"n = {n}, i = {i}, q = {q}, c = {c}\")\n",
    "    if v: print (\" \" * l * 4 + f\"}} Máximo = {q}\")\n",
    "    return q # Devolver valor máximo de ganancia\n",
    "print(r_cutting_rod([ 2, 3]))"
   ]
  },
  {
   "cell_type": "markdown",
   "metadata": {},
   "source": [
    "## Implementación DP"
   ]
  },
  {
   "cell_type": "code",
   "execution_count": 10,
   "metadata": {},
   "outputs": [
    {
     "name": "stdout",
     "output_type": "stream",
     "text": [
      "4\n"
     ]
    }
   ],
   "source": [
    "import math\n",
    "import numpy as np\n",
    "\"\"\"\n",
    "Cutting rod dinámico\n",
    "\n",
    "Parametros:\n",
    "---\n",
    "p: arreglo de precios\n",
    "n: tamaño de la barra\n",
    "v: Verbose? si/no \n",
    "! TODO : El algoritmo debe retornar los cortes.\n",
    "! TODO : verbose.\n",
    "\"\"\"\n",
    "def dp_cutting_rod(p, n = -1, v = False):\n",
    "    if n == -1: n = len(p) # Obtener n automáticamente\n",
    "    r = np.zeros((5), dtype = int)\n",
    "    for i in range(1, n+1): # Recorre los elementos\n",
    "        q = -math.inf # Guarda la ganancia máxima\n",
    "        for j in range(i):\n",
    "            q = max(q, p[j] + r[i-j-1]) # Se obtiene dinámicamente el subproblema\n",
    "        r[i] = q # Se guarda el subproblema $i$\n",
    "    return r[n] # Se retorna la máxima ganancia\n",
    "print(dp_cutting_rod([ 2, 3]))"
   ]
  },
  {
   "cell_type": "markdown",
   "metadata": {},
   "source": [
    "## Prueba de correctitud del algoritmo dinámico"
   ]
  },
  {
   "cell_type": "markdown",
   "metadata": {},
   "source": [
    "Lema: El arreglo auxiliar posee las soluciones de todos los subproblemas \n",
    "anteriores\n",
    "\n",
    "**Inicialización:** No existen subproblemas anteriores. ($i=0$).\n",
    "\n",
    "**Mantención**: Se calcula el subproblema del corte en la posición actual ($i$).\n",
    "\n",
    "**Finalización**: Todos los subproblemas han sido calculados\n",
    " correctamente.\n",
    "\n",
    "El arreglo auxiliar que guarda los resultados contiene las solución final del\n",
    " problema."
   ]
  },
  {
   "cell_type": "markdown",
   "metadata": {},
   "source": [
    "## Prueba del tiempo de ejecución del algoritmo recursivo"
   ]
  },
  {
   "cell_type": "markdown",
   "metadata": {},
   "source": [
    "Es posible definir la función de recursión $T(n)$ en términos de todos los\n",
    "sub-problemas posibles (todos los cortes posibles). Esto es lograble iterando\n",
    "$i$ de $0$ hasta $n-1$. Pasando efectivamente por todos los subproblemas.\n",
    "La función de recurrencia $T(n)$ es la siguiente.\n",
    "\n",
    "$$\n",
    "T(n) = \\sum_{i=0}^{n-1} {T(i)}\n",
    "$$\n",
    "\n",
    "Para probar el tiempo de ejecución se dice que $T(n) = 2^n$ es correcto para\n",
    "un valor de $n$ arbitrario. Luego:\n",
    "\n",
    "$$\n",
    "T(n+1) = T(n) + \\sum_{i=0}^{n-1} {T(i)}\n",
    "$$\n",
    "\n",
    "Reemplazando, obtenemos:\n",
    "\n",
    "$$\n",
    "T(n+1) = T(n) + T(n) \n",
    "$$\n",
    "\n",
    "$$\n",
    "2 \\cdot 2^n = 2^{n+1}\n",
    "$$\n"
   ]
  },
  {
   "cell_type": "markdown",
   "metadata": {},
   "source": [
    "## Prueba del tiempo de ejecución del algoritmo DP\n",
    "\n",
    "El tiempo de ejecución de esta rutina es $O(n^2)$ ya que cada subproblema\n",
    "es resuelto exactamente una vez. Para resolver el subproblema en la posición\n",
    "$i$, realizamos $i$ iteraciones del ciclo. \n",
    "\n",
    "Para calcular esto se define el tiempo de ejecución $T(n)$:\n",
    "\n",
    "$$\n",
    "\\begin {aligned}\n",
    "T(n) &= c \\sum_{i = 0} ^ {n-1} \\sum _ {j = 1}  ^ {i} j \\\\\n",
    "&=  c \\sum_{i = 0} ^ {n-1} j \\\\\n",
    "&=  c \\cdot \\cfrac {n (n+1)} {2} \\\\\n",
    "&=  O(n^2)\n",
    "\n",
    "\n",
    "\\end {aligned}\n",
    "$$\n"
   ]
  },
  {
   "cell_type": "markdown",
   "metadata": {},
   "source": []
  }
 ],
 "metadata": {
  "kernelspec": {
   "display_name": "Python 3.10.7 64-bit",
   "language": "python",
   "name": "python3"
  },
  "language_info": {
   "codemirror_mode": {
    "name": "ipython",
    "version": 3
   },
   "file_extension": ".py",
   "mimetype": "text/x-python",
   "name": "python",
   "nbconvert_exporter": "python",
   "pygments_lexer": "ipython3",
   "version": "3.10.7"
  },
  "orig_nbformat": 4,
  "vscode": {
   "interpreter": {
    "hash": "767d51c1340bd893661ea55ea3124f6de3c7a262a8b4abca0554b478b1e2ff90"
   }
  }
 },
 "nbformat": 4,
 "nbformat_minor": 2
}
