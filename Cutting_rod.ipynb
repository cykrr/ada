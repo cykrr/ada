{
 "cells": [
  {
   "cell_type": "markdown",
   "metadata": {},
   "source": [
    "# Cutting Rod"
   ]
  },
  {
   "cell_type": "markdown",
   "metadata": {},
   "source": [
    "## Descripción del problema"
   ]
  },
  {
   "cell_type": "markdown",
   "metadata": {},
   "source": [
    "![1.png](1.png)"
   ]
  },
  {
   "cell_type": "markdown",
   "metadata": {},
   "source": [
    "El problema cutting rod consiste en encontrar la cantidad óptima de cortes de\n",
    "forma que la ganancia generada por la venta de la varilla (o fracciones) de\n",
    "esta sea máxima.\n",
    "\n",
    "**Entrada:**\n",
    "\n",
    "largo de una varilla $n$, cuya ganancia queremos maximizar.\n",
    "\n",
    "arreglo de precios $p$: Con los precios de una varilla en el intervalo $(0..n)$.\n",
    "\n",
    "**Salida:**\n",
    "\n",
    "$m$: Ganancia máxima.\n",
    "\n",
    "$c$: Arreglo de cortes óptimos.\n"
   ]
  },
  {
   "cell_type": "markdown",
   "metadata": {},
   "source": [
    "## Descripción del algoritmo recursivo\n",
    "\n",
    "El algoritmo recursivo primero que nada define un caso base. Este corresponde a\n",
    "la  solución de un subproblema de tamaño $0$. Cuyo retorno corresponde a una\n",
    "ganancia máxima $0$. Para resolver el problema se define una variable $q$ y se\n",
    "le asigna un valor mínimo. (`-math.inf` en python). En esta se almacenará la\n",
    "ganancia máxima posible para el corte en $i$.\n",
    "\n",
    "\n",
    "Posteriormente se itera por todos los subproblemas posibles. Iniciando con un\n",
    "contador $i$ en el rango $(0,n)$. Se procede a revisar el corte en cada posición\n",
    "$i$.\n",
    "\n",
    "Este corte da origen a dos barras, una de largo $n-i$ y otra de largo $i$.\n",
    "Resolvemos el subproblema de tamaño $n-i$ de manera recursiva. El costo de la\n",
    "barra de largo $i$ es obtenido del arreglo de precios $p$ puesto que esta no\n",
    "será fraccionada.\n",
    "\n",
    "Se suman las ganancias de ambas barras, en el caso de ser mayor que la ganancia máxima para el corte en $i$. Se actualiza la variable $q$.\n",
    "\n",
    "Una vez finalizado el algoritmo, se retorna la variable $q$, la cual posee la ganancia máxima.\n",
    "\n",
    "### Guardado de cortes\n",
    "\n",
    "Los cortes son obtenidos recursivamente en cada iteración. Posteriormente se añade el corte actual (en la posición $i$) al arreglo de cortes obtenido. Por conveniencia y facilidad de comprensión de la salida del algoritmo aumentamos en uno este valor para que la indexación inicie en el valor 1 y no en 0.\n",
    "\n",
    "Una vez finalizada la ejecución del algoritmo los cortes son recuperados. Esto es necesario debido a que los cortes almacenados son los de los subproblemas y no los del problema original. Para esto se acumulan los valores, sumando el elemento actual al siguiente."
   ]
  },
  {
   "cell_type": "markdown",
   "metadata": {},
   "source": [
    "## Descripción del algoritmo DP\n",
    "\n",
    "El problema del corte de varillas tiene una subestructura óptima, lo que permite\n",
    "la utilización de la programación dinámica.\n",
    "\n",
    "Se dice que un problema tiene una subestructura óptima si la solución puede ser\n",
    "obtenida por medio de una combinación de soluciones de subproblemas.\n",
    "Generalmente las estructuras de estos problemas son descritos por medio de la\n",
    "recursión (como se observa en la implementación anterior). Con la particularidad\n",
    "de que los subproblemas se solapan, es decir, se van repitiendo. Esto implica\n",
    "que el espacio, o la dificultad de los irá disminuyendo. El algoritmo recursivo\n",
    "que resolverá el problema deberá generar recursivamente los mismos problemas, en\n",
    "vez de generar nuevos.\n",
    "\n",
    "Para la implementación dinámica, se define un arreglo $r$. Este será utilizado\n",
    "para mapear cada subproblema a su corte máximo. Posteriormente se resolverá la\n",
    "totalidad de subproblemas, partiendo por el más pequeño y finalizando con el\n",
    "problema original.\n",
    "\n",
    "Para cada iteración se presenta un subproblema de tamaño $i$. Este es resuelto revisando todos los posibles casos de dicho subproblema, esto es logrado utilizando un contador $j$ que iterará en el rango $(0, i)$.\n",
    "\n",
    "Para cada corte $i-j$ se calcula dinámicamente el máximo actual, ubicandolo en el mapa/arreglo $r$. Además, obtenemos la ganancia del resto de la barra $j$. La suma de ambos valores representa la ganancia del corte, en el caso de ser máxima, esta es almacenada en el arreglo $r$ para el subproblema $i$.\n",
    "\n",
    "Una vez todos los subproblemas son resueltos correctamente es posible resolver (de la misma manera) el problema original.\n",
    "\n",
    "### Guardado de cortes\n",
    "\n",
    "Para guardar los cortes. Se define un arreglo `cortes` de largo $n$.\n",
    "\n",
    "En el caso de que el corte en $i-j$ genere una ganancia máxima, se almacena la posición de este corte para el subproblema $i$. Cuyo valor corresponderá a $i-j(-1)$ (El -1 no es incluido para que la indexación del arreglo de salida inicie en 1 y no en 0).\n",
    "\n",
    "Una vez resuelto el problema, es decir, al finalizar ambos ciclos, se recorre el arreglo de cortes (aunque no linealmente). Se posiciona un cortador $d$ en el corte del problema original `cortes[d-1]` Cada corte $d$ es guardado en el arreglo de salida. de atrás para adelante, esto es logrado insertando en el arreglo de salida un corte en $n-d$.\n",
    "\n",
    "Posteriormente se actualiza el iterador $d$ con el corte del subproblema del subproblema anterior (inicialmente el problema original). `d = cortes[d-1]`. Se repite este proceso hasta llegar al caso base $d=0$."
   ]
  },
  {
   "cell_type": "markdown",
   "metadata": {},
   "source": [
    "## Ejemplo\n",
    "\n",
    "Dado un arreglo de precios $p = [1,2,2]$ y una barra de largo $n$. Se contemplan todos los casos posibles.\n",
    "\n",
    "El primer caso que uno podría considerar es la barra sin cortes. Esto es equivalente a un corte en el índice $0$. El cual produce, en este caso una ganancia $2$.\n",
    "\n",
    "El segundo caso es Considerando un corte en la primera posición. Esto da origen a dos barras, una de largo 1 y otra de largo 2. La ganancia de la barra de largo 1 es fácilmente obtenible del arreglo de precios, sin embargo la de largo dos tiene que ser calculada, pues puede que su máximo posea cortes en la barra.\n",
    "\n",
    "Una barra de tamaño dos tiene la opción de estar cortada o entera, las ganancias de estas dos opciones son 2 y 2 respectivamente. Por lo que en este caso da igual.\n",
    "\n",
    "Por lo que la ganancia generada por una barra de largo 1 y otra de largo 2 es de 3. Ganancia hasta ahora, máxima.\n",
    "\n",
    "Es fácil notar que para esta barra el mayor precio obtenible es tres. Por lo que si repetimos el proceso y actualizamos la ganancia máxima, en el caso de serlo. Obtendremos como resultado la ganancia del corte máximo.\n"
   ]
  },
  {
   "cell_type": "markdown",
   "metadata": {},
   "source": [
    "## Implementación recursiva"
   ]
  },
  {
   "cell_type": "code",
   "execution_count": null,
   "metadata": {},
   "outputs": [
    {
     "name": "stdout",
     "output_type": "stream",
     "text": [
      "Se obtiene una barra de largo 8 {\n",
      "    Se revisa el 1 corte, formando unabarra de largo 7 y una de largo 1\n",
      "    El corte en 1 genera una ganancia 24\n",
      "    El mayor entre -inf y 24 es 24\n",
      "    n = 8, i = 0, q = 24, c = 24\n",
      "    Se revisa el 2 corte, formando unabarra de largo 6 y una de largo 2\n",
      "    El corte en 2 genera una ganancia 23\n",
      "    El mayor entre 24 y 23 es 24\n",
      "    n = 8, i = 1, q = 24, c = 23\n",
      "    Se revisa el 3 corte, formando unabarra de largo 5 y una de largo 3\n",
      "    El corte en 3 genera una ganancia 23\n",
      "    El mayor entre 24 y 23 es 24\n",
      "    n = 8, i = 2, q = 24, c = 23\n",
      "    Se revisa el 4 corte, formando unabarra de largo 4 y una de largo 4\n",
      "    El corte en 4 genera una ganancia 21\n",
      "    El mayor entre 24 y 21 es 24\n",
      "    n = 8, i = 3, q = 24, c = 21\n",
      "    Se revisa el 5 corte, formando unabarra de largo 3 y una de largo 5\n",
      "    El corte en 5 genera una ganancia 19\n",
      "    El mayor entre 24 y 19 es 24\n",
      "    n = 8, i = 4, q = 24, c = 19\n",
      "    Se revisa el 6 corte, formando unabarra de largo 2 y una de largo 6\n",
      "    El corte en 6 genera una ganancia 23\n",
      "    El mayor entre 24 y 23 es 24\n",
      "    n = 8, i = 5, q = 24, c = 23\n",
      "    Se revisa el 7 corte, formando unabarra de largo 1 y una de largo 7\n",
      "    El corte en 7 genera una ganancia 20\n",
      "    El mayor entre 24 y 20 es 24\n",
      "    n = 8, i = 6, q = 24, c = 20\n",
      "    Se revisa el 8 corte, formando unabarra de largo 0 y una de largo 8\n",
      "    El corte en 8 genera una ganancia 20\n",
      "    El mayor entre 24 y 20 es 24\n",
      "    n = 8, i = 7, q = 24, c = 20\n",
      "} Máximo = 24\n",
      "max: 24 cortes: [1, 2, 3, 4, 5, 6, 7] cuenta: 255\n"
     ]
    }
   ],
   "source": [
    "import math\n",
    "import numpy as np\n",
    "\"\"\"\n",
    "Cutting rod recursivo\n",
    "\n",
    "Parametros:\n",
    "---\n",
    "p: arreglo de precios\n",
    "n: tamaño de la barra\n",
    "l: Nivel de identación de los prints\n",
    "r: Nivel de recursión\n",
    "v: Verbose? si/no \n",
    "! TODO : El algoritmo debe retornar los cortes \n",
    "\"\"\"\n",
    "def r_cutting_rod(p, n = -1, l = 0, v = False, counting = False):\n",
    "\n",
    "    # Proteger de entradas inválidas\n",
    "    if n > len(p): raise Exception(\"Error: La barra ingresada es de tamaño\" + \n",
    "     \"mayor al arreglo de precios.\")\n",
    "\n",
    "     \n",
    "    if n == -1: n = len(p) # Obtener n (no n-1 :v)\n",
    "\n",
    "    if v: print(\" \" * (l*4) + \"Se obtiene una barra de largo\", n, \"{\")\n",
    "\n",
    "    # Caso base\n",
    "    if n <= 0: \n",
    "        if v: print(\" \" * (l*4 + 4) + \"Caso base \\n\" + \" \" * (l*4) + \"}\")\n",
    "        return 0, [] # no hay cortes\n",
    "\n",
    "    cortes = np.zeros(n+1, int)\n",
    "    # print (\"    \" * l + \"barra [\", \"0 \"*n + \"] ,ganancia = \", p[n-1])\n",
    "    q = -math.inf # Almacena la ganancia mayor\n",
    "    for i in range(n):\n",
    "\n",
    "        if v: print (\" \" * 4*(l+1) + f\"Se revisa el {i+1} corte, formando una\" +\n",
    "            f\"barra de largo {n - i-1} y una de largo {i+1}\")\n",
    "\n",
    "        # Obtener costo del corte de manera recursiva\n",
    "\n",
    "        if counting: \n",
    "            global count; count+=1\n",
    "        c, rcortes = r_cutting_rod(p, n-i-1, l = l + 2, counting = True) \n",
    "\n",
    "        c += p[i]\n",
    "\n",
    "        if v: print(\" \"*4*(l+1)+ f\"El corte en {i+1} genera una ganancia {c}\")\n",
    "        if v: print(\" \"*4*(l+1)+ f\"El mayor entre {q} y {c} es {max(q,c)}\");\n",
    "\n",
    "        if n-i-1 != 0: \n",
    "            rcortes.append(i+1)\n",
    "            prev = i+1\n",
    "\n",
    "        if c > q: # si el corte actual es máximo:\n",
    "            q = c\n",
    "            cortes = rcortes\n",
    "        if v: print(\" \" * 4 *l + 4*\" \" + f\"n = {n}, i = {i}, q = {q}, c = {c}\")\n",
    "    if v: print (\" \" * l * 4 + f\"}} Máximo = {q}\")\n",
    "\n",
    "\n",
    "    return q, cortes # Devolver valor máximo de ganancia\n",
    "# r, c = r_cutting_rod([3,5,8,9,10,17,17,20]) # se corta en cada posicion\n",
    "# print(r, c[1:])\n",
    "# r, c = r_cutting_rod([3,2]) # se corta en 0 y en 1\n",
    "# print(r, c[1:])\n",
    "\n",
    "# r, c = r_cutting_rod([3]) # no se corta\n",
    "# print(r, c[1:])\n",
    "\n",
    "# r, c = r_cutting_rod([1, 5, 8, 9, 10, 17, 17, 20])\n",
    "# print(r,c)\n",
    "\n",
    "# print(r_cutting_rod([1,5,8,9,10,17,17,20,24,25]))\n",
    "\n",
    "count = 0\n",
    "# m,c = (r_cutting_rod([3,5,8,9,10,17,17,20],v = True, counting = True))\n",
    "m,c = (r_cutting_rod([1,1.5,2],v = True, counting = True))\n",
    "\n",
    "for i in range(1,len(c)):\n",
    "    c[i] += c[i-1]\n",
    "print(\"max:\",m,\"cortes:\",c, \"cuenta:\", count)"
   ]
  },
  {
   "cell_type": "markdown",
   "metadata": {},
   "source": [
    "## Implementación DP (Dynamic Programming)"
   ]
  },
  {
   "cell_type": "code",
   "execution_count": 28,
   "metadata": {},
   "outputs": [
    {
     "name": "stdout",
     "output_type": "stream",
     "text": [
      "3 []\n",
      "22 [2]\n",
      "24 [1, 2, 3, 4, 5, 6, 7]\n"
     ]
    }
   ],
   "source": [
    "import math\n",
    "import numpy as np\n",
    "from termcolor import cprint\n",
    "\"\"\"\n",
    "Cutting rod dinámico\n",
    "\n",
    "Parametros:\n",
    "---\n",
    "p: arreglo de precios\n",
    "n: tamaño de la barra\n",
    "v: Verbose? si/no \n",
    "El algoritmo retorna las posiciones del corte\n",
    "! TODO : verbose.\n",
    "\"\"\"\n",
    "def dp_cutting_rod(p, n = -1, v = False, counting = False):\n",
    "    if counting: global count;\n",
    "    if n == -1: n = len(p) # Obtener n automáticamente\n",
    "    if v: print(\"Se obtiene una barra \\t [ \" + f\"{n} \"*n + ']')\n",
    "    r = np.zeros(n+1, int);\n",
    "    cortes = np.zeros(n, int);\n",
    "    for i in range(n): # Recorre los elementos\n",
    "        q = -math.inf # Guarda la ganancia máxima\n",
    "        if v: print(\" \" *1*4 + \"Se revisa el corte \\t \", end = \"\") #11\n",
    "        if v: cprint((\"[ \" + f\"{i+1} \"*(i+1) + \"] \"), color = \"red\", end = \"\")  #1\n",
    "        if v: print()\n",
    "        for j in range(i+1):\n",
    "\n",
    "            c = p[j] + r[i-j-1] # Se obtiene dinámicamente el subproblema\n",
    "\n",
    "            if counting: count += 1\n",
    "\n",
    "            if v: print(\" \"*2*4 +\"[ \" + f\"{j+1} \"*(j+1) + \"] \", end = \"\")\n",
    "            if v: cc = \"red\" if r[i-j] == 0 else \"green\"\n",
    "            if v: cprint(((\"[ \" + f\"{i-j} \"*(i-j-1) + \"] \")if i-j-1 != 0 else \"\"), color = cc, end = \"\")\n",
    "            if v: print(f\"ganancia: {c}\", end = \"\")\n",
    "            if v: print()\n",
    "            if c > q:\n",
    "                q = c  # Se revisa si conviene el corte print (\" (maxima)\" if q == c else \"\") r[i] = (q) # Se guarda el subproblema $i$\n",
    "                cortes[i] = i-j\n",
    "        r[i] = q\n",
    "        if v: cprint((\"[ \" + f\"{i} \"*i + \"]\" if i != 0 else \"\"), color = \"yellow\", end = \"\")  #1\n",
    "        if v: print (f\": max = {q}\")\n",
    "        # print(q)\n",
    "    d = cortes[n-1]; dd = []\n",
    "    while d != 0:\n",
    "        dd.append(n-d)\n",
    "        d = cortes[d-1];\n",
    "    return r[n-1], dd # Se retorna la máxima ganancia\n",
    "# r, c =dp_cutting_rod([3,5,8,9,10,17,17,20]) # Se corta en trozos de 1u\n",
    "# print(r,c)\n",
    "# r, c = dp_cutting_rod([3,2]) # Se corta en trozos de 1u\n",
    "# print(r,c)\n",
    "r, c = dp_cutting_rod([3]) \n",
    "print(r,c) # No se corta, corte en a[0] = a\n",
    "\n",
    "r, c = dp_cutting_rod([1,5,8,9,10,17,17,20]) # Se corta en 2 y 6\n",
    "print(r,c) # No se corta, corte en a[0] = a\n",
    "\n",
    "r, c =dp_cutting_rod([3,5,8,9,10,17,17,20]) # Se corta en trozos de 1u\n",
    "print(r,c)"
   ]
  },
  {
   "cell_type": "markdown",
   "metadata": {},
   "source": [
    "## Prueba de correctitud del algoritmo dinámico"
   ]
  },
  {
   "cell_type": "markdown",
   "metadata": {},
   "source": [
    "Lema: El arreglo auxiliar posee las soluciones de todos los subproblemas \n",
    "anteriores\n",
    "\n",
    "**Inicialización:** No existen subproblemas anteriores. ($i=0$).\n",
    "\n",
    "**Mantención**: Se calcula el subproblema del corte en la posición actual ($i$).\n",
    "\n",
    "**Finalización**: Todos los subproblemas han sido calculados\n",
    " correctamente.\n",
    "\n",
    "El arreglo auxiliar que guarda los resultados contiene las solución de todos\n",
    "los subproblemas, junto con la solución del problema inicial."
   ]
  },
  {
   "cell_type": "markdown",
   "metadata": {},
   "source": [
    "## Prueba del tiempo de ejecución del algoritmo recursivo"
   ]
  },
  {
   "cell_type": "markdown",
   "metadata": {},
   "source": [
    "Es posible definir la función de recursión $T(n)$ en términos de todos los\n",
    "sub-problemas posibles (todos los cortes posibles). Esto es lograble iterando\n",
    "$i$ de $0$ hasta $n-1$. Pasando efectivamente por todos los subproblemas.\n",
    "La función de recurrencia $T(n)$ es la siguiente.\n",
    "\n",
    "$$\n",
    "T(n) = \\sum_{i=0}^{n-1} {T(i)}\n",
    "$$\n",
    "\n",
    "Para probar el tiempo de ejecución se dice que $T(n) = 2^n$ es correcto para\n",
    "un valor de $n$ arbitrario. Luego:\n",
    "\n",
    "$$\n",
    "T(n+1) = T(n) + \\sum_{i=0}^{n-1} {T(i)}\n",
    "$$\n",
    "\n",
    "Reemplazando, obtenemos:\n",
    "\n",
    "$$\n",
    "T(n+1) = T(n) + T(n) \n",
    "$$\n",
    "\n",
    "$$\n",
    "2 \\cdot 2^n = 2^{n+1}\n",
    "$$\n"
   ]
  },
  {
   "cell_type": "markdown",
   "metadata": {},
   "source": [
    "## Prueba del tiempo de ejecución del algoritmo DP\n",
    "\n",
    "El tiempo de ejecución de esta rutina es $O(n^2)$ ya que cada subproblema\n",
    "es resuelto exactamente una vez. Para resolver el subproblema en la posición\n",
    "$i$, realizamos $i$ iteraciones del ciclo. \n",
    "\n",
    "Para calcular esto se define el tiempo de ejecución $T(n)$:\n",
    "\n",
    "$$\n",
    "\\begin {aligned}\n",
    "T(n) &= c \\sum_{i = 0} ^ {n-1} \\sum _ {j = 1}  ^ {i} j \\\\\n",
    "&=  c \\sum_{i = 0} ^ {n-1} j \\\\\n",
    "&=  c \\cdot \\cfrac {n (n+1)} {2} \\\\\n",
    "&=  O(n^2)\n",
    "\n",
    "\n",
    "\\end {aligned}\n",
    "$$\n"
   ]
  },
  {
   "cell_type": "markdown",
   "metadata": {},
   "source": [
    "## Complejidad espacial del algoritmo DP\n",
    "\n",
    "Teorema: la implementación dinámica tiene una complejidad espacial $O(n)$.\n",
    "\n",
    "Para la solución del problema es necesario almacenar un valor por cada posible corte / subproblema, este valor es almacenado en el arreglo $r$ Cuyo tamaño depende linealmente del tamaño del arreglo. Por lo que la complejidad es $O(n)$."
   ]
  },
  {
   "cell_type": "markdown",
   "metadata": {},
   "source": [
    "## Experimentos\n",
    "\n",
    "### Comparación DP / recursivo"
   ]
  },
  {
   "cell_type": "code",
   "execution_count": 29,
   "metadata": {},
   "outputs": [
    {
     "data": {
      "image/png": "[encoded data removed]",
      "text/plain": [
       "<Figure size 640x480 with 1 Axes>"
      ]
     },
     "metadata": {},
     "output_type": "display_data"
    }
   ],
   "source": [
    "# Setup\n",
    "\n",
    "from timeit import repeat as r\n",
    "from random import randint\n",
    "from matplotlib import pyplot as plt\n",
    "\n",
    "fmi = \"from __main__ import \"\n",
    "acr = \"as cr\"\n",
    "import_recursive = fmi + \"r_cutting_rod \" + acr\n",
    "import_dp = fmi + \"dp_cutting_rod \" + acr\n",
    "n = 10\n",
    "rpt = 1\n",
    "\n",
    "def rand_arr(n):\n",
    "    a = []; p = 0;\n",
    "    for i in range(n):\n",
    "        r = randint(1, 10);\n",
    "        a.append(p+r)\n",
    "        p += r\n",
    "    return a\n",
    "\n",
    "\n",
    "# Arrs\n",
    "x = [];\n",
    "y1 = [];\n",
    "y2 = [];\n",
    "\n",
    "# Do\n",
    "for i in range(10, 20):\n",
    "    a = rand_arr(i);\n",
    "    t1 = r(\n",
    "        setup = import_recursive,\n",
    "        stmt = f\"cr({a})\",\n",
    "        number = n,\n",
    "        repeat = rpt\n",
    "        )\n",
    "    t2 = r(\n",
    "        setup = import_dp,\n",
    "        stmt = f\"cr({a})\",\n",
    "        number = n,\n",
    "        repeat = rpt\n",
    "    )\n",
    "    x.append(i)\n",
    "    y1.append(t1)\n",
    "    y2.append(t2)\n",
    "# Graph\n",
    "plt.clf() # clear\n",
    "plt.plot(x,y1)\n",
    "plt.plot(x,y2)\n",
    "plt.legend([\"Recursivo\", \"Dinámico\"])\n",
    "plt.xlabel(\"Tamaño problema (n)\")\n",
    "plt.ylabel(\"Tiempo en ms\")\n",
    "plt.show()"
   ]
  },
  {
   "cell_type": "markdown",
   "metadata": {},
   "source": []
  },
  {
   "cell_type": "markdown",
   "metadata": {},
   "source": [
    "Es posible observar una abismal diferencia entre los tiempos de ejecución de\n",
    "las dos implementaciones. A pesar de que el algoritmo dinámico tiene una cota\n",
    "que uno podría considerar \"elevada\" al ser $O(n^2)$ este presenta un mejor\n",
    "comportamiento contra la aún más elevada cota asintótica de la solución\n",
    " recursiva.\n",
    "\n",
    "La solución recursiva deberá revisar cada posible combinación. Al ser su\n",
    "complejidad $O(2^n)$. Cada iteración doblará el tiempo de ejecución de la\n",
    "iteración anterior."
   ]
  },
  {
   "cell_type": "code",
   "execution_count": 32,
   "metadata": {},
   "outputs": [
    {
     "data": {
      "image/png": "[encoded data removed]",
      "text/plain": [
       "<Figure size 640x480 with 1 Axes>"
      ]
     },
     "metadata": {},
     "output_type": "display_data"
    }
   ],
   "source": [
    "\n",
    "# Setup\n",
    "\n",
    "from timeit import repeat as r\n",
    "from random import randint\n",
    "from matplotlib import pyplot as plt\n",
    "\n",
    "fmi = \"from __main__ import \"\n",
    "acr = \"as cr\"\n",
    "import_recursive = fmi + \"r_cutting_rod \" + acr\n",
    "import_dp = fmi + \"dp_cutting_rod \" + acr\n",
    "n = 10\n",
    "rpt = 1\n",
    "\n",
    "def rand_arr(n):\n",
    "    a = []; p = 0;\n",
    "    for i in range(n):\n",
    "        r = randint(1, 10);\n",
    "        a.append(p+r)\n",
    "        p += r\n",
    "    return a\n",
    "\n",
    "\n",
    "# Arrs\n",
    "x = [];\n",
    "y1 = [];\n",
    "\n",
    "# Do\n",
    "for i in range(1, 25):\n",
    "    a = rand_arr(i);\n",
    "    count = 0;\n",
    "    dp_cutting_rod(a, counting = True);\n",
    "    x.append(i)\n",
    "    y1.append(count)\n",
    "# Graph\n",
    "plt.clf() # clear\n",
    "plt.plot(x,y1)\n",
    "plt.xlabel(\"Tamaño problema (n)\")\n",
    "plt.ylabel(\"subproblemas resueltos\")\n",
    "plt.show()"
   ]
  },
  {
   "cell_type": "markdown",
   "metadata": {},
   "source": []
  },
  {
   "cell_type": "markdown",
   "metadata": {},
   "source": []
  }
 ],
 "metadata": {
  "kernelspec": {
   "display_name": "Python 3.10.7 64-bit",
   "language": "python",
   "name": "python3"
  },
  "language_info": {
   "codemirror_mode": {
    "name": "ipython",
    "version": 3
   },
   "file_extension": ".py",
   "mimetype": "text/x-python",
   "name": "python",
   "nbconvert_exporter": "python",
   "pygments_lexer": "ipython3",
   "version": "3.10.7"
  },
  "orig_nbformat": 4,
  "vscode": {
   "interpreter": {
    "hash": "767d51c1340bd893661ea55ea3124f6de3c7a262a8b4abca0554b478b1e2ff90"
   }
  }
 },
 "nbformat": 4,
 "nbformat_minor": 2
}
