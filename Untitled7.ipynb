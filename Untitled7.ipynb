{
  "nbformat": 4,
  "nbformat_minor": 0,
  "metadata": {
    "colab": {
      "name": "Untitled7.ipynb",
      "provenance": [],
      "authorship_tag": "ABX9TyOgdrvUHw8IenZnFkUJbkRP",
      "include_colab_link": true
    },
    "kernelspec": {
      "name": "python3",
      "display_name": "Python 3"
    },
    "language_info": {
      "name": "python"
    }
  },
  "cells": [
    {
      "cell_type": "markdown",
      "metadata": {
        "id": "view-in-github",
        "colab_type": "text"
      },
      "source": [
        "<a href=\"https://colab.research.google.com/github/cykrr/ada/blob/master/Untitled7.ipynb\" target=\"_parent\"><img src=\"https://colab.research.google.com/assets/colab-badge.svg\" alt=\"Open In Colab\"/></a>"
      ]
    },
    {
      "cell_type": "markdown",
      "source": [
        "# Problema de ordenamiento\n",
        "\n",
        "El problema de ordenamiento es uno de los problemas más estudiados en el campo\n",
        "de las ciencias de la computación. Este es resuelto por medio de variados\n",
        "algoritmos que se comportan de mejor o peor manera dependiendo del arreglo a\n",
        "ordenar. En el presente informe se analizará el comportamiento del algoritmo\n",
        "**Insertion Sort** .\n",
        "\n",
        "**Entrada**: Secuencia de n elementos $[a_1, a_2, ..., a_n]$\n",
        "\n",
        "**Salida**: Permutación ordenada de la secuencia de entrada: $[a_1', a_2', ..., a_n']$\n",
        "con $a_1' \\leq a_2' \\leq ... \\leq a_n'$\n",
        "\n",
        "## Descripción del algoritmo\n",
        "\n",
        "El Insertion Sort consiste en recorrer el arreglo de izquierda a derecha. Cada\n",
        "elemento será comparado con los elementos a su izquierda y reubicado hasta que su\n",
        "posición sea la correcta.\n",
        "\n",
        "Se recibe una lista $a$ con una serie de $n$ elementos a ser ordenados. Estos son\n",
        "ordenados dentro de la misma lista.\n",
        "\n",
        "- InsertionSort(A):\n",
        "  - Se itera $i$ desde $1$ hasta $n$\n",
        "    - Se itera $j$ de $i$ hasta $0$\n",
        "      - Si el j-ésimo elemento del arreglo es menor que el elemento $A[j-1]$ del\n",
        "      arreglo, intercambiamos su posición\n",
        "\n",
        "## Insertion Sort\n",
        "\n",
        "\n"
      ],
      "metadata": {
        "id": "RBmbFoDECIVy"
      }
    },
    {
      "cell_type": "code",
      "source": [
        "from termcolor import cprint\n",
        "def p(A, n ,s1 = -1, s2 = -1):\n",
        "    for i in range(len(A)):\n",
        "        if (n == i): cprint (A[i], \"red\", end = \" \")\n",
        "        elif (i < n): cprint(A[i], \"green\", end = \" \")\n",
        "        else: print(A[i], end = \" \")\n",
        "    print()\n",
        "\n",
        "def sort(a: list, verbose: bool = False):\n",
        "    aux = 0\n",
        "    n = len(a)\n",
        "    if verbose: print(\"Arreglo\", a, \":\")\n",
        "    for i in range(1, n):\n",
        "        if verbose: p(a, i)\n",
        "        j = i\n",
        "        while (a[j] < a[j-1] and j > 0):\n",
        "            a[j], a[j-1] = a[j-1], a[j]\n",
        "            aux+=1\n",
        "            if verbose:\n",
        "                print (f\"Intercambiamos: ({a[j]},{a[j-1]})\")\n",
        "            j -= 1\n",
        "    return a, aux\n",
        "\n"
      ],
      "metadata": {
        "id": "VjKiRQ0wCQzq"
      },
      "execution_count": null,
      "outputs": []
    },
    {
      "cell_type": "markdown",
      "source": [
        "\n",
        "## Análisis del algoritmo\n",
        "\n",
        "Añadiremos una variable auxiliar para obtener la\n",
        "cantidad de veces que el agoritmo debe retroceder\n",
        "al realizar el ordenamiento. A mayor el valor de\n",
        "esta variable auxiliar, peor será el caso\n",
        "correspondiente.\n",
        "\n",
        "## Ejemplo\n",
        "\n",
        "Sea $a = [\\color{blue}{8}\\color{reset}, 3, 7, 5, 9]$\n",
        "\n",
        "Partimos de izquierda a derecha. Podemos decir que el\n",
        "primer elemento esta ordenado ya que no tiene ningún\n",
        "elemento menor a su izquierda, así que la primera\n",
        "iteración parte del segundo valor. Con el objetivo de facilitar\n",
        "la lectura los elementos ordenados tendrán el color azul y el\n",
        "elemento actual ($A[i])$ tendrá  color rojo.\n",
        "\n",
        "$a = [\\color {blue} 3, \\color {red} 8 \\color {reset}, 7, 5, 9]$\n",
        "\n",
        "El $3$ es menor que el $8$. Para llevarlo a su\n",
        "posición correspondiente lo desplazamos una casilla\n",
        "hacia la derecha.\n",
        "\n",
        "$a = [\\color {blue} 3, 8 \\color {reset}, \\color {red}\n",
        "7 \\color {reset}, 5, 9]$\n",
        "\n",
        "El $7$ necesita ser reubicado, al igual que el $8$ lo\n",
        "desplazamos una posición a la izquierda\n",
        "\n",
        "$a = [\\color {blue} 3, 7, 8 \\color {reset},\n",
        "\\color {red} 5 \\color {reset}, 9]$\n",
        "\n",
        "El cinco necesita desplazarse dos posiciones para\n",
        "llegar a su posición ideal\n",
        "\n",
        "$a = [\\color {blue} 3, 7, \\color {red}5 \\color {reset}, 8, 9]$\n",
        "\n",
        "$a = [\\color {blue} 3, \\color {red}5 \\color {blue} , 7, 8, 9]$\n",
        "\n",
        "$a = [\\color {blue} 3, 5 , 7, 8,\\color {red} 9\\color {reset}]$\n",
        "\n",
        "Ya en la última posición el arreglo se encuentra completamente ordenado\n",
        "\n",
        "\n",
        "## Ejemplo de ejecución `verbose = true`"
      ],
      "metadata": {
        "id": "7r8bPsM8CmAe"
      }
    },
    {
      "cell_type": "code",
      "source": [
        "print(sort([9,8,7,6,5,4,3,2,1], True))"
      ],
      "metadata": {
        "colab": {
          "base_uri": "https://localhost:8080/"
        },
        "id": "GbNohPYKCwWG",
        "outputId": "92c7abd7-96e7-4e6a-c532-b5852d09cf23"
      },
      "execution_count": null,
      "outputs": [
        {
          "output_type": "stream",
          "name": "stdout",
          "text": [
            "Arreglo [9, 8, 7, 6, 5, 4, 3, 2, 1] :\n",
            "\u001b[32m9\u001b[0m \u001b[31m8\u001b[0m 7 6 5 4 3 2 1 \n",
            "Intercambiamos: (9,8)\n",
            "\u001b[32m8\u001b[0m \u001b[32m9\u001b[0m \u001b[31m7\u001b[0m 6 5 4 3 2 1 \n",
            "Intercambiamos: (9,7)\n",
            "Intercambiamos: (8,7)\n",
            "\u001b[32m7\u001b[0m \u001b[32m8\u001b[0m \u001b[32m9\u001b[0m \u001b[31m6\u001b[0m 5 4 3 2 1 \n",
            "Intercambiamos: (9,6)\n",
            "Intercambiamos: (8,6)\n",
            "Intercambiamos: (7,6)\n",
            "\u001b[32m6\u001b[0m \u001b[32m7\u001b[0m \u001b[32m8\u001b[0m \u001b[32m9\u001b[0m \u001b[31m5\u001b[0m 4 3 2 1 \n",
            "Intercambiamos: (9,5)\n",
            "Intercambiamos: (8,5)\n",
            "Intercambiamos: (7,5)\n",
            "Intercambiamos: (6,5)\n",
            "\u001b[32m5\u001b[0m \u001b[32m6\u001b[0m \u001b[32m7\u001b[0m \u001b[32m8\u001b[0m \u001b[32m9\u001b[0m \u001b[31m4\u001b[0m 3 2 1 \n",
            "Intercambiamos: (9,4)\n",
            "Intercambiamos: (8,4)\n",
            "Intercambiamos: (7,4)\n",
            "Intercambiamos: (6,4)\n",
            "Intercambiamos: (5,4)\n",
            "\u001b[32m4\u001b[0m \u001b[32m5\u001b[0m \u001b[32m6\u001b[0m \u001b[32m7\u001b[0m \u001b[32m8\u001b[0m \u001b[32m9\u001b[0m \u001b[31m3\u001b[0m 2 1 \n",
            "Intercambiamos: (9,3)\n",
            "Intercambiamos: (8,3)\n",
            "Intercambiamos: (7,3)\n",
            "Intercambiamos: (6,3)\n",
            "Intercambiamos: (5,3)\n",
            "Intercambiamos: (4,3)\n",
            "\u001b[32m3\u001b[0m \u001b[32m4\u001b[0m \u001b[32m5\u001b[0m \u001b[32m6\u001b[0m \u001b[32m7\u001b[0m \u001b[32m8\u001b[0m \u001b[32m9\u001b[0m \u001b[31m2\u001b[0m 1 \n",
            "Intercambiamos: (9,2)\n",
            "Intercambiamos: (8,2)\n",
            "Intercambiamos: (7,2)\n",
            "Intercambiamos: (6,2)\n",
            "Intercambiamos: (5,2)\n",
            "Intercambiamos: (4,2)\n",
            "Intercambiamos: (3,2)\n",
            "\u001b[32m2\u001b[0m \u001b[32m3\u001b[0m \u001b[32m4\u001b[0m \u001b[32m5\u001b[0m \u001b[32m6\u001b[0m \u001b[32m7\u001b[0m \u001b[32m8\u001b[0m \u001b[32m9\u001b[0m \u001b[31m1\u001b[0m \n",
            "Intercambiamos: (9,1)\n",
            "Intercambiamos: (8,1)\n",
            "Intercambiamos: (7,1)\n",
            "Intercambiamos: (6,1)\n",
            "Intercambiamos: (5,1)\n",
            "Intercambiamos: (4,1)\n",
            "Intercambiamos: (3,1)\n",
            "Intercambiamos: (2,1)\n",
            "([1, 2, 3, 4, 5, 6, 7, 8, 9], 36)\n"
          ]
        }
      ]
    },
    {
      "cell_type": "markdown",
      "source": [
        "\n",
        "## Propiedad invariante del bucle\n",
        "\n",
        "Para demostrar la correctitud del algoritmo es necesario\n",
        "establecer condiciones que se cumplan a lo largo de la\n",
        "ejecución del algoritmo.\n",
        "\n",
        "En el caso del InsertionSort recorremos los elementos del\n",
        "arreglo $a$ con un contador $i$. A mano izquierda de la\n",
        "posición $a[i]$ se forma un subarreglo ordenado de longitud $i$.\n",
        "En cada iteración del ciclo nos aseguramos de que este subarreglo\n",
        "se mantenga ordenado con la ayuda de un contador $j$, si se encuentra un\n",
        "elemento $A[j]$ mayor que $A[j-1]$ se desplazará hasta que $A[j-1]$ sea menor\n",
        "que $A[j]$.\n",
        "\n",
        "### Correctitud\n",
        "\n",
        "El algoritmo concluye una vez que $i = n + 1$. Como antes de finalizar la última\n",
        "iteración nos aseguramos de que el último elemento se desplaza a su posición\n",
        "correspondiente entonces podemos afirmar que el subarreglo se encuentra\n",
        "completamente ordenado. Como sabemos que el tamaño del subarreglo es de\n",
        "$i$ y que $i = n + 1$ Podemos decir que la longitud del subarreglo ordenado\n",
        "es de $n$ y por ende que todo el arreglo está ordenado.\n",
        "\n",
        "## Tiempo de ejecución\n",
        "\n",
        "El tiempo de ejecución de InsertionSort está condicionado tanto por el orden\n",
        "los valores como de la longitud del arreglo.\n",
        "\n",
        "### Peor caso\n",
        "\n",
        "El peor caso se da cuando el arreglo está en un orden inverso al orden objetivo\n",
        "debido a que cada elemento debe desplazarse $i$ posiciones en cada iteración. En\n",
        "concreto se realizarán $\\sum_{i = 1}^n i$ permutaciones. O lo que es lo mismo,\n",
        "$\\cfrac {n(n-1)} {2}$. De esto podemos concluir que el tiempo de ejecución en el\n",
        "peor caso es de $O(n^2)$\n",
        "\n",
        "### Mejor caso\n",
        "\n",
        "El mejor caso se da cuando el arreglo está completamente ordenado ya que no\n",
        "se realiza ninguna comparación y por ende ningún intercambio. Al no realizar\n",
        "permutaciones podemos decir que el tiempo de ejecución del mejor caso es de\n",
        "$O(n)$. Esto hace que el InsertionSort sea una excelente opción cuando el\n",
        "arreglo a ordenar está mayoritaria o completamente ordenado.\n",
        "\n",
        "### Número de comparaciones\n",
        "\n",
        "Si bien el algoritmo Bubble Sort e Insertion Sort comparten el tiempo de\n",
        "ejecución en su mejor, peor, y caso promedio, estos no se comportan de igual\n",
        "manera. Con el objetivo de identificar cual se comporta de mejor manera se\n",
        "analizará la cantidad de veces en las que el algoritmo realiza un cambio de\n",
        "posición de un elemento del arreglo y se comparará con el algoritmo BubbleSort.\n",
        "\n",
        "\n"
      ],
      "metadata": {
        "id": "2lFwcJtDC4Y4"
      }
    },
    {
      "cell_type": "code",
      "source": [
        "import random\n",
        "from matplotlib import pyplot as plt\n",
        "def b_sort(A):\n",
        "    aux = 0\n",
        "    for i in range (len(A) - 1):\n",
        "        swap = False\n",
        "        for j in range (len(A) - i - 1):\n",
        "            aux += 1\n",
        "            if (A[i] < A[j]):\n",
        "                A[i], A[j] = A[j], A[i]\n",
        "                swap = True\n",
        "        if not swap:\n",
        "            return A, aux\n",
        "    return A, aux\n",
        "def ins_sort(A):\n",
        "    aux = 0\n",
        "    for i in range(len(A)):\n",
        "        j = i\n",
        "        aux +=1\n",
        "        while (A[j] < A[j-1] and j > 0):\n",
        "            A[j], A[j-1] = A[j-1], A[j]\n",
        "            aux +=1\n",
        "            j -=1\n",
        "    return A, aux;\n",
        "\n",
        "\n",
        "print(ins_sort(list(range(10))))\n",
        "\n",
        "y = []\n",
        "y2 = []\n",
        "samples = 1000\n",
        "x = [n for n in range (10, samples)]\n",
        "y3 = [n * (n-1) / 2 for n in range (10, samples)]\n",
        "for n in range(10, samples):\n",
        "    arr = random.sample(range(1, samples), n)\n",
        "    a, count = b_sort(arr)\n",
        "    y.append(count);\n",
        "    a, count = ins_sort(arr)\n",
        "    y2.append(count);\n",
        "\n",
        "plt.plot(x, y)\n",
        "plt.plot(x, y2)\n",
        "plt.plot(x, y3)\n",
        "plt.legend([\"Bubble Sort\", \"Insertion Sort\", \"Worst\"])\n",
        "plt.show()"
      ],
      "metadata": {
        "colab": {
          "base_uri": "https://localhost:8080/",
          "height": 284
        },
        "id": "6p1B_6qCC4JN",
        "outputId": "4c490cee-a90d-4889-8a94-72678d9a4460"
      },
      "execution_count": null,
      "outputs": [
        {
          "output_type": "stream",
          "name": "stdout",
          "text": [
            "([0, 1, 2, 3, 4, 5, 6, 7, 8, 9], 10)\n"
          ]
        },
        {
          "output_type": "display_data",
          "data": {
            "text/plain": [
              "<Figure size 432x288 with 1 Axes>"
            ],
            "image/png": "[encoded data removed]"
          },
          "metadata": {
            "needs_background": "light"
          }
        }
      ]
    },
    {
      "cell_type": "markdown",
      "source": [
        "\n",
        "Como podemos observar, dado un arreglo aleatorio ambos algoritmos de comportan\n",
        "de manera similar hasta un tamaño de 200 elementos. Sin embargo a medida que\n",
        "nos alejamos de esta cifra la diferencia aumenta considerablemente. Como el peor\n",
        "caso señalado en la gráfica es el mismo para ambos algoritmos podemos concluir\n",
        "que en casos generales el algoritmo InsertionSort se mantendrá más alejado del\n",
        "peor caso posible, por lo tanto ofreciendo un mejor rendimiento."
      ],
      "metadata": {
        "id": "1xvrEWSKDHKz"
      }
    },
    {
      "cell_type": "code",
      "source": [
        ""
      ],
      "metadata": {
        "id": "u-Wli4pNDINR"
      },
      "execution_count": null,
      "outputs": []
    }
  ]
}