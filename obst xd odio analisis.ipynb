{
  "nbformat": 4,
  "nbformat_minor": 0,
  "metadata": {
    "colab": {
      "provenance": [],
      "collapsed_sections": [],
      "include_colab_link": true
    },
    "kernelspec": {
      "name": "python3",
      "display_name": "Python 3"
    }
  },
  "cells": [
    {
      "cell_type": "markdown",
      "metadata": {
        "id": "view-in-github",
        "colab_type": "text"
      },
      "source": [
        "<a href=\"https://colab.research.google.com/github/cykrr/ada/blob/master/obst%20xd%20odio%20analisis.ipynb\" target=\"_parent\"><img src=\"https://colab.research.google.com/assets/colab-badge.svg\" alt=\"Open In Colab\"/></a>"
      ]
    },
    {
      "cell_type": "markdown",
      "source": [
        "# Árbol binario de búsqueda óptimo (Optimal BST)"
      ],
      "metadata": {
        "id": "VwQF3-roBxe8"
      }
    },
    {
      "cell_type": "markdown",
      "source": [
        "## Descripción del problema"
      ],
      "metadata": {
        "id": "xfv45vR3B-gf"
      }
    },
    {
      "cell_type": "markdown",
      "source": [
        "El problema del árbol binario de búsqueda óptimo consiste en, dado un arreglo de\n",
        "claves $k$ y un arreglo de probabilidades $p$ (donde a cada elemento $p_n$ le\n",
        "corresponde un único $k_n$), se busca construir un árbol binario de búsqueda de\n",
        "forma que este sea óptimo.\n",
        "\n",
        "Un Optimal BST es aquella permutación de los nodos del arreglo $k$ de forma que\n",
        "su tiempo de búsqueda promedio para todo nodo de clave $k_n$ es óptimo.\n",
        "\n",
        "**Entrada**: Un arreglo $k$ con las claves y un arreglo $p$ con las\n",
        "probabilidades. Ambos de largo $n$.\n",
        "\n",
        "**Salida**: Costo promedio de búsqueda y un `TreeNode` conteniendo el Optimal\n",
        "BST.\n",
        "\n"
      ],
      "metadata": {
        "id": "-GC3J7RZzC2t"
      }
    },
    {
      "cell_type": "markdown",
      "source": [
        "## Ejemplo\n",
        "\n",
        "Se tiene un arreglo de claves $k: [1,2,3,4]$ y un arreglo de probabilidades\n",
        "$p: [40\\%,10\\%,30\\%,20\\%]$. Se busca un Optimal BST para dicha entrada.\n",
        "\n",
        "El costo mínimo para un árbol con dichas\n",
        "probabilidades posee como mínimo la suma de todas las probabilidades. $.4 + .1 + .3 + .2 = 1$. Esto debido a que cada nodo estará presenta al menos una vez en\n",
        "el Optimal BST (independiente del nivel).\n",
        "\n",
        "![image.png](data:image/png;base64,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)"
      ],
      "metadata": {
        "id": "R7orI-2k0AYu"
      }
    },
    {
      "cell_type": "markdown",
      "source": [
        "El árbol anterior es óptimo debido a que su promedio del costo de búsqueda por nodo es mínimo. $1 \\times .3 + 2 \\times (.4 + .2) + 3 \\times .2$.\n",
        "\n",
        "Se obseva que el nodo con mayor probabilidades no siempre será aquel que se\n",
        "encuentre en la raíz del BST. Esto es debido al orden de las claves. (El elemento de clave $3$ no podría estar a la izquierda del árbol, debido a que $1<3$. Por lo que el elemento añadiría un nivel más al costo de búsqueda. Aumentando su valor."
      ],
      "metadata": {
        "id": "uSQRIyZc2gi1"
      }
    },
    {
      "metadata": {
        "id": "YlIxbUqpcEdl",
        "cellView": "form",
        "colab": {
          "base_uri": "https://localhost:8080/"
        },
        "outputId": "f7693925-9bbb-4886-9896-649fe62e6da8"
      },
      "cell_type": "code",
      "source": [
        "#@markdown Instalar Cairo (librería de dibujo vectorial)\n",
        "\n",
        "#@markdown [https://www.cairographics.org](https://www.cairographics.org)\n",
        "!apt-get install libcairo2-dev libjpeg-dev libgif-dev\n",
        "!pip install pycairo"
      ],
      "execution_count": 42,
      "outputs": [
        {
          "output_type": "stream",
          "name": "stdout",
          "text": [
            "Reading package lists... Done\n",
            "Building dependency tree       \n",
            "Reading state information... Done\n",
            "libjpeg-dev is already the newest version (8c-2ubuntu8).\n",
            "libjpeg-dev set to manually installed.\n",
            "libgif-dev is already the newest version (5.1.4-2ubuntu0.1).\n",
            "libgif-dev set to manually installed.\n",
            "The following package was automatically installed and is no longer required:\n",
            "  libnvidia-common-460\n",
            "Use 'apt autoremove' to remove it.\n",
            "The following additional packages will be installed:\n",
            "  libcairo-script-interpreter2 libpixman-1-dev libxcb-shm0-dev\n",
            "Suggested packages:\n",
            "  libcairo2-doc\n",
            "The following NEW packages will be installed:\n",
            "  libcairo-script-interpreter2 libcairo2-dev libpixman-1-dev libxcb-shm0-dev\n",
            "0 upgraded, 4 newly installed, 0 to remove and 12 not upgraded.\n",
            "Need to get 930 kB of archives.\n",
            "After this operation, 3,986 kB of additional disk space will be used.\n",
            "Get:1 http://archive.ubuntu.com/ubuntu bionic-updates/main amd64 libcairo-script-interpreter2 amd64 1.15.10-2ubuntu0.1 [53.5 kB]\n",
            "Get:2 http://archive.ubuntu.com/ubuntu bionic/main amd64 libpixman-1-dev amd64 0.34.0-2 [244 kB]\n",
            "Get:3 http://archive.ubuntu.com/ubuntu bionic-updates/main amd64 libxcb-shm0-dev amd64 1.13-2~ubuntu18.04 [6,684 B]\n",
            "Get:4 http://archive.ubuntu.com/ubuntu bionic-updates/main amd64 libcairo2-dev amd64 1.15.10-2ubuntu0.1 [626 kB]\n",
            "Fetched 930 kB in 1s (877 kB/s)\n",
            "Selecting previously unselected package libcairo-script-interpreter2:amd64.\n",
            "(Reading database ... 123934 files and directories currently installed.)\n",
            "Preparing to unpack .../libcairo-script-interpreter2_1.15.10-2ubuntu0.1_amd64.deb ...\n",
            "Unpacking libcairo-script-interpreter2:amd64 (1.15.10-2ubuntu0.1) ...\n",
            "Selecting previously unselected package libpixman-1-dev:amd64.\n",
            "Preparing to unpack .../libpixman-1-dev_0.34.0-2_amd64.deb ...\n",
            "Unpacking libpixman-1-dev:amd64 (0.34.0-2) ...\n",
            "Selecting previously unselected package libxcb-shm0-dev:amd64.\n",
            "Preparing to unpack .../libxcb-shm0-dev_1.13-2~ubuntu18.04_amd64.deb ...\n",
            "Unpacking libxcb-shm0-dev:amd64 (1.13-2~ubuntu18.04) ...\n",
            "Selecting previously unselected package libcairo2-dev:amd64.\n",
            "Preparing to unpack .../libcairo2-dev_1.15.10-2ubuntu0.1_amd64.deb ...\n",
            "Unpacking libcairo2-dev:amd64 (1.15.10-2ubuntu0.1) ...\n",
            "Setting up libcairo-script-interpreter2:amd64 (1.15.10-2ubuntu0.1) ...\n",
            "Setting up libxcb-shm0-dev:amd64 (1.13-2~ubuntu18.04) ...\n",
            "Setting up libpixman-1-dev:amd64 (0.34.0-2) ...\n",
            "Setting up libcairo2-dev:amd64 (1.15.10-2ubuntu0.1) ...\n",
            "Processing triggers for libc-bin (2.27-3ubuntu1.6) ...\n",
            "Looking in indexes: https://pypi.org/simple, https://us-python.pkg.dev/colab-wheels/public/simple/\n",
            "Collecting pycairo\n",
            "  Downloading pycairo-1.21.0.tar.gz (340 kB)\n",
            "\u001b[K     |████████████████████████████████| 340 kB 5.1 MB/s \n",
            "\u001b[?25h  Installing build dependencies ... \u001b[?25l\u001b[?25hdone\n",
            "  Getting requirements to build wheel ... \u001b[?25l\u001b[?25hdone\n",
            "    Preparing wheel metadata ... \u001b[?25l\u001b[?25hdone\n",
            "Building wheels for collected packages: pycairo\n",
            "  Building wheel for pycairo (PEP 517) ... \u001b[?25l\u001b[?25hdone\n",
            "  Created wheel for pycairo: filename=pycairo-1.21.0-cp37-cp37m-linux_x86_64.whl size=286819 sha256=37277f954916d96ae0f24d9e4e9dcb01fc573da9b18719abc63b14fe03a2d9fb\n",
            "  Stored in directory: /root/.cache/pip/wheels/69/1e/e8/ea8e397b1bea0fcbcffad6477c5ced6550a2adc259ed400405\n",
            "Successfully built pycairo\n",
            "Installing collected packages: pycairo\n",
            "Successfully installed pycairo-1.21.0\n"
          ]
        }
      ]
    },
    {
      "metadata": {
        "id": "Gr-bAca8evaX",
        "cellView": "form"
      },
      "cell_type": "code",
      "source": [
        "#@markdown importar librerías necesarias. \n",
        "\n",
        "import cairo\n",
        "from google.colab import files\n",
        "from IPython.display import SVG, display, Image\n",
        "from random import randint\n",
        "from math import sin, cos, pi, inf\n",
        "from copy import copy, deepcopy"
      ],
      "execution_count": 43,
      "outputs": []
    },
    {
      "cell_type": "code",
      "source": [
        "#@markdown ## Clase TreeNode. \n",
        "\n",
        "#@markdown Utilizada para facilitar el retorno y la graficación de un (O)BST.\n",
        "\n",
        "#@markdown  ### Parámetros\n",
        "#@markdown  `key`: LLave del nodo a almacenar. Valor predeterminado: 0\n",
        "\n",
        "#@markdown  `freq`: Frequencia de búsqueda del nodo a almacenar.\n",
        "#@markdown  Valor predeterminado: 0\n",
        "\n",
        "#@markdown  ### Métodos (públicos)\n",
        "#@markdown  `append`: Inserta un TreeNode `node` en el árbol\n",
        "\n",
        "class TreeNode:\n",
        "    def __init__(self, key = 0, freq = 0):\n",
        "        self.key = key;\n",
        "        self.freq = freq;\n",
        "        \n",
        "        self.left = None;\n",
        "        self.right = None;\n",
        "          \n",
        "    def __set_right(self, node):\n",
        "        self.right = node;\n",
        "\n",
        "    def __set_left(self, node):\n",
        "        self.left = node;\n",
        "\n",
        "    def append(self, node):\n",
        "        if node == None:\n",
        "            raise Exception(\"Error. El nodo a agregar es None\")\n",
        "        if node.key == None:\n",
        "            raise Exception(\"Error. El nodo a agregar no tiene llave \" + \n",
        "                            \"establecida\")\n",
        "        if node.key >= self.key:\n",
        "            if self.right == None:\n",
        "                self.__set_right(node);\n",
        "            else:\n",
        "                self.right.append(node);\n",
        "        elif node.key < self.key:\n",
        "            if self.left == None:\n",
        "                self.__set_left(node);\n",
        "            else:\n",
        "                self.left.append(node);"
      ],
      "metadata": {
        "id": "stDLPshuIW9I"
      },
      "execution_count": 44,
      "outputs": []
    },
    {
      "cell_type": "code",
      "source": [
        "#@markdown # Clase `OptimalValue`\n",
        "#@markdown Utilizada para emparejar un  `TreeNode` con un\n",
        "#@markdown costo óptimo. Vale decir, una tupla amigable.\n",
        "\n",
        "#@markdown ## Parámetros\n",
        "\n",
        "#@markdown `node`: TreeNode a almacenar.\n",
        "\n",
        "#@markdown `optimal_cost`: Costo mínimo del nodo.\n",
        "\n",
        "\n",
        "\n",
        "class OptimalValue:\n",
        "    def __init__(self, node, optimal_cost):\n",
        "        self.node = node;\n",
        "        self.optimal_cost = optimal_cost;"
      ],
      "metadata": {
        "id": "eQ1Cqnu_IZCe"
      },
      "execution_count": 45,
      "outputs": []
    },
    {
      "cell_type": "code",
      "source": [
        "#@markdown ## Clase `Vector`\n",
        " \n",
        "#@markdown Vector simple de dos dimensiones.\n",
        "\n",
        "#@markdown ### Parámetros\n",
        "\n",
        "#@markdown `x`: Coordenada x.\n",
        "\n",
        "#@markdown `y`: Coordenada y.\n",
        "\n",
        "class Vector:\n",
        "  def __init__(self, x = 0, y = 0):\n",
        "    self.x = x;\n",
        "    self.y = y;\n",
        "\n",
        "  def __str__(self):\n",
        "    return f\"({self.x}, {self.y})\""
      ],
      "metadata": {
        "id": "Z8V6Yo93-UTw",
        "cellView": "form"
      },
      "execution_count": 46,
      "outputs": []
    },
    {
      "cell_type": "code",
      "source": [
        "#@markdown ## Clase `Drawer`\n",
        "\n",
        "#@markdown Grafica un (sub-)árbol dado una referencia `node` a un TreeNode.\n",
        "\n",
        "#@markdown ### Parámetros\n",
        "\n",
        "#@markdown `node`: (sub-)árbol a graficar.\n",
        "\n",
        "#@markdown `filename`: (opcional) Nombre del archivo temporal\n",
        "\n",
        "#@markdown `width`: (opcional) Ancho de la imagen de salida\n",
        "\n",
        "#@markdown `height`: (opcional) Alto de la imagen de salida\n",
        "\n",
        "#@markdown `radius`: (opcional) Radio de los nodos a dibujar\n",
        "\n",
        "#@markdown `fontsize`: (opcional) Tamaño de letra de los nodos a dibujar\n",
        "\n",
        "class Drawer:\n",
        "  \n",
        "  def __init__(self, node, filename = \"tmp.svg\", width = 1280, height = 720,\n",
        "               radius = 35, fontsize = 16):\n",
        "    self.__filename = filename\n",
        "    self.__root = node  \n",
        "    \n",
        "    self.__width = width\n",
        "    self.__height = height\n",
        "\n",
        "    self.__radius = radius\n",
        "    self.__fontsize = fontsize\n",
        "\n",
        "    sep = width // 4\n",
        "\n",
        "    self.__cursor = Vector(self.__width / 2, 10 + self.__radius)\n",
        "\n",
        "\n",
        "\n",
        "    \n",
        "\n",
        "    self.__surface = cairo.SVGSurface(self.__filename, self.__width,\n",
        "                                      self.__height);\n",
        "\n",
        "    self.__ctx = cairo.Context(self.__surface);\n",
        "\n",
        "    self.__ctx.select_font_face(\"monospace\")\n",
        "    self.__ctx.set_source_rgb(0.0, 0.0, 0.0);\n",
        "    self.__ctx.set_font_size(fontsize)\n",
        "    self.__draw(node);\n",
        "    self.__surface.finish()\n",
        "    self.__show_svg(filename);\n",
        "     \n",
        "  def __update_cursor(self):\n",
        "    self.__ctx.move_to(self.__cursor.x, self.__cursor.y)\n",
        "\n",
        "  def __save_cursor(self):\n",
        "    return deepcopy(self.__cursor)\n",
        "\n",
        "  def __restore_cursor(self, cursor):\n",
        "    self.__cursor = deepcopy(cursor)\n",
        "    self.__update_cursor()\n",
        "\n",
        "  def __move_radius_cursor(self, angle):\n",
        "    self.__cursor.x += self.__radius * cos(angle * pi / 180)\n",
        "    self.__cursor.y += self.__radius * sin(angle * pi / 180)\n",
        "  \n",
        "  \n",
        "  def __draw(self, node, sep = -1):\n",
        "    if node == None: return;\n",
        "    if sep == -1: sep = self.__width // 4\n",
        "\n",
        "    \n",
        "    # dibujar nodo\n",
        "\n",
        "    self.__ctx.arc(self.__cursor.x, self.__cursor.y, self.__radius, 0, 2*pi)\n",
        "    self.__ctx.close_path()\n",
        "    self.__ctx.set_source_rgb(0.0, 0.8, 0.0);\n",
        "    self.__ctx.fill()\n",
        "    self.__ctx.set_source_rgb(0.0, 0.0, 0.0);\n",
        "\n",
        "\n",
        "    prev = self.__save_cursor() # Guardar posicion del cursor\n",
        "    # print(\"prev: \", prev)\n",
        "\n",
        "\n",
        "    # escribir texto del nodo\n",
        "    \n",
        "    e = self.__ctx.text_extents(f\"{node.key}\")\n",
        "    self.__cursor.x -= e.width//2\n",
        "    self.__cursor.y -= 10;\n",
        "    self.__update_cursor();\n",
        "\n",
        "    self.__ctx.show_text(f\"{node.key}\")\n",
        "    self.__ctx.stroke()\n",
        "\n",
        "    self.__cursor.x += e.width//2\n",
        "\n",
        "    self.__cursor.y += e.height*2\n",
        "    \n",
        "    e = self.__ctx.text_extents(f\"{node.freq}%\")\n",
        "    self.__cursor.x -= e.width//2\n",
        "\n",
        "    self.__update_cursor();\n",
        "    self.__ctx.show_text(f\"{node.freq}%\");\n",
        "    self.__ctx.stroke();\n",
        "\n",
        "\n",
        "\n",
        "    if node.left != None:\n",
        "    # Recuperar cursor inicial\n",
        "      self.__restore_cursor(prev)\n",
        "      \n",
        "    # Recuperar cursor inicial\n",
        "      self.__move_radius_cursor(150);\n",
        "      self.__update_cursor();\n",
        "\n",
        "    # Configurar linea (color y ancho)\n",
        "      self.__ctx.set_source_rgb(0, 0, 0)\n",
        "      self.__ctx.set_line_width(0.5)\n",
        "\n",
        "    # Trazar linea\n",
        "      self.__ctx.line_to(self.__cursor.x - sep,\n",
        "                        self.__cursor.y + 2*self.__radius)\n",
        "      self.__ctx.stroke()\n",
        "\n",
        "    # Mover cursor a la punta\n",
        "      self.__cursor.x -= sep\n",
        "      self.__cursor.y += 2*self.__radius;\n",
        "    # Dibujar hijo izquierdo\n",
        "      self.__draw(node.left, sep = sep // 1.68)\n",
        "   \n",
        "\n",
        "    \n",
        "\n",
        "\n",
        "    if node.right != None:\n",
        "    # Recuperar cursor inicial\n",
        "      self.__restore_cursor(prev) \n",
        "\n",
        "    # Moverse 30 grados (hacia abajo ya que el eje y esta invertido)\n",
        "      self.__move_radius_cursor(30); \n",
        "      self.__update_cursor();\n",
        "\n",
        "    # Configurar linea\n",
        "      self.__ctx.set_source_rgb(0, 0, 0)\n",
        "      self.__ctx.set_line_width(0.5)\n",
        "\n",
        "    # Trazar linea \n",
        "      self.__ctx.line_to(self.__cursor.x + sep,\n",
        "                        self.__cursor.y + 2*self.__radius)\n",
        "      self.__ctx.stroke()\n",
        "\n",
        "    # Mover cursor a la punta\n",
        "      self.__cursor.x += sep\n",
        "      self.__cursor.y += 2*self.__radius;\n",
        "      self.__update_cursor();\n",
        "      \n",
        "    # Dibujar hijo derecho\n",
        "      self.__draw(node.right, sep = sep // 1.5)\n",
        "\n",
        "  def __show_svg(self, file):\n",
        "    display(SVG(filename=file))    \n",
        "\n",
        "\n",
        "\n",
        "    \n"
      ],
      "metadata": {
        "id": "kuFZqsUuIbHC",
        "cellView": "form"
      },
      "execution_count": 47,
      "outputs": []
    },
    {
      "cell_type": "code",
      "source": [
        "#@markdown ## Solución Optimal BST recursiva\n",
        "\n",
        "#@markdown ### Parámetros\n",
        "\n",
        "#@markdown `k`: (requerido) Arreglo de claves (k)eys `int[]`\n",
        "\n",
        "#@markdown `d`: (requerido) Arreglo de probabilidades de las claves `k` `float[]`\n",
        "\n",
        "##@markdown `f`: (requerido) Arreglo de probabilidades de las llaves falsas. `float[]`\n",
        "\n",
        "#@markdown `l`: Parámetro Interno. Limite izquierdo del sub-arreglo `int`\n",
        "\n",
        "#@markdown `r`: Parámetro Interno. Limite derecho del sub-arreglo `int`\n",
        "\n",
        "#@markdown `level`: Parámetro Interno. Nivel de identación de los prints `int`\n",
        "\n",
        "#@markdown `v`: Verbose? `Boolean`\n",
        "\n",
        "#@markdown `visualize`: Mostrar el OBST? `Boolean`\n",
        "\n",
        "#@markdown `count`: Contar llamadas recursivas? `Boolean`\n",
        "\n",
        "# Imprime cuatro espacios `level veces`\n",
        "\n",
        "def printlevel(level):\n",
        "    print(\"    \"*level, end = \"\")\n",
        "\n",
        "def optimal_bst_rec(k, d, l = 0, r = -inf, level = 0, v = False, count = False,\n",
        "                visualize = False):\n",
        "    if count: global cc;\n",
        "    # Obtener largo automáticamente\n",
        "    if r == -inf: r = len(k)-1\n",
        "\n",
        "\n",
        "    if v: printlevel(level);\n",
        "    if v: print(\"OBST:\", d[l:r+1], f\"l: {l};r: {r}\")\n",
        "    # Casos base\n",
        "    if l>r:     # No hay elementos en el subarreglo\n",
        "        if v: printlevel(level);\n",
        "        if v: print (\"no hay elementos.\")\n",
        "        return OptimalValue(node=None,optimal_cost=0)\n",
        "    if l==r:\n",
        "        if v: printlevel(level);\n",
        "        if v: print (f\"un elemento. [{d[l]}]\")\n",
        "\n",
        "        return OptimalValue(\n",
        "                node=TreeNode(key = k[l], freq = d[l]),\n",
        "                optimal_cost=d[l]\n",
        "                )\n",
        "\n",
        "    # Obtener la suma de los elementos\n",
        "    fsum = sum(d[l:r+1])\n",
        "\n",
        "    if v: printlevel(level);\n",
        "    if v: print(\"suma:\", fsum)\n",
        "     \n",
        "    # Inicializar el valor mínimo como el máximo\n",
        "    # valor posible\n",
        "\n",
        "    Min = inf\n",
        "    nodo_salida = None\n",
        "\n",
        "    \n",
        "    # Uno por uno considerar todos los elementos como raíz y encontrar \n",
        "    # el costo del BST recursivamente comparar el costo con el mínimo\n",
        "    # y actualizar de ser necesario.\n",
        "    for m in range(l, int(r+1)):\n",
        "        nodo = TreeNode(key = k[m], freq = d[m])\n",
        "        if v: printlevel(level)\n",
        "        if v: print(f\"m={m}\")\n",
        "        # Subárbol izq\n",
        "        if v: printlevel(level)\n",
        "        if v: print(\"sub izq\")\n",
        "        \n",
        "        if count: cc +=1\n",
        "        ret_left = optimal_bst_rec(k,d, l = l, r = m-1, level = level+1, count = count)\n",
        "        if ret_left.node: nodo.append(ret_left.node)\n",
        "        if v: printlevel(level)\n",
        "        if v: print(\"fin izq\")\n",
        "        # Subárbol der\n",
        "        if v: printlevel(level)\n",
        "        if v: print(\"sub der\")\n",
        "        if count: cc += 1\n",
        "        ret_right = optimal_bst_rec(k,d, l = m+1, r = r, level = level+1, count = count)\n",
        "        if ret_right.node: nodo.append(ret_right.node)\n",
        "        if v: printlevel(level)\n",
        "        if v: print(\"fin der\")\n",
        "\n",
        "        cost = ret_left.optimal_cost + ret_right.optimal_cost\n",
        "\n",
        "        \n",
        "\n",
        "        if cost < Min:\n",
        "            if v: printlevel(level)\n",
        "            if v: print (cost, \"Es menor que\", Min)\n",
        "            Min = cost\n",
        "            nodo_salida = nodo\n",
        "\n",
        "    if visualize:\n",
        "      Drawer(nodo_salida);\n",
        "\n",
        "    return OptimalValue(node = nodo_salida, optimal_cost=Min + fsum)"
      ],
      "metadata": {
        "id": "2KqrlA3zHphY"
      },
      "execution_count": 48,
      "outputs": []
    },
    {
      "cell_type": "code",
      "source": [
        "# t = TreeNode(key = 0)\n",
        "optimal_value = optimal_bst_rec([1,2,3,4],[40,10,30, 20], v = True, visualize = True)\n",
        "print(optimal_value.optimal_cost)"
      ],
      "metadata": {
        "id": "934U0j43xtL2",
        "colab": {
          "base_uri": "https://localhost:8080/",
          "height": 1000
        },
        "outputId": "32dcf536-3e96-4dc1-f977-67cfc2ab68c1"
      },
      "execution_count": 49,
      "outputs": [
        {
          "output_type": "stream",
          "name": "stdout",
          "text": [
            "OBST: [40, 10, 30, 20] l: 0;r: 3\n",
            "suma: 100\n",
            "m=0\n",
            "sub izq\n",
            "fin izq\n",
            "sub der\n",
            "fin der\n",
            "90 Es menor que inf\n",
            "m=1\n",
            "sub izq\n",
            "fin izq\n",
            "sub der\n",
            "fin der\n",
            "m=2\n",
            "sub izq\n",
            "fin izq\n",
            "sub der\n",
            "fin der\n",
            "80 Es menor que 90\n",
            "m=3\n",
            "sub izq\n",
            "fin izq\n",
            "sub der\n",
            "fin der\n"
          ]
        },
        {
          "output_type": "display_data",
          "data": {
            "text/plain": [
              "<IPython.core.display.SVG object>"
            ],
            "image/svg+xml": "<svg height=\"720pt\" version=\"1.1\" viewBox=\"0 0 1280 720\" width=\"1280pt\" xmlns=\"http://www.w3.org/2000/svg\" xmlns:xlink=\"http://www.w3.org/1999/xlink\">\n<defs>\n<g>\n<symbol id=\"glyph0-0\" overflow=\"visible\">\n<path d=\"M 0.53125 0 L 0.53125 -10.671875 L 4.78125 -10.671875 L 4.78125 0 Z M 1.0625 -0.53125 L 4.25 -0.53125 L 4.25 -10.140625 L 1.0625 -10.140625 Z M 1.0625 -0.53125 \" style=\"stroke:none;\"/>\n</symbol>\n<symbol id=\"glyph0-1\" overflow=\"visible\">\n<path d=\"M 8.59375 -2.890625 C 8.59375 -2.421875 8.507812 -1.992188 8.34375 -1.609375 C 8.175781 -1.234375 7.9375 -0.914062 7.625 -0.65625 C 7.3125 -0.394531 6.921875 -0.191406 6.453125 -0.046875 C 5.992188 0.0859375 5.460938 0.15625 4.859375 0.15625 C 4.179688 0.15625 3.609375 0.0703125 3.140625 -0.09375 C 2.671875 -0.269531 2.285156 -0.492188 1.984375 -0.765625 C 1.679688 -1.046875 1.453125 -1.363281 1.296875 -1.71875 C 1.148438 -2.082031 1.050781 -2.453125 1 -2.828125 L 2.453125 -2.96875 C 2.492188 -2.675781 2.570312 -2.410156 2.6875 -2.171875 C 2.800781 -1.929688 2.953125 -1.722656 3.140625 -1.546875 C 3.335938 -1.378906 3.578125 -1.25 3.859375 -1.15625 C 4.140625 -1.0625 4.472656 -1.015625 4.859375 -1.015625 C 5.566406 -1.015625 6.117188 -1.175781 6.515625 -1.5 C 6.921875 -1.832031 7.125 -2.3125 7.125 -2.9375 C 7.125 -3.289062 7.035156 -3.582031 6.859375 -3.8125 C 6.679688 -4.050781 6.457031 -4.238281 6.1875 -4.375 C 5.914062 -4.519531 5.625 -4.617188 5.3125 -4.671875 C 5 -4.734375 4.707031 -4.765625 4.4375 -4.765625 L 3.640625 -4.765625 L 3.640625 -5.984375 L 4.40625 -5.984375 C 4.675781 -5.984375 4.953125 -6.015625 5.234375 -6.078125 C 5.523438 -6.140625 5.785156 -6.242188 6.015625 -6.390625 C 6.253906 -6.535156 6.453125 -6.722656 6.609375 -6.953125 C 6.765625 -7.179688 6.84375 -7.460938 6.84375 -7.796875 C 6.84375 -8.347656 6.664062 -8.773438 6.3125 -9.078125 C 5.96875 -9.390625 5.457031 -9.546875 4.78125 -9.546875 C 4.15625 -9.546875 3.648438 -9.382812 3.265625 -9.0625 C 2.890625 -8.75 2.671875 -8.304688 2.609375 -7.734375 L 1.1875 -7.84375 C 1.25 -8.320312 1.382812 -8.738281 1.59375 -9.09375 C 1.800781 -9.457031 2.0625 -9.757812 2.375 -10 C 2.695312 -10.238281 3.0625 -10.414062 3.46875 -10.53125 C 3.882812 -10.644531 4.328125 -10.703125 4.796875 -10.703125 C 5.410156 -10.703125 5.9375 -10.628906 6.375 -10.484375 C 6.820312 -10.335938 7.1875 -10.140625 7.46875 -9.890625 C 7.75 -9.640625 7.953125 -9.347656 8.078125 -9.015625 C 8.210938 -8.679688 8.28125 -8.320312 8.28125 -7.9375 C 8.28125 -7.65625 8.234375 -7.378906 8.140625 -7.109375 C 8.046875 -6.835938 7.898438 -6.585938 7.703125 -6.359375 C 7.515625 -6.140625 7.273438 -5.945312 6.984375 -5.78125 C 6.703125 -5.613281 6.367188 -5.492188 5.984375 -5.421875 L 5.984375 -5.390625 C 6.410156 -5.335938 6.785156 -5.234375 7.109375 -5.078125 C 7.429688 -4.921875 7.703125 -4.726562 7.921875 -4.5 C 8.140625 -4.28125 8.304688 -4.03125 8.421875 -3.75 C 8.535156 -3.476562 8.59375 -3.191406 8.59375 -2.890625 Z M 8.59375 -2.890625 \" style=\"stroke:none;\"/>\n</symbol>\n<symbol id=\"glyph0-2\" overflow=\"visible\">\n<path d=\"M 8.625 -5.28125 C 8.625 -4.257812 8.519531 -3.40625 8.3125 -2.71875 C 8.113281 -2.03125 7.84375 -1.472656 7.5 -1.046875 C 7.15625 -0.617188 6.75 -0.3125 6.28125 -0.125 C 5.8125 0.0625 5.3125 0.15625 4.78125 0.15625 C 4.238281 0.15625 3.734375 0.0625 3.265625 -0.125 C 2.804688 -0.3125 2.40625 -0.613281 2.0625 -1.03125 C 1.726562 -1.457031 1.460938 -2.015625 1.265625 -2.703125 C 1.066406 -3.398438 0.96875 -4.257812 0.96875 -5.28125 C 0.96875 -6.34375 1.066406 -7.222656 1.265625 -7.921875 C 1.460938 -8.617188 1.734375 -9.171875 2.078125 -9.578125 C 2.421875 -9.992188 2.828125 -10.285156 3.296875 -10.453125 C 3.765625 -10.617188 4.273438 -10.703125 4.828125 -10.703125 C 5.347656 -10.703125 5.835938 -10.617188 6.296875 -10.453125 C 6.765625 -10.285156 7.171875 -9.992188 7.515625 -9.578125 C 7.859375 -9.171875 8.128906 -8.617188 8.328125 -7.921875 C 8.523438 -7.222656 8.625 -6.34375 8.625 -5.28125 Z M 7.1875 -5.28125 C 7.1875 -6.101562 7.132812 -6.789062 7.03125 -7.34375 C 6.925781 -7.894531 6.769531 -8.332031 6.5625 -8.65625 C 6.363281 -8.988281 6.117188 -9.222656 5.828125 -9.359375 C 5.535156 -9.492188 5.203125 -9.5625 4.828125 -9.5625 C 4.429688 -9.5625 4.082031 -9.492188 3.78125 -9.359375 C 3.476562 -9.222656 3.222656 -8.988281 3.015625 -8.65625 C 2.804688 -8.332031 2.648438 -7.894531 2.546875 -7.34375 C 2.441406 -6.789062 2.390625 -6.101562 2.390625 -5.28125 C 2.390625 -4.476562 2.441406 -3.800781 2.546875 -3.25 C 2.660156 -2.707031 2.816406 -2.269531 3.015625 -1.9375 C 3.222656 -1.601562 3.472656 -1.363281 3.765625 -1.21875 C 4.066406 -1.070312 4.410156 -1 4.796875 -1 C 5.160156 -1 5.488281 -1.070312 5.78125 -1.21875 C 6.082031 -1.363281 6.335938 -1.601562 6.546875 -1.9375 C 6.753906 -2.269531 6.910156 -2.707031 7.015625 -3.25 C 7.128906 -3.800781 7.1875 -4.476562 7.1875 -5.28125 Z M 3.875 -4.34375 L 3.875 -6.28125 L 5.71875 -6.28125 L 5.71875 -4.34375 Z M 3.875 -4.34375 \" style=\"stroke:none;\"/>\n</symbol>\n<symbol id=\"glyph0-3\" overflow=\"visible\">\n<path d=\"M 1.734375 0 L 0.59375 0 L 7.875 -10.578125 L 9.03125 -10.578125 Z M 2.28125 -10.640625 C 2.582031 -10.640625 2.863281 -10.597656 3.125 -10.515625 C 3.394531 -10.429688 3.628906 -10.289062 3.828125 -10.09375 C 4.035156 -9.894531 4.195312 -9.625 4.3125 -9.28125 C 4.425781 -8.945312 4.484375 -8.523438 4.484375 -8.015625 C 4.484375 -7.515625 4.425781 -7.09375 4.3125 -6.75 C 4.195312 -6.414062 4.035156 -6.144531 3.828125 -5.9375 C 3.628906 -5.726562 3.394531 -5.578125 3.125 -5.484375 C 2.851562 -5.390625 2.5625 -5.34375 2.25 -5.34375 C 1.9375 -5.34375 1.640625 -5.390625 1.359375 -5.484375 C 1.085938 -5.578125 0.847656 -5.722656 0.640625 -5.921875 C 0.441406 -6.128906 0.285156 -6.40625 0.171875 -6.75 C 0.0546875 -7.09375 0 -7.515625 0 -8.015625 C 0 -8.523438 0.0546875 -8.945312 0.171875 -9.28125 C 0.296875 -9.625 0.457031 -9.894531 0.65625 -10.09375 C 0.863281 -10.289062 1.101562 -10.429688 1.375 -10.515625 C 1.65625 -10.597656 1.957031 -10.640625 2.28125 -10.640625 Z M 3.34375 -8.015625 C 3.34375 -8.359375 3.316406 -8.644531 3.265625 -8.875 C 3.222656 -9.101562 3.15625 -9.285156 3.0625 -9.421875 C 2.96875 -9.554688 2.851562 -9.648438 2.71875 -9.703125 C 2.59375 -9.765625 2.441406 -9.796875 2.265625 -9.796875 C 2.085938 -9.796875 1.925781 -9.765625 1.78125 -9.703125 C 1.644531 -9.648438 1.53125 -9.550781 1.4375 -9.40625 C 1.34375 -9.269531 1.269531 -9.085938 1.21875 -8.859375 C 1.175781 -8.640625 1.15625 -8.359375 1.15625 -8.015625 C 1.15625 -7.679688 1.175781 -7.398438 1.21875 -7.171875 C 1.269531 -6.941406 1.34375 -6.753906 1.4375 -6.609375 C 1.53125 -6.472656 1.644531 -6.375 1.78125 -6.3125 C 1.925781 -6.257812 2.085938 -6.234375 2.265625 -6.234375 C 2.429688 -6.234375 2.578125 -6.257812 2.703125 -6.3125 C 2.835938 -6.375 2.953125 -6.472656 3.046875 -6.609375 C 3.140625 -6.753906 3.210938 -6.941406 3.265625 -7.171875 C 3.316406 -7.398438 3.34375 -7.679688 3.34375 -8.015625 Z M 7.40625 -5.203125 C 7.707031 -5.203125 7.988281 -5.160156 8.25 -5.078125 C 8.519531 -4.992188 8.753906 -4.851562 8.953125 -4.65625 C 9.160156 -4.457031 9.320312 -4.1875 9.4375 -3.84375 C 9.550781 -3.507812 9.609375 -3.085938 9.609375 -2.578125 C 9.609375 -2.078125 9.550781 -1.65625 9.4375 -1.3125 C 9.320312 -0.976562 9.160156 -0.707031 8.953125 -0.5 C 8.753906 -0.289062 8.519531 -0.140625 8.25 -0.046875 C 7.976562 0.046875 7.6875 0.09375 7.375 0.09375 C 7.0625 0.09375 6.765625 0.046875 6.484375 -0.046875 C 6.210938 -0.140625 5.972656 -0.285156 5.765625 -0.484375 C 5.566406 -0.691406 5.410156 -0.96875 5.296875 -1.3125 C 5.179688 -1.65625 5.125 -2.078125 5.125 -2.578125 C 5.125 -3.085938 5.179688 -3.507812 5.296875 -3.84375 C 5.421875 -4.1875 5.582031 -4.457031 5.78125 -4.65625 C 5.988281 -4.851562 6.226562 -4.992188 6.5 -5.078125 C 6.78125 -5.160156 7.082031 -5.203125 7.40625 -5.203125 Z M 8.46875 -2.578125 C 8.46875 -2.921875 8.441406 -3.207031 8.390625 -3.4375 C 8.347656 -3.664062 8.28125 -3.847656 8.1875 -3.984375 C 8.09375 -4.117188 7.976562 -4.210938 7.84375 -4.265625 C 7.71875 -4.328125 7.566406 -4.359375 7.390625 -4.359375 C 7.210938 -4.359375 7.050781 -4.328125 6.90625 -4.265625 C 6.769531 -4.210938 6.65625 -4.113281 6.5625 -3.96875 C 6.46875 -3.832031 6.394531 -3.648438 6.34375 -3.421875 C 6.300781 -3.203125 6.28125 -2.921875 6.28125 -2.578125 C 6.28125 -2.242188 6.300781 -1.960938 6.34375 -1.734375 C 6.394531 -1.503906 6.46875 -1.316406 6.5625 -1.171875 C 6.65625 -1.035156 6.769531 -0.9375 6.90625 -0.875 C 7.050781 -0.820312 7.210938 -0.796875 7.390625 -0.796875 C 7.554688 -0.796875 7.703125 -0.820312 7.828125 -0.875 C 7.960938 -0.9375 8.078125 -1.035156 8.171875 -1.171875 C 8.265625 -1.316406 8.335938 -1.503906 8.390625 -1.734375 C 8.441406 -1.960938 8.46875 -2.242188 8.46875 -2.578125 Z M 8.46875 -2.578125 \" style=\"stroke:none;\"/>\n</symbol>\n<symbol id=\"glyph0-4\" overflow=\"visible\">\n<path d=\"M 1.234375 0 L 1.234375 -1.140625 L 4.65625 -1.140625 L 4.65625 -9.109375 C 4.5625 -8.898438 4.390625 -8.703125 4.140625 -8.515625 C 3.890625 -8.335938 3.597656 -8.179688 3.265625 -8.046875 C 2.941406 -7.910156 2.59375 -7.800781 2.21875 -7.71875 C 1.851562 -7.632812 1.5 -7.59375 1.15625 -7.59375 L 1.15625 -8.75 C 1.539062 -8.75 1.921875 -8.789062 2.296875 -8.875 C 2.671875 -8.96875 3.019531 -9.09375 3.34375 -9.25 C 3.664062 -9.414062 3.953125 -9.609375 4.203125 -9.828125 C 4.453125 -10.046875 4.644531 -10.285156 4.78125 -10.546875 L 6.078125 -10.546875 L 6.078125 -1.140625 L 8.828125 -1.140625 L 8.828125 0 Z M 1.234375 0 \" style=\"stroke:none;\"/>\n</symbol>\n<symbol id=\"glyph0-5\" overflow=\"visible\">\n<path d=\"M 7.328125 -2.5 L 7.328125 0 L 5.921875 0 L 5.921875 -2.5 L 0.8125 -2.5 L 0.8125 -3.59375 L 5.765625 -10.546875 L 7.328125 -10.546875 L 7.328125 -3.609375 L 8.796875 -3.609375 L 8.796875 -2.5 Z M 5.921875 -9.015625 L 2.015625 -3.609375 L 5.921875 -3.609375 Z M 5.921875 -9.015625 \" style=\"stroke:none;\"/>\n</symbol>\n<symbol id=\"glyph0-6\" overflow=\"visible\">\n<path d=\"M 1.125 0 L 1.125 -0.921875 C 1.351562 -1.421875 1.65625 -1.882812 2.03125 -2.3125 C 2.40625 -2.738281 2.804688 -3.140625 3.234375 -3.515625 C 3.660156 -3.898438 4.085938 -4.265625 4.515625 -4.609375 C 4.941406 -4.953125 5.328125 -5.289062 5.671875 -5.625 C 6.023438 -5.957031 6.3125 -6.296875 6.53125 -6.640625 C 6.75 -6.992188 6.859375 -7.363281 6.859375 -7.75 C 6.859375 -8.0625 6.804688 -8.328125 6.703125 -8.546875 C 6.597656 -8.773438 6.453125 -8.960938 6.265625 -9.109375 C 6.085938 -9.265625 5.867188 -9.375 5.609375 -9.4375 C 5.359375 -9.507812 5.082031 -9.546875 4.78125 -9.546875 C 4.5 -9.546875 4.234375 -9.503906 3.984375 -9.421875 C 3.742188 -9.347656 3.53125 -9.234375 3.34375 -9.078125 C 3.164062 -8.921875 3.019531 -8.726562 2.90625 -8.5 C 2.789062 -8.269531 2.71875 -8 2.6875 -7.6875 L 1.25 -7.828125 C 1.289062 -8.222656 1.394531 -8.59375 1.5625 -8.9375 C 1.726562 -9.289062 1.957031 -9.597656 2.25 -9.859375 C 2.539062 -10.117188 2.894531 -10.320312 3.3125 -10.46875 C 3.738281 -10.625 4.226562 -10.703125 4.78125 -10.703125 C 5.320312 -10.703125 5.8125 -10.640625 6.25 -10.515625 C 6.6875 -10.390625 7.054688 -10.207031 7.359375 -9.96875 C 7.660156 -9.726562 7.890625 -9.425781 8.046875 -9.0625 C 8.210938 -8.707031 8.296875 -8.296875 8.296875 -7.828125 C 8.296875 -7.335938 8.179688 -6.882812 7.953125 -6.46875 C 7.734375 -6.050781 7.445312 -5.65625 7.09375 -5.28125 C 6.75 -4.90625 6.363281 -4.546875 5.9375 -4.203125 C 5.507812 -3.867188 5.09375 -3.535156 4.6875 -3.203125 C 4.28125 -2.867188 3.910156 -2.53125 3.578125 -2.1875 C 3.242188 -1.851562 2.992188 -1.503906 2.828125 -1.140625 L 8.46875 -1.140625 L 8.46875 0 Z M 1.125 0 \" style=\"stroke:none;\"/>\n</symbol>\n</g>\n</defs>\n<g id=\"surface1\">\n<path d=\"M 675 45 C 675 64.328125 659.328125 80 640 80 C 620.671875 80 605 64.328125 605 45 C 605 25.671875 620.671875 10 640 10 C 659.328125 10 675 25.671875 675 45 Z M 675 45 \" style=\" stroke:none;fill-rule:nonzero;fill:rgb(0%,80%,0%);fill-opacity:1;\"/>\n<g style=\"fill:rgb(0%,0%,0%);fill-opacity:1;\">\n  <use x=\"637\" xlink:href=\"#glyph0-1\" y=\"35\"/>\n</g>\n<g style=\"fill:rgb(0%,0%,0%);fill-opacity:1;\">\n  <use x=\"627\" xlink:href=\"#glyph0-1\" y=\"56.71875\"/>\n  <use x=\"636.601562\" xlink:href=\"#glyph0-2\" y=\"56.71875\"/>\n  <use x=\"646.203125\" xlink:href=\"#glyph0-3\" y=\"56.71875\"/>\n</g>\n<path d=\"M 609.6875 62.5 L 289.6875 132.5 \" style=\"fill:none;stroke-width:0.5;stroke-linecap:butt;stroke-linejoin:miter;stroke:rgb(0%,0%,0%);stroke-opacity:1;stroke-miterlimit:10;\"/>\n<path d=\"M 324.6875 132.5 C 324.6875 151.828125 309.019531 167.5 289.6875 167.5 C 270.359375 167.5 254.6875 151.828125 254.6875 132.5 C 254.6875 113.171875 270.359375 97.5 289.6875 97.5 C 309.019531 97.5 324.6875 113.171875 324.6875 132.5 Z M 324.6875 132.5 \" style=\" stroke:none;fill-rule:nonzero;fill:rgb(0%,80%,0%);fill-opacity:1;\"/>\n<g style=\"fill:rgb(0%,0%,0%);fill-opacity:1;\">\n  <use x=\"286.6875\" xlink:href=\"#glyph0-4\" y=\"122.5\"/>\n</g>\n<g style=\"fill:rgb(0%,0%,0%);fill-opacity:1;\">\n  <use x=\"275.6875\" xlink:href=\"#glyph0-5\" y=\"143.578125\"/>\n  <use x=\"285.289062\" xlink:href=\"#glyph0-2\" y=\"143.578125\"/>\n  <use x=\"294.890625\" xlink:href=\"#glyph0-3\" y=\"143.578125\"/>\n</g>\n<path d=\"M 320 150 L 510 220 \" style=\"fill:none;stroke-width:0.5;stroke-linecap:butt;stroke-linejoin:miter;stroke:rgb(0%,0%,0%);stroke-opacity:1;stroke-miterlimit:10;\"/>\n<path d=\"M 510 220 L 545 220 C 545 239.328125 529.328125 255 510 255 C 490.671875 255 475 239.328125 475 220 C 475 200.671875 490.671875 185 510 185 C 529.328125 185 545 200.671875 545 220 Z M 510 220 \" style=\" stroke:none;fill-rule:nonzero;fill:rgb(0%,80%,0%);fill-opacity:1;\"/>\n<g style=\"fill:rgb(0%,0%,0%);fill-opacity:1;\">\n  <use x=\"507\" xlink:href=\"#glyph0-6\" y=\"210\"/>\n</g>\n<g style=\"fill:rgb(0%,0%,0%);fill-opacity:1;\">\n  <use x=\"497\" xlink:href=\"#glyph0-4\" y=\"231.40625\"/>\n  <use x=\"506.601562\" xlink:href=\"#glyph0-2\" y=\"231.40625\"/>\n  <use x=\"516.203125\" xlink:href=\"#glyph0-3\" y=\"231.40625\"/>\n</g>\n<path d=\"M 670.3125 62.5 L 990.3125 132.5 \" style=\"fill:none;stroke-width:0.5;stroke-linecap:butt;stroke-linejoin:miter;stroke:rgb(0%,0%,0%);stroke-opacity:1;stroke-miterlimit:10;\"/>\n<path d=\"M 990.3125 132.5 L 1025.3125 132.5 C 1025.3125 151.828125 1009.640625 167.5 990.3125 167.5 C 970.980469 167.5 955.3125 151.828125 955.3125 132.5 C 955.3125 113.171875 970.980469 97.5 990.3125 97.5 C 1009.640625 97.5 1025.3125 113.171875 1025.3125 132.5 Z M 990.3125 132.5 \" style=\" stroke:none;fill-rule:nonzero;fill:rgb(0%,80%,0%);fill-opacity:1;\"/>\n<g style=\"fill:rgb(0%,0%,0%);fill-opacity:1;\">\n  <use x=\"987.3125\" xlink:href=\"#glyph0-5\" y=\"122.5\"/>\n</g>\n<g style=\"fill:rgb(0%,0%,0%);fill-opacity:1;\">\n  <use x=\"977.3125\" xlink:href=\"#glyph0-6\" y=\"143.578125\"/>\n  <use x=\"986.914062\" xlink:href=\"#glyph0-2\" y=\"143.578125\"/>\n  <use x=\"996.515625\" xlink:href=\"#glyph0-3\" y=\"143.578125\"/>\n</g>\n</g>\n</svg>"
          },
          "metadata": {}
        },
        {
          "output_type": "stream",
          "name": "stdout",
          "text": [
            "180\n"
          ]
        }
      ]
    },
    {
      "cell_type": "markdown",
      "source": [
        "## Descripción de la implementación recursiva\n",
        "\n",
        "Para esta implementación se calcula el costo del problema en base a los \n",
        "subproblemas. Cada (sub-)problema está determinado por los límites del\n",
        "subarreglo cuyo costo mínimo queremos calcular, recibidos por medio de los parámetros de la función ($l$ y $r$).\n",
        "\n",
        "Así, se calcula la suma de todas las probabilidades entre $l$ y $r$. Este valor\n",
        "corresponde al costo mínimo del (sub-)problema. Puesto que cada nodo estará\n",
        "presente al menos una vez.\n",
        "\n",
        "Posteriormente se recorren todos los posibles nodos/llaves $k_i$. Para cada nodo $k_i$ se calcula el costo mínimo de ambos hijos. El subproblema izquierdo\n",
        "$l = l, r =  i -1$ y el subproblema derecho $l = i + 1, r = r$.\n",
        "\n",
        "Como en toda implementación recursiva se trabaja con un caso base. Concretamente\n",
        "el caso en el que el sub-árbol no tiene nodos presentes. Este caso se identifica\n",
        "con $l > r$."
      ],
      "metadata": {
        "id": "R2XdjMiN3pvm"
      }
    },
    {
      "cell_type": "code",
      "source": [
        "import math\n",
        "import numpy as np\n",
        "from numpy import arange\n",
        "\n",
        "def crear_arbol(root,k, p, i,j):\n",
        "  if i > j: return None\n",
        "  if i == j: return TreeNode(key = k[i], freq = p[i])\n",
        "  n = TreeNode(key = k[int(root[i][j])], freq = p[int(root[i][j])])\n",
        "  n.left = (crear_arbol(root, k, p, i, int(root[i][j]) - 1));\n",
        "  n.right = (crear_arbol(root, k, p, int(root[i][j]) + 1, j))\n",
        "  return n\n",
        "\n",
        "def optimal_bst_dyn(keys, p, n = -1, v = False, visualize = False, count = False):\n",
        "  if count: global cc;\n",
        "  if n == -1: n = len(keys)\n",
        "  e = np.zeros(shape = (n+1, n+1));\n",
        "  w = np.zeros(shape = (n+1, n+1));\n",
        "  root = np.zeros(shape = (n+1, n+1));\n",
        "\n",
        "  for l in arange(1,n+1): #l: longitud del subárbol\n",
        "    if v: print(f\"Para l={l}\")\n",
        "    for i in arange(n-l+1): #i: Límite izquierdo del subárbol.\n",
        "      if v: print(f\"  i={i}\", end = \"\")\n",
        "      j = i + l - 1 #j: Límite derecho del subárbol\n",
        "\n",
        "      if v: print(f\"  j={j}\")\n",
        "\n",
        "      e[i][j] = math.inf # Inicializar valor mínimo\n",
        "\n",
        "      w[i][j] = w[i][j-1] + p[j] # + q[j] # Guardar la suma de %\n",
        "      if v: print(f\"    Se guarda la suma de % {w[i][j]}\")\n",
        "      \n",
        "\n",
        "      for r in arange(i,j+1):\n",
        "        if v: print(f\"    r={r}. Raíz = {keys[r]}\")\n",
        "\n",
        "        # Calcular costo\n",
        "        t = (e[i][r-1] if r > i else 0) + (e[r+1][j] if r<j else 0) + w[i][j] \n",
        "        \n",
        "        if count: cc+=1 # Contar la resolución del subproblema\n",
        "        if v: print(f\"    e[{i}][{r}-1]={e[i][r-1]}\")\n",
        "        if v: print(f\"    e[{r}+1][{j}]={e[r+1][j]}\")\n",
        "        if t < e[i][j]: # Si es menor, actualizar y guardar nodo\n",
        "          if v: print(f\"{t} es menor que {e[i][j]}\")\n",
        "          e[i][j] = t\n",
        "          root[i][j] = r\n",
        "  tree = crear_arbol(root,keys, p, 0, n-1);\n",
        "  if visualize: Drawer(tree)\n",
        "  return OptimalValue(optimal_cost = e[0][n-1], node=tree)\n",
        "\n",
        "\n",
        "optimal_value = optimal_bst_dyn([1,2,3,4],[40,10,30, 20])\n",
        "\n",
        "\n",
        "\n"
      ],
      "metadata": {
        "id": "wjdtTurdYqIV"
      },
      "execution_count": 50,
      "outputs": []
    },
    {
      "cell_type": "markdown",
      "source": [
        "## descripcion de la implementacion dinamica\n",
        "\n",
        "La solucion dinamica recorre todos los subproblemas posibles $n^2$. Resolviendo cada problema de manera lineal. Es decir, buscando la solucion de cada problema revisando una por una las raices posibles. Utiliza memoizacion para obtener los resultados mas rapido."
      ],
      "metadata": {
        "id": "hXKic9qavIvP"
      }
    },
    {
      "cell_type": "markdown",
      "source": [
        "## Estructura óptima\n",
        "\n",
        "Se sabe que si un BST es óptimo, luego todos sus sub-árboles $T'$ son óptimos.\n",
        "\n",
        "Se analizan los sub-árboles para describir la subestructura óptima.\n",
        "\n",
        "Se considera un sub-árbol $T'$ de un OBST. Para que se cumpla la propiedad de la subestructura óptima es necesario que $T'$  contenga sus llaves en un rango contiguo $k_i..k_j$.\n",
        "\n",
        "Se elige una llave arbitraria $k_r$ (con $i \\leq r \\leq j$) cuya clave corresponde a la raíz de algún OBST, conteniendo las claves en dicho intervalo.\n",
        "\n",
        "En el sub-árbol izquierdo se hallan las llaves $k_i..k_{r-1}$. Mientras que en el sub-árbol derecho se encuentran las llaves $k_{r+1} .. k_j$. \n",
        "\n",
        "Para evitar problemas con el cálculo del costo. Se adopta la convención de que un árbol conteniendo las llaves $k_i..k_{i-1}$ no posee claves.\n",
        "\n",
        "Teorema: El algoritmo obtiene el costo mínimo (y el árbol correspondiente) correctamente.\n",
        "\n",
        "## Resolución del subproblema\n",
        "\n",
        "Se define el subproblema de la implementación bottom up como encontrar un BST tal que contenga las llaves en el intervalo $k_i..k_j$.\n",
        "\n",
        "Se define $e$ como una matriz bidimensional donde se almacenarán las soluciones a los subproblemas. Luego la posición $e[i][j]$ corresponde al costo mínimo de búsqueda para un BST con las llaves $k_i..k_j$. El problema está resuelto cuando se calcula $e[0][n]$. En este punto se presentan dos posibles casos\n",
        "\n",
        "**Caso 1**: $j < i$. En este caso el BST no tiene elementos (a excepción de una clave falsa, la cual no es considerada). \n",
        "\n",
        "**Caso 2**: $j\\geq i$. En este caso es necesario definir la raíz arbitraria en el intervalo para recorrer todas las raíces posibles $k_r$ para las cuales se buscará\n",
        "el costo mínimo de dichos BST.\n",
        "\n",
        "Es menester considerar que en el caso de procesar un sub-árbol, al costo se le suman todas las probabilidades posibles en sí mismo. (el sub-árbol).\n",
        "\n",
        "## Función recurrente para solucionar el problema\n",
        "\n",
        "Para un BST de llaves $k_i..k_j$ se define la suma (acumulada) de las probabilidades como\n",
        "$$\n",
        "w(i,j) = \\sum_{l=1}^j p_l\n",
        "$$\n",
        "\n",
        "Luego, siendo $k_r$ la raíz de un sub-árbol conteniendo las llaves $k_i..k_j$, se tiene que:\n",
        "\n",
        "$$\n",
        "e(i, j) = p_r +\n",
        "e(i, r-1) + w(1, r-1) +\n",
        "e(r+1, j) + w(r+1,j)\n",
        "$$\n",
        "\n",
        "Luego, se elige el árbol óptimo como aquel que provee un costo esperado de búsqueda óptimo (mínimo).\n",
        "\n",
        "## Prueba de correctitud\n",
        "\n",
        "Se define $l$ como la longitud del problema a resolver. Para resolver todos los subproblemas se itara desde $l=1$ hasta $l = n$.\n",
        "\n",
        "**Teorema**: la matriz $e$ contiene el costo mínimo de los $l$ subproblemas.\n",
        "\n",
        "**Inicio**: Antes de la primea iteración. la matriz de soluciones $e$ no tiene valores guardados.\n",
        "\n",
        "**Mantenimiento**: Se asume que la matriz $e$ contiene la soluciones de todos los subproblemas anteriores, por lo que el subproblema actual ($l$) es resuelto correctamente.\n",
        "\n",
        "**Finalización**: Al finalizar la última iteración de $l$, el costo mínimo del problema inicial es calculador correctamente, basándose de sus subproblemas."
      ],
      "metadata": {
        "id": "YeOIQhTqX473"
      }
    },
    {
      "cell_type": "markdown",
      "source": [
        "## Tiempo de ejecucion de la solucion recursiva\n",
        "\n",
        "**Teorema**: $T(n) = 3^n$\n",
        "\n",
        "Es posible demostrar por medio de induccion que  $T(n) = 3^n. Para esto se define un caso base.\n",
        "\n",
        "**Caso base**: $T(0) = 1$. Siendo la solucion un unico nodo de llave $k_i$ con su costo respectivo $p_i$.\n",
        "\n",
        "Ocupando la siguiente ecuacion se tiene que:\n",
        "\n",
        "$$\n",
        "\\begin{aligned}\n",
        "T(n) &= 2 \\cdot \\sum_{k = 1} ^ n {T(k-1)} \\\\\n",
        "T(n) &= 1 + 2 \\cdot \\sum_{k=1}^n {3^{k-1}} \\\\\n",
        "T(n) &= 1 + 2 \\cdot \\left ( \\cfrac {3^n - 1 } { 3 - 1 } \\right ) \\\\ \n",
        "T(n) &= 1 + 3^n - 1 \\\\\n",
        "T(n) &= 3^n\n",
        "\\end{aligned}\n",
        "$$"
      ],
      "metadata": {
        "id": "tlbIDC1_NmBl"
      }
    },
    {
      "cell_type": "markdown",
      "source": [
        "## Tiempo de ejecucion de la solucion DP\n",
        "\n",
        "**Teorema**: $T(n) = O(n^3)$.\n",
        "\n",
        "Observando la implementacion del algoritmo DP es facil intuir que el tiempo de ejecucion es $O(n^3)$ debido a que se basa en 3 ciclos anidados, cuyas iteraciones dependen de $n$.\n",
        "\n",
        "El objetivo final del algoritmo es calcular $e[0, n]$ mas para esto es necesario calcular todos los subproblemas anteriores. \n",
        "\n",
        "La cantidad de subproblemas a resolver es $n^2 / 2$. Este valor corresponde a todas las permutaciones de los subproblemas para cada valor de $i$ y cada valor de $j$ (siendo $i$, $j$ los limites de izquierda y derecha del arreglo). \n",
        "\n",
        "La solucion DP se basa en la recursion de los problemas anteriores.\n",
        "\n",
        "Se tiene un total de $n^2/2$ subproblemas y encontrar cada solucion toma una iteracion de $i$ a $j$ (cuyos valores son directamente dependientes de $n$). \n",
        "\n",
        "\n",
        "\n",
        "\n",
        "\n",
        "\n",
        "\n"
      ],
      "metadata": {
        "id": "G2jahcVCO-XY"
      }
    },
    {
      "cell_type": "markdown",
      "source": [
        "## Complejidad espacial de las soluciones\n",
        "\n",
        "\n",
        "La cantidad de subproblemas a resolver es $n^2 / 2$. Este valor corresponde a todas las permutaciones de los subproblemas para cada valor de $i$ y cada valor de $j$ (siendo $i$, $j$ los limites de izquierda y derecha del arreglo). Por lo que la complejidad espacial de la solucion dinamica esta limitada por las matrices. Tenemos tres matrices de tamano nxn por lo que la complejidad espacial de la solucion dinamica es O(n^2).\n",
        "\n",
        "Para el caso de la solucion recursiva (y tambien la dinamica) se considera como espacio los arreglos de entrada del arreglo como parte de la complejidad espacial. Esto es debido a que a traves de las recursiones, se utilizan los mismos arreglos. Por lo que la complejidad espacial de la solucion recursiva es lineal O(n). "
      ],
      "metadata": {
        "id": "q1xO1_LmtKTv"
      }
    },
    {
      "cell_type": "markdown",
      "source": [
        "## Experimentos\n",
        "\n"
      ],
      "metadata": {
        "id": "OFnmsgHhUcmS"
      }
    },
    {
      "cell_type": "markdown",
      "source": [
        "La  siguiente pieza de código tiene la funcionalidad de simplificar el funcionamiento de la implementación recursiva para **no generar el árbol correspondiente** puesto que esto toma un porcentaje considerable del tiempo de ejecución, entorpeciendo la visualización del mismo. A pesar de que la implementación dinámica sí genera (y retorna) el árbol correspondiente, esta última supera con creces a la implementación recursiva, como uno podría esperar.\n",
        "\n",
        "Utilizando la implementación original (presente más arriba en el informe) la generación de un gráfico con los mismos parámetros toma alrededor de una hora."
      ],
      "metadata": {
        "id": "9JY0wiJpWv8W"
      }
    },
    {
      "cell_type": "code",
      "source": [
        "def optimal_bst_rec2(k, d, l = 0, r = -inf, count = False):\n",
        "    if count: global cc;\n",
        "    # Obtener largo automáticamente\n",
        "    if r == -inf: r = len(k)-1\n",
        "\n",
        "    if l>r:     \n",
        "        return OptimalValue(node=None,optimal_cost=0)\n",
        "\n",
        "    if l==r: return OptimalValue(\n",
        "                node=TreeNode(key = k[l], freq = d[l]),\n",
        "                optimal_cost=d[l]\n",
        "                )\n",
        "    # Obtener la suma de los elementos\n",
        "    fsum = sum(d[l:r+1])\n",
        "    Min = inf\n",
        "    for m in range(l, int(r+1)):\n",
        "        if count: cc +=1\n",
        "        ret_left = optimal_bst_rec2(k,d, l = l, r \n",
        "= m-1, count = count)\n",
        "        if count: cc += 1\n",
        "        ret_right = optimal_bst_rec2(k,d, l = m+1, r = r, count = count)\n",
        "        cost = ret_left.optimal_cost + ret_right.optimal_cost\n",
        "        if cost < Min:\n",
        "            Min = cost\n",
        "    return OptimalValue(optimal_cost = Min + fsum, node = None)"
      ],
      "metadata": {
        "id": "gFX8XZUQ8rxt"
      },
      "execution_count": 51,
      "outputs": []
    },
    {
      "cell_type": "markdown",
      "source": [
        "### Comparación de los tiempos de ejecución de ambas implementaciones"
      ],
      "metadata": {
        "id": "KWBLnlEcXY1R"
      }
    },
    {
      "cell_type": "code",
      "source": [
        "#@markdown Código gráfico \n",
        "from timeit import repeat as r\n",
        "from matplotlib import pyplot as plt\n",
        "\n",
        "import random\n",
        "import numpy as np\n",
        "\n",
        "\n",
        "def random_instance(n):\n",
        "    keys = sorted(random.sample(range(1, 100), n))\n",
        "    arr = np.random.random(n*2+1)\n",
        "    arr /= arr.sum()\n",
        "    \n",
        "    p = list(arr[:n]) # Probabilidad de las claves\n",
        "    return keys, p\n",
        "    \n",
        "\n",
        "def load(s):\n",
        "  return \"from __main__ import optimal_bst_\" + s\n",
        "\n",
        "def run(t, k ,p):\n",
        "  return f\"optimal_bst_{t}({k},{p})\"\n",
        "\n",
        "times = 16\n",
        "\n",
        "x = []; y1 = []; y2 = []\n",
        "for i in range(1,times+1):\n",
        "  k, p = random_instance(i)\n",
        "  t1 = r(setup = load(\"dyn\"), stmt = run(\"dyn\", k, p), repeat = 1, number = 1) \n",
        "  t2 = r(setup = load(\"rec2\"), stmt = run(\"rec2\", k, p), repeat = 1, number = 1)\n",
        "  x.append(i);\n",
        "  y1.append(t1)\n",
        "  y2.append(t2)\n",
        "plt.plot(x, y1)\n",
        "plt.plot(x, y2)\n",
        "plt.legend([\"Dinámico\", \"Recursivo\"])\n",
        "plt.show()\n",
        "  \n"
      ],
      "metadata": {
        "colab": {
          "base_uri": "https://localhost:8080/",
          "height": 265
        },
        "id": "566PRAuo6hg2",
        "outputId": "b6488902-0e86-4c21-e090-22b50b0fcc32"
      },
      "execution_count": 52,
      "outputs": [
        {
          "output_type": "display_data",
          "data": {
            "text/plain": [
              "<Figure size 432x288 with 1 Axes>"
            ],
            "image/png": "[encoded data removed]"
          },
          "metadata": {
            "needs_background": "light"
          }
        }
      ]
    },
    {
      "cell_type": "markdown",
      "source": [
        "Naturalmente, la implementación dinámica tiene un tiempo mucho menor que la implementación recursiva. Es posible interpretar que el tiempo de ejecución recursivo incrementa exponencialmente, mas no es posible obtener demasiada información acerca de la implementación. Para facilitar la visualización se observarán ambas curvas por separado."
      ],
      "metadata": {
        "id": "EoWAeUqYbS-L"
      }
    },
    {
      "cell_type": "code",
      "source": [
        "#@markdown Gráfico DP\n",
        "times = 50\n",
        "\n",
        "x = []; y1 = []; y2 = []\n",
        "\n",
        "for i in range(1,times+1):\n",
        "  k, p = random_instance(i)\n",
        "  t1 = r(setup = load(\"dyn\"), stmt = run(\"dyn\", k, p), repeat = 1, number = 10) \n",
        "  x.append(i);\n",
        "  y1.append(t1)\n",
        "plt.plot(x, y1)\n",
        "\n",
        "plt.title(\"Implementación dinámica\")\n",
        "plt.show()"
      ],
      "metadata": {
        "colab": {
          "base_uri": "https://localhost:8080/",
          "height": 281
        },
        "id": "8LBtgDJrboQU",
        "outputId": "aba88f3e-7d7b-426a-e1d8-d73f7e93510e"
      },
      "execution_count": 53,
      "outputs": [
        {
          "output_type": "display_data",
          "data": {
            "text/plain": [
              "<Figure size 432x288 with 1 Axes>"
            ],
            "image/png": "[encoded data removed]"
          },
          "metadata": {
            "needs_background": "light"
          }
        }
      ]
    },
    {
      "cell_type": "markdown",
      "source": [],
      "metadata": {
        "id": "euGL0YYndAXw"
      }
    },
    {
      "cell_type": "code",
      "source": [
        "#@markdown Gráfico recursivo\n",
        "times = 15\n",
        "\n",
        "x = []; y1 = []; y2 = []\n",
        "\n",
        "for i in range(1,times+1):\n",
        "  k, p = random_instance(i)\n",
        "  t1 = r(setup = load(\"rec2\"), stmt = run(\"rec2\", k, p), repeat = 1, number = 10) \n",
        "  x.append(i);\n",
        "  y1.append(t1)\n",
        "plt.plot(x, y1)\n",
        "plt.title(\"Implementación recursiva\")\n",
        "plt.show()"
      ],
      "metadata": {
        "colab": {
          "base_uri": "https://localhost:8080/",
          "height": 281
        },
        "id": "tcj-VoV_cTgn",
        "outputId": "73006dc3-af65-47a3-81ac-b30e9a6b82a1"
      },
      "execution_count": 54,
      "outputs": [
        {
          "output_type": "display_data",
          "data": {
            "text/plain": [
              "<Figure size 432x288 with 1 Axes>"
            ],
            "image/png": "[encoded data removed]"
          },
          "metadata": {
            "needs_background": "light"
          }
        }
      ]
    },
    {
      "cell_type": "markdown",
      "source": [
        "### Selección fija de raíz como el elemento de mayor probabilidad\n"
      ],
      "metadata": {
        "id": "aObu24Kza__b"
      }
    },
    {
      "cell_type": "code",
      "source": [
        "import math\n",
        "from math import inf\n",
        "def fixed_optimal_bst_rec(k, p, l = 0, r = -100, n = -1, count = False):\n",
        "    if r == -100: r = n-1\n",
        "    if count: global cc;\n",
        "    # Obtener largo automáticamente\n",
        "    if l > r : return p[l]\n",
        "\n",
        "    pos = 0; maxp = 0\n",
        "    for i in range(l, r+1):\n",
        "      if p[i] > maxp: \n",
        "        maxp = p[i];\n",
        "        pos = i;\n",
        "    \n",
        "    # Obtener la suma de los elementos\n",
        "    fsum = sum(p)\n",
        "    ret_left = 0\n",
        "    ret_right = 0\n",
        "    if pos - 1 > 0:\n",
        "      ret_left += fixed_optimal_bst_rec(k, p, l = l, r = pos - 1, n = n )\n",
        "    if pos + 1 < n:\n",
        "      ret_right += fixed_optimal_bst_rec(k,p, l = pos+1, r = r, n = n)\n",
        "\n",
        "    cost = ret_left + ret_right\n",
        "\n",
        "    return cost + fsum\n"
      ],
      "metadata": {
        "id": "YbnuS9e6bGny"
      },
      "execution_count": 60,
      "outputs": []
    },
    {
      "cell_type": "code",
      "source": [
        "import numpy as np; from numpy import arange\n",
        "def fixed_optimal_bst_dyn(k, p, n = -1, count = False):\n",
        "  if count: global cc\n",
        "  if n == -1: n = len(k) \n",
        "\n",
        "  e = np.zeros(shape = (n+1, n+1));\n",
        "  w = np.zeros(shape = (n+1, n+1));\n",
        "  root = np.zeros(shape = (n+1, n+1));\n",
        "\n",
        "  pos = 0; maxp = 0\n",
        "  pos2 = 0; maxp2 = 0\n",
        "  for i in range(0, n):\n",
        "    if p[i] > maxp:\n",
        "       maxp = p[i];\n",
        "       pos = i;\n",
        "\n",
        "\n",
        "  for l in arange(1,n+1): #l: longitud del subárbol\n",
        "    for i in arange(n-l+1): #i: Límite izquierdo del subárbol.\n",
        "      j = i + l - 1 #j: Límite derecho del subárbol\n",
        "\n",
        "      w[i][j] = w[i][j-1] + p[j] \n",
        "\n",
        "      for k in range(i, j):\n",
        "        if p[k] > maxp2:\n",
        "         maxp2 = p[i];\n",
        "         pos2 = i;\n",
        "\n",
        "      e[i][j] = e[i][pos2 - 1] + e[pos2 + 1][j] + w[i][j]\n",
        "\n",
        "  return e[0][n-1]\n"
      ],
      "metadata": {
        "id": "c4Yl4zBXDl0-"
      },
      "execution_count": 59,
      "outputs": []
    },
    {
      "cell_type": "code",
      "source": [
        "times = 16\n",
        "\n",
        "x = []; y1 = []; y2 = []\n",
        "for i in range(1,times+1):\n",
        "  k, p = random_instance(i)\n",
        "  t1 = r(setup = load(\"dyn\"), stmt = run(\"dyn\", k, p), repeat = 1, number = 1) \n",
        "  t2 = r(setup = \"from __main__ import fixed_optimal_bst_dyn as optimal_bst_dyn\", stmt = run(\"dyn\", k, p), repeat = 1, number = 10)\n",
        "  x.append(i);\n",
        "  y1.append(t1)\n",
        "  y2.append(t2)\n",
        "plt.plot(x, y1)\n",
        "plt.plot(x, y2)\n",
        "plt.legend([\"Dinámico normal\", \"dinamico modificado\"])\n",
        "plt.show()\n",
        "  "
      ],
      "metadata": {
        "colab": {
          "base_uri": "https://localhost:8080/",
          "height": 265
        },
        "id": "qd_utW7SoblO",
        "outputId": "320f09de-dec5-4f6e-abfc-e766b7f8eac2"
      },
      "execution_count": 57,
      "outputs": [
        {
          "output_type": "display_data",
          "data": {
            "text/plain": [
              "<Figure size 432x288 with 1 Axes>"
            ],
            "image/png": "[encoded data removed]"
          },
          "metadata": {
            "needs_background": "light"
          }
        }
      ]
    },
    {
      "cell_type": "code",
      "source": [
        "times = 10\n",
        "\n",
        "x = []; y1 = []; y2 = []\n",
        "for i in range(1,times+1):\n",
        "  k, p = random_instance(i)\n",
        "  t1 = r(setup = load(\"rec\"), stmt = run(\"rec\", k, p), repeat = 1, number = 10) \n",
        "  t2 = r(setup = \"from __main__ import fixed_optimal_bst_rec as optimal_bst_rec\", stmt = run(\"rec\", k, p), repeat = 1, number = 10)\n",
        "  x.append(i);\n",
        "  y1.append(t1)\n",
        "  y2.append(t2)\n",
        "plt.plot(x, y1)\n",
        "plt.plot(x, y2)\n",
        "plt.legend([\"recursivo normal\", \"recursivo modificado\"])\n",
        "plt.show()\n",
        "  "
      ],
      "metadata": {
        "colab": {
          "base_uri": "https://localhost:8080/",
          "height": 265
        },
        "id": "dG9cPsX7t8Mc",
        "outputId": "38afc172-dfdb-4f53-ad20-34481ab1e90c"
      },
      "execution_count": 61,
      "outputs": [
        {
          "output_type": "display_data",
          "data": {
            "text/plain": [
              "<Figure size 432x288 with 1 Axes>"
            ],
            "image/png": "[encoded data removed]"
          },
          "metadata": {
            "needs_background": "light"
          }
        }
      ]
    },
    {
      "cell_type": "markdown",
      "source": [
        "Es posible observar que la modificacion favorece al tiempo en la solucion recursiva. Mas no en la dinamica. Esto es debido a que tiene una complejidad lineal en la nueva recursiva y una cuadratica en la nueva dinamica. Por lo que los resultados son los esperados. Si bien en una de estas se favorece el tiempo. El costo del arbol sera mayor en la mayoria de los casos puesto que no siempre se estara trabajando con el arbol optimo.\n",
        "\n",
        "Considero que es mejor trabajar la solucion dinamica para casos generales puesto que presenta un tiempo de ejecucion menor, ademas de permitir la optimizacion de Knuth. La cual lleva el tiempo de ejecucion a $n^2$."
      ],
      "metadata": {
        "id": "pOX7wyf7uc0A"
      }
    }
  ]
}