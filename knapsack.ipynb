{
  "nbformat": 4,
  "nbformat_minor": 0,
  "metadata": {
    "colab": {
      "provenance": [],
      "collapsed_sections": [],
      "authorship_tag": "ABX9TyPE0NlZkJ7wJkETmk4xmt+X",
      "include_colab_link": true
    },
    "kernelspec": {
      "name": "python3",
      "display_name": "Python 3"
    },
    "language_info": {
      "name": "python"
    }
  },
  "cells": [
    {
      "cell_type": "markdown",
      "metadata": {
        "id": "view-in-github",
        "colab_type": "text"
      },
      "source": [
        "<a href=\"https://colab.research.google.com/github/cykrr/ada/blob/master/knapsack.ipynb\" target=\"_parent\"><img src=\"https://colab.research.google.com/assets/colab-badge.svg\" alt=\"Open In Colab\"/></a>"
      ]
    },
    {
      "cell_type": "markdown",
      "source": [
        "# El problema de la mochila"
      ],
      "metadata": {
        "id": "_l4ORG8rgP-W"
      }
    },
    {
      "cell_type": "markdown",
      "source": [
        "El problema de la mochila, también conocido como Knapsack problem es un problema\n",
        "de optimización combinatoria."
      ],
      "metadata": {
        "id": "dxDML7hegde2"
      }
    },
    {
      "cell_type": "markdown",
      "source": [
        "## Descripción del problema"
      ],
      "metadata": {
        "id": "PECtnqVmgVcN"
      }
    },
    {
      "cell_type": "markdown",
      "source": [
        "Se define una mochila con una capacidad de $m$ unidades de peso. Además de una\n",
        "secuencia de $n$ elementos, cada uno con un peso $p$ y un valor $v$. Se busca\n",
        "una sub-secuencia de elementos de forma que se maximice la ganancia y no se\n",
        "sobrepase el límite de $m$ unidades de peso.\n",
        "\n",
        "**Entrada:** Capacidad de la mochila $m$ y una secuencia de elementos $E$\n",
        "\n",
        "**Salida:** Ganancia máxima calculada"
      ],
      "metadata": {
        "id": "4C4qOjCagott"
      }
    },
    {
      "cell_type": "markdown",
      "source": [
        "### Variaciones del problema\n",
        "\n",
        "Existen varias formas de interpretar dicho problema, las más comunes y las que\n",
        "se analizaran en el presente informe son las siguientes.\n",
        "\n",
        "#### Problema de la mochila $0-1$\n",
        "\n",
        "El problema de la mochila $0-1$ consiste en limitar el problema a elementos\n",
        "enteros. Es decir, solo es posible tomar la totalidad del elemento dentro de la\n",
        "mochila.\n",
        "\n",
        "#### Problema de la mochila fraccional\n",
        "\n",
        "A diferencia del problema $0-1$, en el problema fraccional se considera la\n",
        "posibilidad de tomar una fracción del elemento para llenar el último hueco de\n",
        "la mochila. _Hence the name_."
      ],
      "metadata": {
        "id": "Mvm2DuxlifiN"
      }
    },
    {
      "cell_type": "markdown",
      "source": [
        "## Ejemplo del problema\n",
        "\n",
        "Se toma como ejemplo una mochila de $15$ kg y la siguiente tabla de valores para\n",
        "los elementos.\n",
        "\n",
        "|$i$|$p \\space \\text {(kg)}$|$v \\space \\text {(\\$)}$|\n",
        "|---|---|---|\n",
        "|0|1|1|\n",
        "|1|2|1|\n",
        "|2|2|2|\n",
        "|3|4|10|\n",
        "|4|12|4|22"
      ],
      "metadata": {
        "id": "wNfANcSLhBUO"
      }
    },
    {
      "cell_type": "markdown",
      "source": [
        "La configuración óptima de elementos sería una sub-secuencia tal que se obvie el\n",
        "último elemento, esto debido a que dicho elemento tiene un peso elevado y una\n",
        "ganancia reducida. Si se tomara el último elemento, la máxima ganancia posible\n",
        "sería de $\\$7$. A diferencia de los $\\$14$ obtenibles excluyendo dicho elemento."
      ],
      "metadata": {
        "id": "kKXsb4LshrF1"
      }
    },
    {
      "cell_type": "markdown",
      "source": [
        "## Estructura óptima del problema\n",
        "\n",
        "Se considera la carga cuyo retorno es máximo con un peso de a lo sumo $P$ unidades.\n",
        "\n",
        "Para el problema $0-1$ se considera la eliminación de un elemento $k$, se\n",
        "requiere que la carga restante sea aquella de máximo retorno con un peso de a\n",
        "lo sumo $P- \\text{k.peso}$ para los $n-1$ elementos originales, obviando $k$.\n",
        "\n",
        "Para el problema fraccional, se considera una fracción del último elemento $k$\n",
        "con un peso $\\text{k.peso}$. De la sub-secuencia óptima de elementos se elimina la fracción\n",
        "de $k$, de forma que la carga restante debe ser de retorno máximo con un peso de\n",
        "a lo más $\\text{P - k.peso}$\n",
        "\n",
        "\n",
        "Si bien ambos problemas presentan una sub-estructura óptima similar, **sólo es\n",
        "posible resolver el problema fraccional con un enfoque greedy**."
      ],
      "metadata": {
        "id": "-nc244Q3h_rP"
      }
    },
    {
      "cell_type": "markdown",
      "source": [
        "## Descripción del algoritmo (greedy $0-1$)\n",
        "\n",
        "Para resolver el problema $0-1$ con un enfoque greedy se ordena el arreglo de elementos de entrada por el ratio $\\text{peso} \\div \\text{valor}$, luego se añaden los elementos en la mochila en dicho orden, en medida que el tamaño del objeto $k$ a añadir no sobrepase el peso disponible $P$. Es por este motivo que el resultado de dicha operación no es óptimo.\n",
        "\n",
        "## Descripción del algoritmo (DP $0-1$)\n",
        "\n",
        "Para el enfoque de programación dinámica (DP) se crea una tabla para resolver los sub-problemas por medio de **memoización**, cuyas dimensiones son $m+1 \\times n+1$, siendo las filas cada peso posible desde $1$ hasta $m$. Mientras que las columnas corresponden a los $n$ elementos de entrada.\n",
        "\n",
        "Posteriormente se recorre la matriz $M$ y se aplica la función de recursividad. La cual en base a la sección anterior y siendo $El$ el arreglo de elementos, se define como:\n",
        "\n",
        "$$\n",
        "M[i, p] = \\left\\{ \n",
        "\\begin{array}{ll}\n",
        "0  &\\text{si} \\space  i = 0 \\space \\lor \\space p = 0 \\\\\n",
        "M[i-1, p] &\\text{si} \\space  El[i].\\text{peso} > p \\\\\n",
        "max(M[i-1, p], M[i-1, p-El[i].\\text{peso}] + v[i]) &\\text{si} \\space  El[i].\\text{peso} \\leq p \\\\\n",
        "\\end{array}\n",
        "\\right\\}\n",
        "$$\n",
        "\n",
        "Se inicializan los problemas de tamaño 0 con un 0. Luego, si el peso del elemento $k$ es menor o igual al peso máximo $m$ se elige el máximo entre la última y la antepenúltima junto con el valor del elemento a añadir. Si el peso sobrepasa el límite, se utiliza la solución anterior.\n",
        "\n",
        "Una vez resuelto el problema $M[n, m]$, se retorna dicho valor, en esta casilla se encuentra la ganancia máxima calculada."
      ],
      "metadata": {
        "id": "fDmPYhPZQsKu"
      }
    },
    {
      "cell_type": "markdown",
      "source": [
        "## Incorrectitud de $0-1$ greedy\n",
        "\n",
        "La principal diferencia entre el problema $0-1$ y el problema fraccional es, como se ha mencionado anterioremente, que no es posible tomar fracción del elemento en el problema $0-1$.\n",
        "\n",
        "Existe la posibilidad de que un elemento  $k$ presente el ratio $\\text{k.peso/k.valor}$ más elevado de la secuencia de elementos de entrada y que este **no forme parte de la sub-secuencia óptima de elementos**, esto es demostrable por medio de un contraejemplo.\n",
        "\n",
        "Se considera una mochila de capacidad $m=30 \\space kg$ y la siguiente tabla de\n",
        "elementos de entrada\n",
        "\n",
        "|$i$|$p \\space \\text {(kg)}$|$v \\space \\text {(\\$)}$|\n",
        "|---|---|---|\n",
        "|0|5|50|\n",
        "|1|20|140|\n",
        "|2|10|60|\n",
        "\n",
        "\n",
        "Al utilizar un enfoque greedy, se elegirían los dos primeros elementos en el\n",
        "orden descendente por el ratio, correspondiente a los dos primeros elementos,\n",
        "generando una ganancia de $\\$190$. Sin embargo la solución óptima a este problema consiste en la elección de los dos últimos elementos, con una ganancia óptima de $\\$200$."
      ],
      "metadata": {
        "id": "UBY7AVZTkqsR"
      }
    },
    {
      "cell_type": "markdown",
      "source": [
        "## Correctitud de $0-1$ DP\n",
        "\n",
        "\n"
      ],
      "metadata": {
        "id": "7mP3xafOi4AJ"
      }
    },
    {
      "cell_type": "markdown",
      "source": [
        "**Hipotesis**: El algoritmo retorna una ganancia óptima correctamente de manera que la suma total de los valores de los elementos sea máxima.\n",
        "\n",
        "\n",
        "Casos base: \n",
        "\n",
        "$P[0,j] \\lor P[i,0]$ tamaño de mochila cero o ausencia de elementos, se resuelve un subproblema de tamaño cero con un valor cero.\n",
        "\n",
        "El algoritmo resuelve los sub-problemas de la mochila de manera óptima de forma que la ganancia es máxima. Una vez son resueltos todos los subproblemas es posible solucionar el problema inicial $P(m,n)$\n",
        "\n",
        "**Paso inductivo:** El algoritmo resuelve correctamente $P(m' < m, n)$ en base de los subproblemas de menor tamaño que ya han sido resueltos.\n",
        "\n",
        "Gracias a la estructura óptima del problema se sabe que si $m'$ es correcto, $m$ también lo es.\n",
        "\n",
        "\n",
        "\n",
        "\n",
        "\n",
        "\n"
      ],
      "metadata": {
        "id": "fdaebH0AHVi0"
      }
    },
    {
      "cell_type": "code",
      "source": [
        "class Elemento:\n",
        "  # constructor()\n",
        "    def __init__(self, peso, valor):\n",
        "        self.peso = peso\n",
        "        self.valor = valor\n",
        "        self.ratio = self.valor/self.peso\n",
        "  # toString()\n",
        "    def __str__(self):\n",
        "        return f\"El({self.peso}, {self.valor})\"\n",
        "    def __repr__(self):\n",
        "        return self.__str__()\n",
        "El = Elemento\n"
      ],
      "metadata": {
        "id": "ybj5OMrBjU-W"
      },
      "execution_count": null,
      "outputs": []
    },
    {
      "cell_type": "code",
      "source": [
        "import numpy as np\n",
        "def dp_knap(m, elementos, count = False, v = False):\n",
        "  n = len(elementos);\n",
        "\n",
        "  if count: cc = 0;\n",
        "\n",
        "# Matriz de memoización\n",
        "  M = np.zeros(shape=(n+1, m+1))\n",
        "\n",
        "# Se recorren los subproblemas\n",
        "  for i in range(n+1):\n",
        "    if v: print(f\"Se revisa el {i} elemento\")\n",
        "    if v: print(\"Ganancias maximas: \")\n",
        "    for j in range(m+1):\n",
        "      if count: cc+=1;\n",
        "\n",
        "\n",
        "    # Se definen los casos base\n",
        "      if i == 0 or j == 0:\n",
        "        #  if v: print(\"Caso base\")\n",
        "        M[i][j] = 0 \n",
        "  \n",
        "    # Si el peso es menor al tope del subproblema\n",
        "      elif elementos[i-1].peso <= j:\n",
        "        #  if v: print(f\"El elemento {i-1} cabe en la mochila\")\n",
        "        M[i][j] = max(\n",
        "            elementos[i-1].valor + M[i-1][j - elementos[i-1].peso],\n",
        "            M[i-1][j]\n",
        "        )\n",
        "    # Si se excede, tomar el anterior\n",
        "      else:\n",
        "        #  if v: print(f\"El elemento {i-1} no cabe, no se guarda en la mochila\")\n",
        "        M[i][j] = M[i-1][j]\n",
        "\n",
        "      if j % 10 == 0 and j != 0 and v:  print()\n",
        "      if v: print(f\"{round(M[i][j]):03d} \", end = \"\")\n",
        "      if j == m and v: print()\n",
        "  # print(M)\n",
        "\n",
        "  if count:\n",
        "    return M[n][m], cc\n",
        "  else:\n",
        "    return M[n][m]\n",
        "\n",
        "\n",
        "e = Elemento #xd\n",
        "v = dp_knap(5, [e(1,60), e(2, 100), e(3, 120)], count = True, v = True);\n",
        "print(v)\n"
      ],
      "metadata": {
        "colab": {
          "base_uri": "https://localhost:8080/"
        },
        "id": "1iK65oQ0jVwn",
        "outputId": "9465f3b3-8703-4d64-c42b-56bfb0e7ddf2"
      },
      "execution_count": null,
      "outputs": [
        {
          "output_type": "stream",
          "name": "stdout",
          "text": [
            "Se revisa el 0 elemento\n",
            "Ganancias maximas: \n",
            "000 000 000 000 000 000 \n",
            "Se revisa el 1 elemento\n",
            "Ganancias maximas: \n",
            "000 060 060 060 060 060 \n",
            "Se revisa el 2 elemento\n",
            "Ganancias maximas: \n",
            "000 060 100 160 160 160 \n",
            "Se revisa el 3 elemento\n",
            "Ganancias maximas: \n",
            "000 060 100 160 180 220 \n",
            "(220.0, 24)\n"
          ]
        }
      ]
    },
    {
      "cell_type": "code",
      "source": [
        "def greedy_knap(m, elementos, count = False, v = False):\n",
        "  # Se ordena el arreglo\n",
        "    if v: print(f\"Se ordena el arreglo {elementos} -> \", end = \"\") \n",
        "    elementos = sorted(elementos, \n",
        "                       key= lambda x: x.ratio,\n",
        "                       reverse= True);\n",
        "    if v: print(f\"{elementos}\")                  \n",
        "  # Valor maximo de ganancia\n",
        "    valor = .0\n",
        "\n",
        "    if count: cc = 0\n",
        "\n",
        "  # Para cada elemento\n",
        "    for elemento in elementos:\n",
        "        if count: cc += 1\n",
        "        if v: print(f\"Para el elemento {elemento}\")\n",
        "      # Si su peso es menor al espacio disponible\n",
        "        if (elemento.peso <= m):\n",
        "            if v: print(f\"Cabe en la mochila, se reduce el peso en {elemento.peso}\" + \n",
        "                  f\" y se aumenta la ganancia en {elemento.valor}\");\n",
        "\n",
        "        # reducir el espacio disponible y contabilizar la ganancia\n",
        "            m -= elemento.peso;\n",
        "            valor += elemento.valor\n",
        "        else: print(f\"El elemento de peso {elemento.peso} no cabe en la mochila :(\")\n",
        "            \n",
        "    if count: return valor, cc\n",
        "    return valor\n",
        "\n",
        "e = Elemento\n",
        "\n",
        "v = greedy_knap(5, [e(1,60), e(2, 100), e(3, 120)], count = True, v = True);\n",
        "print(v)\n"
      ],
      "metadata": {
        "colab": {
          "base_uri": "https://localhost:8080/"
        },
        "id": "jz9AVeuGmKZk",
        "outputId": "229d7441-4b9e-4282-f82d-5ea18f40eecb"
      },
      "execution_count": null,
      "outputs": [
        {
          "output_type": "stream",
          "name": "stdout",
          "text": [
            "Se ordena el arreglo [El(1, 60), El(2, 100), El(3, 120)] -> [El(1, 60), El(2, 100), El(3, 120)]\n",
            "Para el elemento El(1, 60)\n",
            "Cabe en la mochila, se reduce el peso en 1 y se aumenta la ganancia en 60\n",
            "Para el elemento El(2, 100)\n",
            "Cabe en la mochila, se reduce el peso en 2 y se aumenta la ganancia en 100\n",
            "Para el elemento El(3, 120)\n",
            "El elemento de peso 3 no cabe en la mochila :(\n",
            "(160.0, 3)\n"
          ]
        }
      ]
    },
    {
      "cell_type": "markdown",
      "source": [
        "## Tiempo de ejecución\n",
        "\n",
        "### Greedy 0-1\n",
        "\n",
        "**Teorema**: El algoritmo greedy 0-1 tiene un tiempo de ejecución $O(n \\cdot\n",
        "log (n))$\n",
        "\n",
        "**Prueba del teorema**: \n",
        "\n",
        "El algoritmo ordena los elementos con un costo $O(n \\cdot log(n))$ (QuickSort),\n",
        "por otro lado, obtener la solución final del problema tiene un costo $O(n)$. Por\n",
        "lo que la cota asintótica del algoritmo 0-1 greedy es $O(n \\cdot log (n))$.\n"
      ],
      "metadata": {
        "id": "ha1WjEi7yvCL"
      }
    },
    {
      "cell_type": "markdown",
      "source": [
        "### DP 0-1\n",
        "\n",
        "**Teorema**: El algoritmo DP 0-1 tiene un tiempo de ejecución $O(nm)$\n",
        "\n",
        "**Prueba del teorema**:\n",
        "\n",
        "Es sabido que el tiempo de ejecución de un algoritmo de\n",
        "programación está directamente relacionado con la resolución de subproblemas y el tiempo que toma resolver cada uno. Al utilizar memoización para resolver el\n",
        "problema actual en base a los subproblemas se sabe que el costo de resolver un (sub-problema) es constante $O(1)$ y que cada subproblema se resuelve una única vez. De esto se obtiene que \n",
        "\n",
        "$$\n",
        "T(n, m) = O(1) \\cdot C(n, m)\n",
        "$$\n",
        "\n",
        "Siendo $C(n, m)$ la cantidad de subproblemas a resolver.\n",
        "\n",
        "Para cada elemento en el rango $1..n$ el peso puede variar en el rango $1..m$, de forma que\n",
        "\n",
        "$$\n",
        "C(n,m)=nm\n",
        "$$\n",
        "\n",
        "Por lo que $T(n, m) = O(nm)$."
      ],
      "metadata": {
        "id": "MqCqyLRFih9z"
      }
    },
    {
      "cell_type": "markdown",
      "source": [
        "## Experimentos\n",
        "\n",
        "### Comparación de los tiempos de ejecución greedy y DP en 0-1\n",
        "\n"
      ],
      "metadata": {
        "id": "yay5g5d7nsda"
      }
    },
    {
      "cell_type": "code",
      "source": [
        "import matplotlib.pyplot as plt\n",
        "import datetime\n",
        "from timeit import repeat\n",
        "import random\n",
        "  \n",
        "x=[]; y=[]\n",
        "y1=[]\n",
        "for n in range(5, 100):\n",
        "\n",
        "  peso = random.sample(range(1, 100), 50)\n",
        "  valor = random.sample(range(1, 100), 50)\n",
        "\n",
        "  elementos = []\n",
        "  for i in range(50):\n",
        "    elementos.append(Elemento(peso[i], valor[i]))\n",
        "\n",
        "  \n",
        "  w = 50 + n\n",
        "\n",
        "  t1 = repeat(setup=\"from __main__ import greedy_knap, Elemento as El\", stmt=f\"greedy_knap({w}, {elementos})\", repeat=1, number=10)\n",
        "  t2 = repeat(setup=\"from __main__ import dp_knap, Elemento as El\", stmt=f\"dp_knap({w}, {elementos})\", repeat=1, number=10)\n",
        "  x.append(n)\n",
        "  y.append(t1)\n",
        "  y1.append(t2)\n",
        "\n",
        "\n",
        "plt.plot(x, y)\n",
        "plt.plot(x, y1)\n",
        "plt.legend([\"Greedy\", \"Dinámico\"])\n",
        "\n",
        "plt.xlabel('Tamaño de la mochila')\n",
        "plt.ylabel('Tiempo en ms')\n",
        "plt.show()"
      ],
      "metadata": {
        "colab": {
          "base_uri": "https://localhost:8080/",
          "height": 279
        },
        "id": "bN6PgXDan4Oa",
        "outputId": "5a042b81-0885-4d24-c08c-627f4521a6cb"
      },
      "execution_count": null,
      "outputs": [
        {
          "output_type": "display_data",
          "data": {
            "text/plain": [
              "<Figure size 432x288 with 1 Axes>"
            ],
            "image/png": "[encoded data removed]"
          },
          "metadata": {
            "needs_background": "light"
          }
        }
      ]
    },
    {
      "cell_type": "markdown",
      "source": [
        "Se observa que el algoritmo dinámico es mucho más lento que el algoritmo greedy. Esto concuerda con en analisis teórico, puesto que $O(nm)$ > $O(n log(n))$ en el caso de que $m$ > $log(n)$, esto se cumple la mayoría de las veces puesto que una mochila almacenará múltiples elementos en la mayoría de casos."
      ],
      "metadata": {
        "id": "Dc4wkiQgAuZ9"
      }
    },
    {
      "cell_type": "markdown",
      "source": [
        "### Cantidad de iteraciones / subproblemas\n",
        "\n"
      ],
      "metadata": {
        "id": "PPmdjJawezpQ"
      }
    },
    {
      "cell_type": "code",
      "source": [
        "import matplotlib.pyplot as plt\n",
        "import datetime\n",
        "from timeit import repeat\n",
        "import random\n",
        "\n",
        "import random\n",
        "\n",
        "def knapsack_instance_generator(N):\n",
        "  val = []\n",
        "  wt = []\n",
        "  prev_v = 0\n",
        "  prev_w = 0\n",
        "  for i in range(N):\n",
        "    v = random.randint(1, 100)\n",
        "    val.append(prev_v + v)\n",
        "    prev_v += v\n",
        "    \n",
        "    w = random.randint(1, 10)\n",
        "    wt.append(prev_w + w)\n",
        "    if (v >= 50):\n",
        "        prev_w += w\n",
        "\n",
        "  W = int(sum(wt) / 2)\n",
        "  return W, val, wt\n",
        "\n",
        "\n",
        "  \n",
        "x=[]; y1=[]\n",
        "y2=[]\n",
        "for n in range(5, 100):\n",
        "  w, val, weight = knapsack_instance_generator(n);\n",
        "  els = []\n",
        "  for i in range(len(val)):\n",
        "    els.append(Elemento(weight[i], val[i]))\n",
        "  gain, count = dp_knap(w, els, count = True)\n",
        "  y1.append(count);\n",
        "  gain, count = greedy_knap(w, els, count = True)\n",
        "  y2.append(count);\n",
        "  x.append(n)\n",
        "\n",
        "\n",
        "\n",
        "plt.plot(x, y2)\n",
        "plt.plot(x, y1)\n",
        "plt.legend([\"Greedy\", \"Dinámico\"])\n",
        "\n",
        "plt.xlabel('Tamaño del problema')\n",
        "plt.ylabel('cantidad de subproblemas/comparaciones')\n",
        "plt.show()"
      ],
      "metadata": {
        "colab": {
          "base_uri": "https://localhost:8080/",
          "height": 279
        },
        "outputId": "f73a9e94-bebb-4a9f-c9bf-eb056d1f66b3",
        "id": "g6iVgR2BuZkI"
      },
      "execution_count": null,
      "outputs": [
        {
          "output_type": "display_data",
          "data": {
            "text/plain": [
              "<Figure size 432x288 with 1 Axes>"
            ],
            "image/png": "[encoded data removed]"
          },
          "metadata": {
            "needs_background": "light"
          }
        }
      ]
    },
    {
      "cell_type": "markdown",
      "source": [
        "Se observa que, el algoritmo es mucho más eficiente en términos de instrucciones/operaciones, si bien el algoritmo entrega una solución óptima, lo hace en un tiempo elevado tomando como referencia la cantidad de operaciones del algoritmo greedy. Además, el algoritmo greedy entrega un 50% de optimalidad de ganancia, haciendo a este mismo una opción tentativa en el caso de que el tiempo sea una limitante."
      ],
      "metadata": {
        "id": "lQydnnFWxhxy"
      }
    },
    {
      "cell_type": "markdown",
      "source": [
        "### Comparación de la ganancia máxima obtenida de cada algoritmo"
      ],
      "metadata": {
        "id": "9Z-DupnuyOru"
      }
    },
    {
      "cell_type": "code",
      "source": [
        "x=[]; y1=[]\n",
        "y2=[]\n",
        "for n in range(1, 16):\n",
        "  w, val, weight = knapsack_instance_generator(n);\n",
        "  els = []\n",
        "  for i in range(len(val)):\n",
        "    els.append(Elemento(weight[i], val[i]))\n",
        "  gain, count = dp_knap(w, els, count = True)\n",
        "  y1.append(gain);\n",
        "  gain, count = greedy_knap(w, els, count = True)\n",
        "  y2.append(gain);\n",
        "  x.append(n)\n",
        "\n",
        "\n",
        "\n",
        "plt.plot(x, y2)\n",
        "plt.plot(x, y1)\n",
        "plt.legend([\"Greedy\", \"Dinámico\"])\n",
        "\n",
        "plt.xlabel('Tamaño del problema')\n",
        "plt.ylabel('ganancia')\n",
        "plt.show()"
      ],
      "metadata": {
        "colab": {
          "base_uri": "https://localhost:8080/",
          "height": 279
        },
        "id": "Wj7v0FhrvNeu",
        "outputId": "764223af-a9cd-4bfc-e490-4ffaf33a6066"
      },
      "execution_count": null,
      "outputs": [
        {
          "output_type": "display_data",
          "data": {
            "text/plain": [
              "<Figure size 432x288 with 1 Axes>"
            ],
            "image/png": "[encoded data removed]"
          },
          "metadata": {
            "needs_background": "light"
          }
        }
      ]
    },
    {
      "cell_type": "markdown",
      "source": [
        "Se observa que para conjuntos aleatorios de elementos, muchas veces ambos algoritmos retornarán el mismo valor de ganancia, mientras que en el resto de veces, el algoritmo greedy falla a la hora de entregar un resultado óptimo. Asumo que este comportamiento es debido a la naturaleza aleatoria del set de datos."
      ],
      "metadata": {
        "id": "wIq7frWO1YCD"
      }
    },
    {
      "cell_type": "code",
      "source": [],
      "metadata": {
        "id": "PUIHc9JK2Df4"
      },
      "execution_count": null,
      "outputs": []
    }
  ]
}