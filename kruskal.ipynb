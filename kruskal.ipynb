{
 "cells": [
  {
   "cell_type": "markdown",
   "metadata": {},
   "source": [
    "# Algoritmo de Kruskal\n",
    "\n",
    "El algoritmo de Kruskal fue desarrollado con el objetivo de dar solución al problema del árbol recubridor mínimo\n",
    "\n",
    "## Descripción del problema:  \n",
    "\n",
    "El árbol recubridor mínimo consiste en un subgrafo que cumple con la estructura de un árbol, una de las características de este árbol es que conecta todos los nodos del grafo base.\n",
    "\n",
    "De manera formal: Dado un grafo  $G(V,E)$  conexo y ponderado, siendo  V  la cantidad de nodos y  E  la cantidad de arcos, se busca un subgrafo  $\\text{G′}(V,E')$  de forma que el costo de recorrer la totalidad de los nodos sea mínimo. Todo grafo  $G$  tiene un arbol recubridor mínimo $G$′, esto es fácilmente demostrable por medio de inducción matemática. Un bosque corresponde a un árbol recubridor mínimo para cada componente conexo.\n",
    "\n",
    "## Descripción del algoritmo:\n",
    "\n",
    "El algoritmo de Kruskal es un algoritmo greedy. Para resolver el problema, se ordenan los arcos en orden ascendente en una cola, para cada arco sacado de la cola se realiza el siguiente criterio: Si el arco conecta dos árboles diferentes, se guarda en la solución, uniendo ambos árboles. Si por el contrario el arco no conecta dos árboles distintos (es decir, forma un ciclo) este es descartado de la solución.\n",
    "\n",
    "Una vez finalizado el algoritmo se retorna el único bosque presente, el cual corresponde al árbol recubridor mínimo del grafo.\n",
    "\n",
    "## Ejemplo del problema: \n",
    "\n",
    "Suponga el siguiente grafo \n",
    "\n",
    "![](pics/path111.png)"
   ]
  },
  {
   "cell_type": "markdown",
   "metadata": {},
   "source": [
    "Para formar el árbol se elige el primer arco en orden ascendente. En este caso el arco  $CE$. Como es el primero, es imposible que se genere un ciclo así que se añade a la solución.\n",
    "\n",
    "![](pics/path112.png)\n",
    "\n",
    "Se elige el siguiente arco menor, cuyo valor es de 2. De nuevo no se forman ciclos.\n",
    "\n",
    "![](pics/path113.png)\n",
    "\n",
    "para la siguiente iteración es posible elegir cualquiera entre aquellos arcos de valor tres, por conveniencia se eligirá el arco  $BE$ , el cual genera una conexión entre dos árboles y no crea ciclos.\n",
    "\n",
    "![](pics/path114.png)\n",
    "\n",
    "\n",
    "Ahora corresponde trabajar con el resto de arcos de valor $3$. Se selecciona aquel arco transversal  $AC$ . Note como esta conexión genera un ciclo entre los árboles presentes, por lo que no se considerará en la solución final.\n",
    "\n",
    "\n",
    "![](pics/path115.png)\n",
    "\n",
    "Se selecciona el último arco de valor 3, el cual no genera ciclos por lo que se incluye en la solución.\n",
    "\n",
    "\n",
    "![](pics/path116.png)\n",
    "\n",
    "Se continua con aquel arco  BC  de valor 4. Este arco genera un ciclo entre los nodos  BCE . Por lo que no se incluirá en la solución.\n",
    "\n",
    "\n",
    "![](pics/path117.png)\n",
    "\n",
    "Lo mismo ocurre para el arco  DC . Se genera un ciclo con la totalidad de los nodos, por lo que nuevamente no se incluye. \n",
    "\n",
    "\n",
    "Se han recorrido todos los arcos, por lo que la solución final corresponde a:\n",
    "\n",
    "\n",
    "![](pics/path118.png)\n",
    "\n",
    "\n",
    "El algoritmo podría haber haber terminado su ejecución satisfactoriamente en el momento que \n",
    "$V-1$ arcos forman parte de la solución, el resto de las iteraciones son con el\n",
    "objetivo de clarificar el funcionamiento del algoritmo y no son necesarias."
   ]
  },
  {
   "cell_type": "markdown",
   "metadata": {},
   "source": [
    "## Complejidad espacial\n",
    "\n",
    "Se requiere de un espacio de $O(v)$, necesario para realizar un seguimiento de todos los vértices al principio y los subconjuntos respectivos.\n",
    "\n",
    "Por otro lado se requiere $O(e)$, necesario para realizar un seguimiento de todos los arcos ordenados que se incluyen en ARB (árbol recubridor mínimo).\n",
    "\n",
    "Por lo que la complejidad espacial del algoritmo es $O(v + e)$.\n",
    "\n",
    "## Complejidad temporal\n",
    "\n",
    "**Teorema**: El algoritmo de kruskal posee un tiempo de ejecución de $\\Theta(E \\cdot log(V))$\n",
    "\n",
    "\n",
    "Para poder explicar el tiempo de ejecución del algoritmo de kruskal hay que explicar el tiempo de ejecución de la operación `union-find`\n",
    "\n",
    "$O(log(E))$ al máximo para la primera iteración \n",
    "\n",
    "$O(log(E))$ al máximo para la segunda iteración \n",
    "\n",
    "Esto se repite un total de $V-1$ veces, lo cual es dependiente de $E$.\n",
    "De lo anterior se obtiene $T(n) = O(e \\cdot log(e)) + V + O(e \\cdot log(e)) + O(e \\cdot log(e))$\n",
    "Lo que es equivalente a la cota $\\Theta(e \\cdot log(e))$\n",
    "\n",
    "Se continua con el algoritmo de kruskal\n",
    "\n"
   ]
  },
  {
   "cell_type": "markdown",
   "metadata": {},
   "source": []
  }
 ],
 "metadata": {
  "kernelspec": {
   "display_name": "Python 3.10.7 64-bit",
   "language": "python",
   "name": "python3"
  },
  "language_info": {
   "name": "python",
   "version": "3.10.7"
  },
  "orig_nbformat": 4,
  "vscode": {
   "interpreter": {
    "hash": "767d51c1340bd893661ea55ea3124f6de3c7a262a8b4abca0554b478b1e2ff90"
   }
  }
 },
 "nbformat": 4,
 "nbformat_minor": 2
}
