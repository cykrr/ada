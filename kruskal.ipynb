{
 "cells": [
  {
   "cell_type": "markdown",
   "metadata": {},
   "source": [
    "# Algoritmo de Kruskal\n",
    "\n",
    "El algoritmo de Kruskal fue desarrollado con el objetivo de dar solución al problema del árbol recubridor mínimo\n",
    "\n",
    "## Descripción del problema:  \n",
    "\n",
    "El árbol recubridor mínimo consiste en un subgrafo que cumple con la estructura de un árbol, una de las características de este árbol es que conecta todos los nodos del grafo base.\n",
    "\n",
    "De manera formal: Dado un grafo  $G(V,E)$  conexo y ponderado, siendo  V  la cantidad de nodos y  E  la cantidad de arcos, se busca un subgrafo  $\\text{G′}(V,E')$  de forma que el costo de recorrer la totalidad de los nodos sea mínimo. Todo grafo  $G$  tiene un arbol recubridor mínimo $G$′, esto es fácilmente demostrable por medio de inducción matemática. Un bosque corresponde a un árbol recubridor mínimo para cada componente conexo.\n",
    "\n",
    "## Descripción del algoritmo:\n",
    "\n",
    "El algoritmo de Kruskal es un algoritmo greedy. Para resolver el problema, se ordenan los arcos en orden ascendente en una cola, para cada arco sacado de la cola se realiza el siguiente criterio: Si el arco conecta dos árboles diferentes, se guarda en la solución, uniendo ambos árboles. Si por el contrario el arco no conecta dos árboles distintos (es decir, forma un ciclo) este es descartado de la solución.\n",
    "\n",
    "Una vez finalizado el algoritmo se retorna el único bosque presente, el cual corresponde al árbol recubridor mínimo del grafo.\n",
    "\n",
    "## Ejemplo del problema: \n",
    "\n",
    "Suponga el siguiente grafo \n",
    "\n",
    "![](pics/path111.png)"
   ]
  },
  {
   "cell_type": "markdown",
   "metadata": {},
   "source": [
    "Para formar el árbol se elige el primer arco en orden ascendente. En este caso el arco  $CE$. Como es el primero, es imposible que se genere un ciclo así que se añade a la solución.\n",
    "\n",
    "![](pics/path112.png)\n",
    "\n",
    "Se elige el siguiente arco menor, cuyo valor es de 2. De nuevo no se forman ciclos.\n",
    "\n",
    "![](pics/path113.png)\n",
    "\n",
    "para la siguiente iteración es posible elegir cualquiera entre aquellos arcos de valor tres, por conveniencia se eligirá el arco  $BE$ , el cual genera una conexión entre dos árboles y no crea ciclos.\n",
    "\n",
    "![](pics/path114.png)\n",
    "\n",
    "\n",
    "Ahora corresponde trabajar con el resto de arcos de valor $3$. Se selecciona aquel arco transversal  $AC$ . Note como esta conexión genera un ciclo entre los árboles presentes, por lo que no se considerará en la solución final.\n",
    "\n",
    "\n",
    "![](pics/path115.png)\n",
    "\n",
    "Se selecciona el último arco de valor 3, el cual no genera ciclos por lo que se incluye en la solución.\n",
    "\n",
    "\n",
    "![](pics/path116.png)\n",
    "\n",
    "Se continua con aquel arco  BC  de valor 4. Este arco genera un ciclo entre los nodos  BCE . Por lo que no se incluirá en la solución.\n",
    "\n",
    "\n",
    "![](pics/path117.png)\n",
    "\n",
    "Lo mismo ocurre para el arco  DC . Se genera un ciclo con la totalidad de los nodos, por lo que nuevamente no se incluye. \n",
    "\n",
    "\n",
    "Se han recorrido todos los arcos, por lo que la solución final corresponde a:\n",
    "\n",
    "\n",
    "![](pics/path118.png)\n",
    "\n",
    "\n",
    "El algoritmo podría haber haber terminado su ejecución satisfactoriamente en el momento que \n",
    "$V-1$ arcos forman parte de la solución, el resto de las iteraciones son con el\n",
    "objetivo de clarificar el funcionamiento del algoritmo y no son necesarias."
   ]
  },
  {
   "cell_type": "markdown",
   "metadata": {},
   "source": [
    "## Complejidad espacial\n",
    "\n",
    "Se requiere de un espacio de $O(v)$, necesario para realizar un seguimiento de todos los vértices al principio y los subconjuntos respectivos.\n",
    "\n",
    "Por otro lado se requiere $O(e)$, necesario para realizar un seguimiento de todos los arcos ordenados que se incluyen en ARB (árbol recubridor mínimo).\n",
    "\n",
    "Por lo que la complejidad espacial del algoritmo es $O(v + e)$.\n",
    "\n",
    "## Complejidad temporal\n",
    "\n",
    "\n",
    "\n",
    "Para poder explicar el tiempo de ejecución del algoritmo de kruskal hay que explicar el tiempo de ejecución de la operación `union-find`\n",
    "\n",
    "$O(log(E))$ al máximo para la primera iteración \n",
    "\n",
    "$O(log(E))$ al máximo para la segunda iteración \n",
    "\n",
    "Se sabe que la cantidad de arcos puede ser a lo máximo $O(V^2)$ y como mínimo $\\Omega(V)$\n",
    "\n",
    "El algoritmo de kruskal primero recorre cada nodo y crea un arbol. Esto tiene complejidad $O(V)$.\n",
    "\n",
    "Posteriormente se ordena el arreglo de $V$ arcos, con quicksort esto tiene una complejidad $O(V \\log(V))$\n",
    "\n",
    "Luego para cada arco $E$ se aplica la operación `union-find`\n",
    "\n",
    "\n",
    "**Teorema**: El algoritmo de kruskal posee un tiempo de ejecución de $\\Theta(E \\cdot log(V))$\n",
    "\n",
    "Se tiene que \n",
    "\n",
    "$$\n",
    "T(n) = O(1) + O(V) + \n",
    "O(V \\log (V)) + \n",
    "O(E) \\cdot O(\\log (V^2))\n",
    "$$\n",
    "\n",
    "$\\log(V^2) = 2 \\log(V)$. Luego\n",
    "\n",
    "$$\n",
    "T(n) = O(1) + O(V) + \n",
    "O(V \\log (V)) + \n",
    "2 \\cdot O(E) \\cdot O(\\log (V))\n",
    "$$"
   ]
  },
  {
   "cell_type": "markdown",
   "metadata": {},
   "source": []
  },
  {
   "cell_type": "markdown",
   "metadata": {},
   "source": [
    "Sabiendo que $E \\leq V^2$"
   ]
  },
  {
   "cell_type": "markdown",
   "metadata": {},
   "source": [
    "$$\n",
    "T(n) = O(E \\log (V))\n",
    "$$"
   ]
  },
  {
   "cell_type": "markdown",
   "metadata": {},
   "source": [
    "## Correctitud del algoritmo\n",
    "\n"
   ]
  },
  {
   "cell_type": "markdown",
   "metadata": {},
   "source": [
    "Primero, $T$ es un árbol recubridor. Esto es porque:\n",
    "\n",
    "\n",
    "*   $T$ es un **bosque**. Nunca se crean ciclos. \n",
    "*   $T$ es **recubridor**. Supongamos que hay un vértice $v$ que no es incidente con los arcos de $T$. Entonces los arcos incidentes de $v$ tienen que haber sido considerados en el algoritmo en algún punto. El primer arco (del orden de arcos) habría sido incluído porque no puede haber creado un ciclo, lo que contradice la definición de $T$.\n",
    "*   $T$ está **conectado**. Supongamos que $T$ no está conectado. Entonces $T$ tiene dos o más componentes conectados. Ya que $G$ está conectado, entonces estos componentes tienen que haber sido conectados por algunos arcos en $G$, no en $T$. El primero de estos arcos (del orden de arcos) habría sido incluído en $T$ porque no podría haber creador un ciclo, lo que contradice la definición de $T$. \n",
    "\n",
    "En segundo lugar, $T$ es un árbol recubridor mínimo. Vamos a comprobar esto ocupando **inducción**. Supongamos que $T$ es un árbol recubridor mínimo. Si $T = T'$, entonces $T$ es un árbol recubridor mínimo. Si $T \\neq T'$, entonces existe un arco $e ∈ T'$ de *peso mínimo* que no está en $T$. Además, $T \\cup e$ contiene un ciclo $C$ de modo que:\n",
    "\n",
    "\n",
    "*   Cada arco en $C$ tiene un peso menor que $wt (e)$ (Esto sigue desde cómo el algoritmo construyó $T$). \n",
    "*   Hay algún arco $f$ en $C$ que no está en $T'$ (Porque $T'$ no tiene el ciclo $C$).\n",
    "\n",
    "Considere el árbol $\\{T_2 = T / {e} ∪ {f}\\}$:\n",
    "\n",
    "\n",
    "\n",
    "*   $T_2$ es un árbol recubridor.\n",
    "*   $T_2$ tiene más arcos en común con $T'$ que con $T$. \n",
    "*   Y $wt(T_2)$ > $wt(T)$ (Intercambiamos un arco con otro que no sea más caro).\n",
    "\n",
    "Podemos rehacer el mismo proceso con $T_2$ para encontrar un árbol recubridor $T_3$ con más arcos en común con $T'$. Por inducción, podemos continuar este proceso hasta que alcancemos $T'$, de lo que vemos:\n",
    "\n",
    "$wt(T) <= wt(T_2) <= wt(T_3) <= ... <= wt(T')$.\n",
    "\n",
    "Ya que $T'$ es un árbol recubridor mínimo, entonces estas desigualdades deben ser igualdades y concluímos que $T$ es un árbol recubridor mínimo. \n"
   ]
  },
  {
   "cell_type": "markdown",
   "metadata": {},
   "source": []
  }
 ],
 "metadata": {
  "kernelspec": {
   "display_name": "Python 3.10.7 64-bit",
   "language": "python",
   "name": "python3"
  },
  "language_info": {
   "name": "python",
   "version": "3.10.8 (main, Oct 16 2022, 10:38:15) [GCC 12.2.0]"
  },
  "orig_nbformat": 4,
  "vscode": {
   "interpreter": {
    "hash": "767d51c1340bd893661ea55ea3124f6de3c7a262a8b4abca0554b478b1e2ff90"
   }
  }
 },
 "nbformat": 4,
 "nbformat_minor": 2
}
